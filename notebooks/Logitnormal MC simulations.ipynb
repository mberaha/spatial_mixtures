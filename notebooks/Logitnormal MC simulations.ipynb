{
 "cells": [
  {
   "cell_type": "code",
   "execution_count": null,
   "metadata": {},
   "outputs": [],
   "source": [
    "import numpy as np\n",
    "import matplotlib.pyplot as plt\n",
    "\n",
    "from scipy.stats import dirichlet\n",
    "import matplotlib.lines\n",
    "import matplotlib.tri as tri\n",
    "\n",
    "from collections import defaultdict\n",
    "import pymc3"
   ]
  },
  {
   "cell_type": "code",
   "execution_count": null,
   "metadata": {},
   "outputs": [],
   "source": [
    "import matplotlib\n",
    "matplotlib.rcParams['text.usetex'] = True\n",
    "TITLE_FONT_SIZE = 14\n",
    "AXIS_FONT_SIZE = 12\n",
    "\n",
    "import seaborn as sns\n",
    "palette = sns.light_palette(\"navy\")"
   ]
  },
  {
   "cell_type": "code",
   "execution_count": null,
   "metadata": {},
   "outputs": [],
   "source": [
    "W = np.array([\n",
    "    [0, 1, 1, 0, 0],\n",
    "    [1, 0, 1, 0, 0],\n",
    "    [1, 1, 0, 0, 0],\n",
    "    [0, 0, 0, 0, 1],\n",
    "    [0, 0, 0, 1, 0]\n",
    "])\n",
    "\n",
    "D = np.diag(np.sum(W, axis=0))"
   ]
  },
  {
   "cell_type": "code",
   "execution_count": null,
   "metadata": {},
   "outputs": [],
   "source": [
    "def alr(theta):\n",
    "    return np.log(theta[:-1] / theta[-1])\n",
    "\n",
    "def inv_alr(x):\n",
    "    theta = np.concatenate([np.exp(x), np.array([1.0])])\n",
    "    return theta / np.sum(theta)"
   ]
  },
  {
   "cell_type": "code",
   "execution_count": null,
   "metadata": {},
   "outputs": [],
   "source": [
    "def sample_cov(x, y):\n",
    "    n = x.size\n",
    "    return np.sum((x - np.mean(x)) * (y - np.mean(y))) / (n - 1)  "
   ]
  },
  {
   "cell_type": "code",
   "execution_count": null,
   "metadata": {},
   "outputs": [],
   "source": [
    "def simulate_one_marginal(A, Sigma, i, nsamples):\n",
    "    dim = Sigma.shape[0]\n",
    "    draws = np.random.multivariate_normal(mean=np.zeros(dim), cov=A[i, i] * Sigma, size=nsamples)\n",
    "    return np.apply_along_axis(inv_alr, 1, draws)\n",
    "\n",
    "def simulate_indep(Sigma, nsamples):\n",
    "    dim = Sigma.shape[0]\n",
    "    draws = np.random.multivariate_normal(mean=np.zeros(dim), cov=Sigma, size=nsamples)\n",
    "    return np.apply_along_axis(inv_alr, 1, draws)\n",
    "\n",
    "# This function simulates from the joint marginal distribution\n",
    "# of (theta_{i}, theta_{j})\n",
    "def simulate_joint_marginal(A, Sigma, i, j, nsamples):\n",
    "    dim = Sigma.shape[0]\n",
    "    cov = np.kron(A[[[i],[j]],[i, j]], Sigma)\n",
    "    draws = np.random.multivariate_normal(mean=np.zeros(2 * dim), cov=cov, size=nsamples)\n",
    "    theta_i = np.apply_along_axis(inv_alr, 1, draws[:, :dim])\n",
    "    theta_j = np.apply_along_axis(inv_alr, 1, draws[:, dim:])\n",
    "    return theta_i, theta_j\n",
    "\n",
    "\n",
    "def simulate_logit_normal(Sigma, nsamples):\n",
    "    dim = Sigma.shape[0]\n",
    "    mean = np.random.normal(loc=0, scale=40, size=dim)\n",
    "    draws = np.random.multivariate_normal(mean=mean, cov=Sigma, size=nsamples)\n",
    "    return np.apply_along_axis(inv_alr, 1, draws)"
   ]
  },
  {
   "cell_type": "code",
   "execution_count": null,
   "metadata": {},
   "outputs": [],
   "source": [
    "# TRIPLOT STUFF\n",
    "\n",
    "corners = np.array([[0, 0], [1, 0], [0.5, 0.75**0.5]])\n",
    "triangle = tri.Triangulation(corners[:, 0], corners[:, 1])\n",
    "midpoints = [(corners[(i + 1) % 3] + corners[(i + 2) % 3]) / 2.0 \\\n",
    "             for i in range(3)]\n",
    "\n",
    "def xy2bc(xy, tol=1.e-3):\n",
    "    '''Converts 2D Cartesian coordinates to barycentric.'''\n",
    "    s = [(corners[i] - midpoints[i]).dot(xy - midpoints[i]) / 0.75 \\\n",
    "         for i in range(3)]\n",
    "    return np.clip(s, tol, 1.0 - tol)\n",
    "\n",
    "SQRT3 = np.sqrt(3)\n",
    "SQRT3OVER2 = SQRT3 / 2.\n",
    "\n",
    "def unzip(l):\n",
    "    return zip(*l)\n",
    "\n",
    "def permute_point(p, permutation=None):\n",
    "    if not permutation:\n",
    "        return p\n",
    "    return [p[int(permutation[i])] for i in range(len(p))]\n",
    "\n",
    "def project_point(p, permutation=None):\n",
    "    permuted = permute_point(p, permutation=permutation)\n",
    "    a = permuted[0]\n",
    "    b = permuted[1]\n",
    "    x = a + b/2.\n",
    "    y = SQRT3OVER2 * b\n",
    "    return np.array([x, y])"
   ]
  },
  {
   "cell_type": "markdown",
   "metadata": {},
   "source": [
    "## $\\tilde w_i \\sim N(0, (D - \\rho W)^{-1}_{ii} \\Sigma)$"
   ]
  },
  {
   "cell_type": "code",
   "execution_count": null,
   "metadata": {},
   "outputs": [],
   "source": [
    "rho = 0.9\n",
    "A = np.linalg.inv(D - rho * W)"
   ]
  },
  {
   "cell_type": "code",
   "execution_count": null,
   "metadata": {},
   "outputs": [],
   "source": [
    "corr = -0.9\n",
    "var = 1\n",
    "Sigma = np.array([[var, corr], [corr, var]])\n",
    "draws = simulate_one_marginal(A, Sigma, 1, 10000)"
   ]
  },
  {
   "cell_type": "code",
   "execution_count": null,
   "metadata": {},
   "outputs": [],
   "source": [
    "i = 1\n",
    "var = 1\n",
    "covs01 = []\n",
    "covs02 = []\n",
    "covs12 = []\n",
    "corrs = np.linspace(-0.99, 0.99, 20)\n",
    "\n",
    "for corr in corrs:\n",
    "    Sigma = np.array([[var, corr], [corr, var]])\n",
    "    #draws = simulate_one_marginal(A, Sigma, i, 10000)\n",
    "    draws = simulate_indep(Sigma, 10000)\n",
    "    covs01.append(sample_cov(draws[:, 0], draws[:, 1]))\n",
    "    covs02.append(sample_cov(draws[:, 0], draws[:, 2]))\n",
    "    covs12.append(sample_cov(draws[:, 1], draws[:, 2]))"
   ]
  },
  {
   "cell_type": "code",
   "execution_count": null,
   "metadata": {},
   "outputs": [],
   "source": [
    "fig, axes = plt.subplots(1, 3, figsize=(10, 3))\n",
    "axes[0].plot(corrs, covs01, color=palette[-1])\n",
    "axes[0].set_title(r\"Cov($w_{{{%i}}1}$, $w_{{{%i}}2}$)\" % (i, i), fontsize=TITLE_FONT_SIZE)\n",
    "axes[0].set_xlabel(r\"$\\Sigma_{12}$\", fontsize=AXIS_FONT_SIZE)\n",
    "\n",
    "axes[1].plot(corrs, covs02, color=palette[-1])\n",
    "axes[1].set_title(r\"Cov($w_{{{%i}}1}$, $w_{{{%i}}3}$)\" % (i, i), fontsize=TITLE_FONT_SIZE)\n",
    "axes[1].set_xlabel(r\"$\\Sigma_{12}$\", fontsize=AXIS_FONT_SIZE)\n",
    "\n",
    "axes[2].plot(corrs, covs12, color=palette[-1])\n",
    "axes[2].set_title(r\"Cov($w_{{{%i}}2}$, $w_{{{%i}}3}$)\" % (i, i), fontsize=TITLE_FONT_SIZE)\n",
    "axes[2].set_xlabel(r\"$\\Sigma_{12}$\", fontsize=AXIS_FONT_SIZE)\n",
    "\n",
    "for i in range(3):\n",
    "    axes[i].axhline(0, color=\"red\", lw=2)\n",
    "    axes[i].set_ylim((-0.06, 0.015))\n",
    "plt.tight_layout()\n",
    "# plt.savefig(\"../images/cov_w1.pdf\")\n",
    "plt.show()"
   ]
  },
  {
   "cell_type": "markdown",
   "metadata": {},
   "source": [
    "## $(\\tilde w_i, w \\theta_j)  \\sim N(0, (D - \\rho W)^{-1}_{(i,j) \\times (i, j)}  \\otimes \\Sigma)$"
   ]
  },
  {
   "cell_type": "code",
   "execution_count": null,
   "metadata": {},
   "outputs": [],
   "source": [
    "i = 0\n",
    "j = 2\n",
    "\n",
    "var = 1\n",
    "rhos = [0.5, 0.75, 0.925, 0.9725, 0.99]\n",
    "corrs = np.linspace(-0.99, 0.99, 20)\n",
    "covs_by_rho = []\n",
    "\n",
    "for rho in rhos:\n",
    "    A = np.linalg.inv(D - rho * W)\n",
    "    covs = defaultdict(list)\n",
    "    for corr in corrs:\n",
    "        Sigma = np.array([[var, corr], [corr, var]])\n",
    "        ws = simulate_joint_marginal(A, Sigma, i, j, 10000)\n",
    "        for l in range(3):\n",
    "            for m in range(3):\n",
    "                covs[(l, m)].append(sample_cov(ws[0][:, l], ws[1][:, m]))\n",
    "    covs_by_rho.append(covs)"
   ]
  },
  {
   "cell_type": "code",
   "execution_count": null,
   "metadata": {},
   "outputs": [],
   "source": [
    "import seaborn as sns\n",
    "\n",
    "fig, axes = plt.subplots(3, 3, figsize=(10, 10))\n",
    "\n",
    "for l in range(3):\n",
    "    for m in range(3):\n",
    "        for k, rho in enumerate(rhos):\n",
    "            covs = covs_by_rho[k]\n",
    "            axes[l][m].plot(corrs, covs[(l, m)], color=palette[k], label=r\"$\\rho = {{%.2f}}$\" % (rho))\n",
    "            axes[l][m].set_title(r\"Cov($w_{{{%i}} {{%i}}}$, $w_{{{%i}} {{%i}}}$)\" % (i+1, l+1, j+1, m+1),\n",
    "                              fontsize=TITLE_FONT_SIZE)\n",
    "            axes[l][m].set_xlabel(r\"$\\Sigma_{12}$\", fontsize=AXIS_FONT_SIZE)\n",
    "            axes[l][m].set_ylim(-0.2, 0.2)\n",
    "            axes[l][m].axhline(0, color=\"red\", lw=1)\n",
    "\n",
    "plt.tight_layout()\n",
    "axes[2][1].legend(loc=\"lower center\", bbox_to_anchor=(0.4, -0.4), ncol=5, fontsize=AXIS_FONT_SIZE+2)\n",
    "\n",
    "plt.savefig('temp.pdf', bbox_inches='tight')\n",
    "# plt.savefig(\"../images/cov_w1_w3.pdf\")\n",
    "plt.show()"
   ]
  },
  {
   "cell_type": "markdown",
   "metadata": {},
   "source": [
    "## Simulation against independent Dirichlet"
   ]
  },
  {
   "cell_type": "code",
   "execution_count": null,
   "metadata": {},
   "outputs": [],
   "source": [
    "Nsamples = 20\n",
    "samplesDir1 = dirichlet.rvs([1, 1, 1], Nsamples)\n",
    "samplesDir2 = dirichlet.rvs([1, 1, 1], Nsamples)"
   ]
  },
  {
   "cell_type": "code",
   "execution_count": null,
   "metadata": {},
   "outputs": [],
   "source": [
    "corr = 0.5\n",
    "var = 1.0\n",
    "Sigma = np.array([[var, corr], [corr, var]])\n",
    "samplesLogit1, samplesLogit2 = simulate_joint_marginal(A, Sigma, 0, 1, Nsamples)"
   ]
  },
  {
   "cell_type": "code",
   "execution_count": null,
   "metadata": {},
   "outputs": [],
   "source": [
    "cmap = matplotlib.cm.get_cmap(\"tab20\")\n",
    "\n",
    "fig, axes = plt.subplots(1, 2, figsize=(11, 5))\n",
    "\n",
    "axes[0].triplot(triangle)\n",
    "axes[1].triplot(triangle)\n",
    "\n",
    "for i in range(Nsamples):\n",
    "    proj1 = project_point(samplesLogit1[i, :])\n",
    "    proj2 = project_point(samplesLogit2[i, :])\n",
    "    \n",
    "    axes[0].plot([proj1[0]], [proj1[1]], marker=\"o\", color=cmap.colors[i], figure=fig)\n",
    "    axes[0].plot([proj2[0]], [proj2[1]], marker=\"o\", color=cmap.colors[i], figure=fig)\n",
    "    axes[0].plot([proj1[0], proj2[0]], [proj1[1], proj2[1]], \"-\", color=cmap.colors[i])\n",
    "    \n",
    "axes[0].set_title(\"LogisticMCAR\")\n",
    "axes[0].set_aspect(\"equal\")\n",
    "    \n",
    "for i in range(Nsamples):\n",
    "    proj1 = project_point(samplesDir1[i, :])\n",
    "    proj2 = project_point(samplesDir2[i, :])\n",
    "    \n",
    "    axes[1].plot([proj1[0]], [proj1[1]], marker=\"o\", color=cmap.colors[i], figure=fig)\n",
    "    axes[1].plot([proj2[0]], [proj2[1]], marker=\"o\", color=cmap.colors[i], figure=fig)\n",
    "    axes[1].plot([proj1[0], proj2[0]], [proj1[1], proj2[1]], \"-\", color=cmap.colors[i])\n",
    "    \n",
    "axes[1].set_title(\"Independent Dirichlet\")\n",
    "axes[1].set_aspect(\"equal\")\n",
    "\n",
    "# plt.savefig(\"../images/triplot.pdf\")\n",
    "plt.show()"
   ]
  },
  {
   "cell_type": "markdown",
   "metadata": {},
   "source": [
    "## Histogram of distances"
   ]
  },
  {
   "cell_type": "code",
   "execution_count": null,
   "metadata": {},
   "outputs": [],
   "source": [
    "Nsamples = 10000\n",
    "samplesDir1 = dirichlet.rvs([1, 1, 1], Nsamples)\n",
    "samplesDir2 = dirichlet.rvs([1, 1, 1], Nsamples)\n",
    "\n",
    "distDir = np.sqrt(np.sum((samplesDir1 - samplesDir2) ** 2, axis=1))"
   ]
  },
  {
   "cell_type": "code",
   "execution_count": null,
   "metadata": {},
   "outputs": [],
   "source": [
    "corr = 0.5\n",
    "Sigma = np.array([[var, corr], [corr, var]])\n",
    "distLogits = []\n",
    "\n",
    "samplesLogit1, samplesLogit2 = simulate_joint_marginal(A, Sigma, 0, 1, Nsamples)\n",
    "distLogits.append(np.sqrt(np.sum((samplesLogit1 - samplesLogit2) ** 2, axis=1)))\n",
    "\n",
    "samplesLogit1, samplesLogit2 = simulate_joint_marginal(A, Sigma, 0, 4, Nsamples)\n",
    "distLogits.append(np.sqrt(np.sum((samplesLogit1 - samplesLogit2) ** 2, axis=1)))"
   ]
  },
  {
   "cell_type": "code",
   "execution_count": null,
   "metadata": {},
   "outputs": [],
   "source": [
    "np.where(distLogits == max(distLogits[1]))"
   ]
  },
  {
   "cell_type": "code",
   "execution_count": null,
   "metadata": {},
   "outputs": [],
   "source": [
    "xlim = max(max(list(map(max, distLogits))), max(distDir))"
   ]
  },
  {
   "cell_type": "code",
   "execution_count": null,
   "metadata": {},
   "outputs": [],
   "source": [
    "fig, axes = plt.subplots(1, 2, figsize=(10, 5))\n",
    "\n",
    "\n",
    "axes[0].hist(distLogits[1], alpha=0.5, label=r\"$d_{15}$\", density=True)\n",
    "axes[0].hist(distLogits[0], alpha=0.5, label=r\"$d_{12}$\", density=True)\n",
    "axes[0].set_title(\"LogisticMCAR\", fontsize=TITLE_FONT_SIZE)\n",
    "\n",
    "axes[1].hist(distDir, density=True, label=r\"$d^\\gamma$\")\n",
    "axes[1].set_title(\"Independent Dirichlet\", fontsize=TITLE_FONT_SIZE)\n",
    "for i in range(2):\n",
    "    axes[i].set_xlim((0, xlim))\n",
    "    axes[i].set_ylim(0, 4)\n",
    "    axes[i].set_ylabel(\"density\", fontsize=TITLE_FONT_SIZE-3)\n",
    "    \n",
    "\n",
    "axes[0].legend(loc=\"upper right\", fontsize=TITLE_FONT_SIZE-2)\n",
    "axes[1].legend(loc=\"upper right\", fontsize=TITLE_FONT_SIZE-2)\n",
    "# plt.savefig(\"../images/distances_hist.pdf\")\n",
    "plt.show()"
   ]
  },
  {
   "cell_type": "code",
   "execution_count": null,
   "metadata": {},
   "outputs": [],
   "source": [
    "import pandas as pd\n",
    "\n",
    "df = pd.DataFrame({\"d12\": distLogits[0], \"d15\": distLogits[1], \"dgamma\": distDir})\n",
    "df.to_csv(\"../data/simulation_distances.csv\")"
   ]
  },
  {
   "cell_type": "markdown",
   "metadata": {},
   "source": [
    "## Sparse Mixtures"
   ]
  },
  {
   "cell_type": "code",
   "execution_count": null,
   "metadata": {},
   "outputs": [],
   "source": [
    "var = 5\n",
    "cov = 0\n",
    "\n",
    "dim = 10\n",
    "Nsamples = 10000\n",
    "Sigma = np.ones((dim -1, dim-1)) * cov\n",
    "for i in range(dim - 1):\n",
    "    Sigma[i, i] = var\n",
    "samplesLogit1 = simulate_logit_normal(Sigma, Nsamples)"
   ]
  },
  {
   "cell_type": "code",
   "execution_count": null,
   "metadata": {},
   "outputs": [],
   "source": [
    "num_nonzero = np.zeros(Nsamples)\n",
    "for i in range(Nsamples):\n",
    "    num_nonzero[i] = len(np.where(samplesLogit1[i, :] > 0.01)[0])\n",
    "    \n",
    "x = np.arange(1, 11)\n",
    "y = np.array([np.sum(num_nonzero == i) for i in x])\n",
    "plt.bar(x, y)\n",
    "plt.show()"
   ]
  },
  {
   "cell_type": "code",
   "execution_count": null,
   "metadata": {},
   "outputs": [],
   "source": [
    "samplesdir = dirichlet.rvs(np.ones(10) / 10, Nsamples)\n",
    "num_nonzero = np.zeros(Nsamples)\n",
    "\n",
    "for i in range(Nsamples):\n",
    "    num_nonzero[i] = len(np.where(samplesdir[i, :] > 0.01)[0])\n",
    "\n",
    "x = np.arange(1, 11)\n",
    "y = np.array([np.sum(num_nonzero == i) for i in x])\n",
    "\n",
    "plt.bar(x, y)\n",
    "plt.show()"
   ]
  },
  {
   "cell_type": "code",
   "execution_count": null,
   "metadata": {},
   "outputs": [],
   "source": [
    "samplesLogit1[0, :]"
   ]
  },
  {
   "cell_type": "code",
   "execution_count": null,
   "metadata": {},
   "outputs": [],
   "source": [
    "fig, axes = plt.subplots(1, 1, figsize=(11, 5))\n",
    "\n",
    "axes.triplot(triangle)\n",
    "\n",
    "for i in range(Nsamples):\n",
    "    proj1 = project_point(samplesLogit1[i, :])\n",
    "\n",
    "    axes.plot([proj1[0]], [proj1[1]], marker=\"o\", figure=fig)\n",
    "\n",
    "axes.set_aspect(\"equal\")\n",
    "plt.show()"
   ]
  },
  {
   "cell_type": "markdown",
   "metadata": {},
   "source": [
    "# Scatter Plot transparency"
   ]
  },
  {
   "cell_type": "markdown",
   "metadata": {},
   "source": [
    "## Our model"
   ]
  },
  {
   "cell_type": "code",
   "execution_count": null,
   "metadata": {},
   "outputs": [],
   "source": [
    "def simulate_with_mean(nsamples, dim=3, sigma=1):\n",
    "    out = np.zeros((nsamples, dim - 1))\n",
    "    for i in range(nsamples):\n",
    "        mean = np.random.normal(loc=0, scale=sigma, size=dim-1)\n",
    "        draw = np.random.multivariate_normal(mean=mean, cov=np.eye(dim-1))\n",
    "        out[i, :] = draw\n",
    "    return np.apply_along_axis(inv_alr, 1, out)"
   ]
  },
  {
   "cell_type": "code",
   "execution_count": null,
   "metadata": {},
   "outputs": [],
   "source": [
    "samples_our = simulate_with_mean(100000)\n",
    "projected_our = np.apply_along_axis(project_point, 1, samples_our)"
   ]
  },
  {
   "cell_type": "markdown",
   "metadata": {},
   "source": [
    "## Jo at al"
   ]
  },
  {
   "cell_type": "code",
   "execution_count": null,
   "metadata": {},
   "outputs": [],
   "source": [
    "def simulate_jo(nsamples, dim=3, a=1, b=1):\n",
    "    mean = np.log(1-1/(1+np.exp(b-a*np.linspace(1,dim-1, dim-1))))\n",
    "    out = np.zeros((nsamples, dim - 1))\n",
    "    for i in range(nsamples):\n",
    "        draw = np.random.multivariate_normal(mean=mean, cov=np.eye(dim-1))\n",
    "        out[i, :] = draw\n",
    "    return np.apply_along_axis(inv_alr, 1, out)"
   ]
  },
  {
   "cell_type": "code",
   "execution_count": null,
   "metadata": {},
   "outputs": [],
   "source": [
    "samples_jo = simulate_jo(100000)\n",
    "projected_jo = np.apply_along_axis(project_point, 1, samples_jo)"
   ]
  },
  {
   "cell_type": "code",
   "execution_count": null,
   "metadata": {},
   "outputs": [],
   "source": [
    "from matplotlib import rc\n",
    "rc(\"text\", usetex=False)\n",
    "fig, axes = plt.subplots(1, 2, figsize=(10, 5))\n",
    "\n",
    "axes[0].axes.triplot(triangle, c='black')\n",
    "axes[0].scatter(projected_our[:, 0], projected_our[:, 1], figure=fig, c='#1f77b4', \n",
    "                alpha=0.005)\n",
    "axes[0].set_title('Our Model', fontsize=TITLE_FONT_SIZE)\n",
    "\n",
    "axes[1].axes.triplot(triangle, c='black')\n",
    "axes[1].scatter(projected_jo[:, 0], projected_jo[:, 1], figure=fig, c='#1f77b4', \n",
    "                alpha=0.005)\n",
    "axes[1].set_title(\"Jo et al\", fontsize=TITLE_FONT_SIZE)\n",
    "\n",
    "for i in range(2):\n",
    "    axes[i].set_xlim((-0.05, 1.05))\n",
    "    #axes[i].set_ylim(0, 1)\n",
    "    axes[i].set_aspect(\"equal\")\n",
    "    \n",
    "plt.savefig(\"../images/our_vs_jo_model.png\")\n",
    "plt.show()"
   ]
  },
  {
   "cell_type": "markdown",
   "metadata": {},
   "source": [
    "# Active Components"
   ]
  },
  {
   "cell_type": "code",
   "execution_count": null,
   "metadata": {},
   "outputs": [],
   "source": [
    "from itertools import product"
   ]
  },
  {
   "cell_type": "code",
   "execution_count": null,
   "metadata": {},
   "outputs": [],
   "source": [
    "def simulate_given_mean(mean, H, sigma):\n",
    "    draw = np.random.multivariate_normal(mean=mean, cov=sigma * np.eye(H - 1))\n",
    "    return inv_alr(out)"
   ]
  },
  {
   "cell_type": "code",
   "execution_count": null,
   "metadata": {},
   "outputs": [],
   "source": [
    "H = 30\n",
    "nsamples = 10000\n",
    "\n",
    "sigmas = np.linspace(1, 5, 10)\n",
    "samples_logitnormal = []\n",
    "for sigma in sigmas:\n",
    "    samples_logitnormal.append(simulate_with_mean(nsamples, H, sigma))"
   ]
  },
  {
   "cell_type": "code",
   "execution_count": null,
   "metadata": {},
   "outputs": [],
   "source": [
    "palette = sns.color_palette()\n",
    "fig, axes = plt.subplots(1, 2, figsize=(10, 3))\n",
    "\n",
    "for i, samples in enumerate(samples_logitnormal):\n",
    "    num_nonzero = np.zeros(nsamples)\n",
    "    for k in range(nsamples):\n",
    "        num_nonzero[k] = len(np.where(samples[k, :] > 0.01)[0])\n",
    "        \n",
    "    x = np.arange(1, H)\n",
    "    y = np.array([np.sum(num_nonzero == i) for i in x]) / nsamples\n",
    "    axes[0].plot(x, y, color=palette[i])\n",
    "    \n",
    "    axes[1].plot(x, np.sum(samples_logitnormal[i] > 0.05, 0)[:-1] / nsamples,\n",
    "                 color=palette[i])\n",
    "    axes[1].scatter(x, np.sum(samples_logitnormal[i] > 0.05, 0)[:-1] / nsamples, \n",
    "                    label=r\"$\\eta = {{%.2f}}$\" % (sigmas[i]), color=palette[i])\n",
    "\n",
    "\n",
    "axes[0].set_title(\"Number of active components\", fontsize=TITLE_FONT_SIZE)\n",
    "axes[1].set_title(r\"$P(w_i > 0.05)$\", fontsize=TITLE_FONT_SIZE)\n",
    "plt.tight_layout()\n",
    "axes[1].legend(loc=\"lower center\", bbox_to_anchor=(0.0, -0.45), ncol=5, fontsize=AXIS_FONT_SIZE+2)\n",
    "plt.savefig('num_components_ours.pdf', bbox_inches='tight')\n",
    "plt.show()"
   ]
  },
  {
   "cell_type": "code",
   "execution_count": null,
   "metadata": {},
   "outputs": [],
   "source": [
    "b = 0.5\n",
    "alist = np.linspace(0.1, 0.9, 10)\n",
    "samples_jo = []\n",
    "for a in alist:\n",
    "    samples_jo.append(simulate_jo(nsamples, H, a, b))"
   ]
  },
  {
   "cell_type": "code",
   "execution_count": null,
   "metadata": {},
   "outputs": [],
   "source": [
    "fig, axes = plt.subplots(1, 2, figsize=(10, 3))\n",
    "\n",
    "for i, samples in enumerate(samples_jo):\n",
    "    num_nonzero = np.zeros(nsamples)\n",
    "    for k in range(nsamples):\n",
    "        num_nonzero[k] = len(np.where(samples[k, :] > 0.01)[0])\n",
    "        \n",
    "    x = np.arange(1, H)\n",
    "    y = np.array([np.sum(num_nonzero == i) for i in x]) / nsamples\n",
    "    axes[0].plot(x, y, color=palette[i])\n",
    "    \n",
    "    axes[1].plot(x, np.sum(samples > 0.05, 0)[:-1] / nsamples,\n",
    "                    color=palette[i])\n",
    "    axes[1].scatter(x, np.sum(samples > 0.05, 0)[:-1] / nsamples,\n",
    "                 label=r\"$a = {{%.2f}}$\" % (alist[i]), color=palette[i])\n",
    "\n",
    "\n",
    "axes[0].set_title(\"Number of active components\", fontsize=TITLE_FONT_SIZE)\n",
    "axes[1].set_title(r\"$P(w_i > 0.05)$\", fontsize=TITLE_FONT_SIZE)\n",
    "plt.tight_layout()\n",
    "axes[1].legend(loc=\"lower center\", bbox_to_anchor=(0.0, -0.45), ncol=5, fontsize=AXIS_FONT_SIZE+2)\n",
    "plt.savefig('num_components_jo.pdf', bbox_inches='tight')\n",
    "\n",
    "plt.show()"
   ]
  },
  {
   "cell_type": "code",
   "execution_count": null,
   "metadata": {},
   "outputs": [],
   "source": [
    "len(samples_jo)"
   ]
  }
 ],
 "metadata": {
  "kernelspec": {
   "display_name": "Python 3",
   "language": "python",
   "name": "python3"
  },
  "language_info": {
   "codemirror_mode": {
    "name": "ipython",
    "version": 3
   },
   "file_extension": ".py",
   "mimetype": "text/x-python",
   "name": "python",
   "nbconvert_exporter": "python",
   "pygments_lexer": "ipython3",
   "version": "3.8.0"
  }
 },
 "nbformat": 4,
 "nbformat_minor": 2
}

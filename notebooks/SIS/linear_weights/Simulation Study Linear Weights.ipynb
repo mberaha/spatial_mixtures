{
 "cells": [
  {
   "cell_type": "code",
   "execution_count": 1,
   "metadata": {},
   "outputs": [],
   "source": [
    "# TO BE RUN ONLY ONCE!\n",
    "import os\n",
    "os.chdir(\"../../../\")"
   ]
  },
  {
   "cell_type": "code",
   "execution_count": 2,
   "metadata": {},
   "outputs": [],
   "source": [
    "## *******************************************************************************"
   ]
  },
  {
   "cell_type": "code",
   "execution_count": 3,
   "metadata": {},
   "outputs": [],
   "source": [
    "import numpy as np\n",
    "import pandas as pd\n",
    "import matplotlib.pyplot as plt\n",
    "\n",
    "import subprocess\n",
    "import pymc3 as pm\n",
    "import seaborn as sns\n",
    "\n",
    "import spatial_mix.hdp_utils as hdp_utils\n",
    "from spatial_mix.utils import *\n",
    "from spatial_mix.protos.py.univariate_mixture_state_pb2 import UnivariateState, UnivariateMixtureState, HdpState\n",
    "\n",
    "current_palette = sns.color_palette()"
   ]
  },
  {
   "cell_type": "markdown",
   "metadata": {},
   "source": [
    "## Simulate data"
   ]
  },
  {
   "cell_type": "markdown",
   "metadata": {},
   "source": [
    "Simulate data as follows: for each little square we simulate data from a 3 components mixtures\n",
    "$$ y_{ij} \\sim w_{i1} N(-5, 1) + w_{i2} N(0, 1) + w_{i3} N(5, 1)$$\n",
    "\n",
    "the weights depend on the location (x, y) of the center of the square (the orange dot)\n",
    "$$ \\widetilde{w}_{il} = \\alpha_l x_i + \\beta_l y_i \\quad l=1, 2$$\n",
    "\n",
    "finally $w_i = alr^{-1} ([\\widetilde{w}_{i1}, \\widetilde{w}_{i2}])$"
   ]
  },
  {
   "cell_type": "code",
   "execution_count": 4,
   "metadata": {},
   "outputs": [],
   "source": [
    "def inv_alr(x):\n",
    "    out = np.exp(np.hstack((x, 0)))\n",
    "    return out / np.sum(out)"
   ]
  },
  {
   "cell_type": "code",
   "execution_count": 15,
   "metadata": {},
   "outputs": [
    {
     "data": {
      "text/plain": [
       "[<matplotlib.lines.Line2D at 0x7f22676bbf70>]"
      ]
     },
     "execution_count": 15,
     "metadata": {},
     "output_type": "execute_result"
    },
    {
     "data": {
      "image/png": "[encoded data removed]",
      "text/plain": [
       "<Figure size 432x288 with 1 Axes>"
      ]
     },
     "metadata": {
      "needs_background": "light"
     },
     "output_type": "display_data"
    }
   ],
   "source": [
    "def mih(a, b, h):\n",
    "    return np.log(1 - 1.0 / (1 + np.exp(b - a * h)))\n",
    "\n",
    "a = 1\n",
    "b = 1\n",
    "hh = np.linspace(1, 100, 10)\n",
    "\n",
    "plt.plot(hh, [mih(a, b, h) for h in hh])"
   ]
  },
  {
   "cell_type": "code",
   "execution_count": 14,
   "metadata": {},
   "outputs": [
    {
     "data": {
      "text/plain": [
       "array([   1.,  112.,  223.,  334.,  445.,  556.,  667.,  778.,  889.,\n",
       "       1000.])"
      ]
     },
     "execution_count": 14,
     "metadata": {},
     "output_type": "execute_result"
    }
   ],
   "source": [
    "hh"
   ]
  },
  {
   "cell_type": "code",
   "execution_count": 5,
   "metadata": {},
   "outputs": [],
   "source": [
    "def simulate_from_mixture(weights):\n",
    "    means = [-5, 0, 5]\n",
    "    comp = np.random.choice(3, p=weights)\n",
    "    return np.random.normal(loc=means[comp], scale=1)"
   ]
  },
  {
   "cell_type": "code",
   "execution_count": 6,
   "metadata": {},
   "outputs": [],
   "source": [
    "Nx = 4\n",
    "Ny = 4\n",
    "N = Nx*Ny\n",
    "\n",
    "centers = np.zeros((N, 2))\n",
    "for i in range(Nx):\n",
    "    for j in range(Ny):\n",
    "        centers[i + j*Nx, :] = np.array([i, j])\n",
    "c = 0.4\n",
    "alpha1 = c\n",
    "alpha2 = -c\n",
    "beta1 = c\n",
    "beta2 = -c\n",
    "\n",
    "weights = []\n",
    "mean_centers = np.mean(centers, axis=0)\n",
    "for center in centers:\n",
    "    w1 = alpha1 * (center[0] - mean_centers[0]) + beta1 * (center[1] - mean_centers[1])\n",
    "    w2 = alpha2 * (center[0] - mean_centers[0]) + beta2 * (center[1] - mean_centers[1])\n",
    "    weights.append(inv_alr([w1, w2]))"
   ]
  },
  {
   "cell_type": "code",
   "execution_count": 7,
   "metadata": {},
   "outputs": [],
   "source": [
    "# plot weights\n",
    "# import plotly.figure_factory as ff\n",
    "# import plotly.graph_objects as go\n",
    "\n",
    "# w = np.array(weights)\n",
    "# m = np.min(weights, axis=None)\n",
    "# M = np.max(weights, axis=None)\n",
    "# w_index = 0\n",
    "# z_text = np.array(['' for i in range(N)]).reshape(Ny, Nx)\n",
    "# fig = ff.create_annotated_heatmap(w[:, w_index].reshape(Ny, Nx), colorscale='viridis', \n",
    "#                                   annotation_text=z_text, showscale=True, zmin = m, zmax = M)\n",
    "\n",
    "# fig.update_layout(\n",
    "#             paper_bgcolor='rgba(0, 0, 0, 0)',\n",
    "#             plot_bgcolor='rgba(0, 0, 0, 0)',\n",
    "#             )\n",
    "# fig.update_layout(width=600, height=600, autosize=False)\n",
    "\n",
    "# fig.show()"
   ]
  },
  {
   "cell_type": "code",
   "execution_count": 8,
   "metadata": {},
   "outputs": [
    {
     "name": "stdout",
     "output_type": "stream",
     "text": [
      "[[0. 1. 0. 0. 1. 0. 0. 0. 0. 0. 0. 0. 0. 0. 0. 0.]\n",
      " [1. 0. 1. 0. 0. 1. 0. 0. 0. 0. 0. 0. 0. 0. 0. 0.]\n",
      " [0. 1. 0. 1. 0. 0. 1. 0. 0. 0. 0. 0. 0. 0. 0. 0.]\n",
      " [0. 0. 1. 0. 0. 0. 0. 1. 0. 0. 0. 0. 0. 0. 0. 0.]\n",
      " [1. 0. 0. 0. 0. 1. 0. 0. 1. 0. 0. 0. 0. 0. 0. 0.]\n",
      " [0. 1. 0. 0. 1. 0. 1. 0. 0. 1. 0. 0. 0. 0. 0. 0.]\n",
      " [0. 0. 1. 0. 0. 1. 0. 1. 0. 0. 1. 0. 0. 0. 0. 0.]\n",
      " [0. 0. 0. 1. 0. 0. 1. 0. 0. 0. 0. 1. 0. 0. 0. 0.]\n",
      " [0. 0. 0. 0. 1. 0. 0. 0. 0. 1. 0. 0. 1. 0. 0. 0.]\n",
      " [0. 0. 0. 0. 0. 1. 0. 0. 1. 0. 1. 0. 0. 1. 0. 0.]\n",
      " [0. 0. 0. 0. 0. 0. 1. 0. 0. 1. 0. 1. 0. 0. 1. 0.]\n",
      " [0. 0. 0. 0. 0. 0. 0. 1. 0. 0. 1. 0. 0. 0. 0. 1.]\n",
      " [0. 0. 0. 0. 0. 0. 0. 0. 1. 0. 0. 0. 0. 1. 0. 0.]\n",
      " [0. 0. 0. 0. 0. 0. 0. 0. 0. 1. 0. 0. 1. 0. 1. 0.]\n",
      " [0. 0. 0. 0. 0. 0. 0. 0. 0. 0. 1. 0. 0. 1. 0. 1.]\n",
      " [0. 0. 0. 0. 0. 0. 0. 0. 0. 0. 0. 1. 0. 0. 1. 0.]]\n"
     ]
    }
   ],
   "source": [
    "G = np.diag(np.ones(N-1), 1) + np.diag(np.ones(N-1), -1) +\\\n",
    "     np.diag(np.ones(N-Nx), Nx) + np.diag(np.ones(N-Nx), -Nx)\n",
    "# tolgo i bordi\n",
    "border_indices = Nx*np.arange(1, Ny)\n",
    "G[border_indices, border_indices - 1] = 0\n",
    "G[border_indices - 1, border_indices] = 0\n",
    "\n",
    "print(G)\n",
    "#np.savetxt(\"./notebooks/SIS/linear_weights/data/simulated_linear_G.csv\", G, delimiter=\",\")"
   ]
  },
  {
   "cell_type": "code",
   "execution_count": 9,
   "metadata": {},
   "outputs": [],
   "source": [
    "data = []\n",
    "for i in range(N):\n",
    "    numSamples = 100\n",
    "    #if i == 5:\n",
    "    #    numSamples = 20    \n",
    "    for j in range(numSamples):\n",
    "        data.append([i, simulate_from_mixture(weights[i])])"
   ]
  },
  {
   "cell_type": "code",
   "execution_count": 10,
   "metadata": {},
   "outputs": [],
   "source": [
    "df = pd.DataFrame(data, columns=[\"group\", \"data\"])\n",
    "#df.to_csv(\"./notebooks/SIS/linear_weights/data/simulated_linear_data.csv\", index=False)"
   ]
  },
  {
   "cell_type": "markdown",
   "metadata": {},
   "source": [
    "## Run via the Python interface"
   ]
  },
  {
   "cell_type": "code",
   "execution_count": 31,
   "metadata": {
    "scrolled": true
   },
   "outputs": [
    {
     "name": "stdout",
     "output_type": "stream",
     "text": [
      "Burn-in, iter # 200  /  10000\n",
      "Burn-in, iter # 400  /  10000\n",
      "Burn-in, iter # 600  /  10000\n",
      "Burn-in, iter # 800  /  10000\n",
      "Burn-in, iter # 1000  /  10000\n",
      "Burn-in, iter # 1200  /  10000\n",
      "Burn-in, iter # 1400  /  10000\n",
      "Burn-in, iter # 1600  /  10000\n",
      "Burn-in, iter # 1800  /  10000\n",
      "Burn-in, iter # 2000  /  10000\n",
      "Burn-in, iter # 2200  /  10000\n",
      "Burn-in, iter # 2400  /  10000\n",
      "Burn-in, iter # 2600  /  10000\n",
      "Burn-in, iter # 2800  /  10000\n",
      "Burn-in, iter # 3000  /  10000\n",
      "Burn-in, iter # 3200  /  10000\n",
      "Burn-in, iter # 3400  /  10000\n",
      "Burn-in, iter # 3600  /  10000\n",
      "Burn-in, iter # 3800  /  10000\n",
      "Burn-in, iter # 4000  /  10000\n",
      "Burn-in, iter # 4200  /  10000\n",
      "Burn-in, iter # 4400  /  10000\n",
      "Burn-in, iter # 4600  /  10000\n",
      "Burn-in, iter # 4800  /  10000\n",
      "Burn-in, iter # 5000  /  10000\n",
      "Burn-in, iter # 5200  /  10000\n",
      "Burn-in, iter # 5400  /  10000\n",
      "Burn-in, iter # 5600  /  10000\n",
      "Burn-in, iter # 5800  /  10000\n",
      "Burn-in, iter # 6000  /  10000\n",
      "Burn-in, iter # 6200  /  10000\n",
      "Burn-in, iter # 6400  /  10000\n",
      "Burn-in, iter # 6600  /  10000\n",
      "Burn-in, iter # 6800  /  10000\n",
      "Burn-in, iter # 7000  /  10000\n",
      "Burn-in, iter # 7200  /  10000\n",
      "Burn-in, iter # 7400  /  10000\n",
      "Burn-in, iter # 7600  /  10000\n",
      "Burn-in, iter # 7800  /  10000\n",
      "Burn-in, iter # 8000  /  10000\n",
      "Burn-in, iter # 8200  /  10000\n",
      "Burn-in, iter # 8400  /  10000\n",
      "Burn-in, iter # 8600  /  10000\n",
      "Burn-in, iter # 8800  /  10000\n",
      "Burn-in, iter # 9000  /  10000\n",
      "Burn-in, iter # 9200  /  10000\n",
      "Burn-in, iter # 9400  /  10000\n",
      "Burn-in, iter # 9600  /  10000\n",
      "Burn-in, iter # 9800  /  10000\n",
      "Burn-in, iter # 10000  /  10000\n",
      "Running, iter # 200  /  10000\n",
      "Running, iter # 400  /  10000\n",
      "Running, iter # 600  /  10000\n",
      "Running, iter # 800  /  10000\n",
      "Running, iter # 1000  /  10000\n",
      "Running, iter # 1200  /  10000\n",
      "Running, iter # 1400  /  10000\n",
      "Running, iter # 1600  /  10000\n",
      "Running, iter # 1800  /  10000\n",
      "Running, iter # 2000  /  10000\n",
      "Running, iter # 2200  /  10000\n",
      "Running, iter # 2400  /  10000\n",
      "Running, iter # 2600  /  10000\n",
      "Running, iter # 2800  /  10000\n",
      "Running, iter # 3000  /  10000\n",
      "Running, iter # 3200  /  10000\n",
      "Running, iter # 3400  /  10000\n",
      "Running, iter # 3600  /  10000\n",
      "Running, iter # 3800  /  10000\n",
      "Running, iter # 4000  /  10000\n",
      "Running, iter # 4200  /  10000\n",
      "Running, iter # 4400  /  10000\n",
      "Running, iter # 4600  /  10000\n",
      "Running, iter # 4800  /  10000\n",
      "Running, iter # 5000  /  10000\n",
      "Running, iter # 5200  /  10000\n",
      "Running, iter # 5400  /  10000\n",
      "Running, iter # 5600  /  10000\n",
      "Running, iter # 5800  /  10000\n",
      "Running, iter # 6000  /  10000\n",
      "Running, iter # 6200  /  10000\n",
      "Running, iter # 6400  /  10000\n",
      "Running, iter # 6600  /  10000\n",
      "Running, iter # 6800  /  10000\n",
      "Running, iter # 7000  /  10000\n",
      "Running, iter # 7200  /  10000\n",
      "Running, iter # 7400  /  10000\n",
      "Running, iter # 7600  /  10000\n",
      "Running, iter # 7800  /  10000\n",
      "Running, iter # 8000  /  10000\n",
      "Running, iter # 8200  /  10000\n",
      "Running, iter # 8400  /  10000\n",
      "Running, iter # 8600  /  10000\n",
      "Running, iter # 8800  /  10000\n",
      "Running, iter # 9000  /  10000\n",
      "Running, iter # 9200  /  10000\n",
      "Running, iter # 9400  /  10000\n",
      "Running, iter # 9600  /  10000\n",
      "Running, iter # 9800  /  10000\n",
      "Running, iter # 10000  /  10000\n"
     ]
    }
   ],
   "source": [
    "from spatial_mix.protos.py.sampler_params_pb2 import SamplerParams\n",
    "from google.protobuf import text_format\n",
    "\n",
    "datas = []\n",
    "for g in range(N):\n",
    "    datas.append(df[df.group == g].data.values)\n",
    "\n",
    "burnin = 10000\n",
    "niter = 10000\n",
    "thin = 1\n",
    "chains = runSpatialMixtureSampler(burnin, niter, thin, G,\n",
    "                                  \"spatial_mix/resources/sampler_params.asciipb\",\n",
    "                                  datas, [])"
   ]
  },
  {
   "cell_type": "code",
   "execution_count": 34,
   "metadata": {},
   "outputs": [
    {
     "data": {
      "image/png": "[encoded data removed]",
      "text/plain": [
       "<Figure size 432x288 with 1 Axes>"
      ]
     },
     "metadata": {
      "needs_background": "light"
     },
     "output_type": "display_data"
    }
   ],
   "source": [
    "rhochain = [x.rho for x in chains]\n",
    "plt.plot(range(len(rhochain)), rhochain)\n",
    "plt.yticks([0.9998, 1.0000], labels=[0.999, 1.0000])\n",
    "plt.show()"
   ]
  },
  {
   "cell_type": "code",
   "execution_count": 38,
   "metadata": {},
   "outputs": [
    {
     "data": {
      "image/png": "[encoded data removed]",
      "text/plain": [
       "<Figure size 864x144 with 2 Axes>"
      ]
     },
     "metadata": {
      "needs_background": "light"
     },
     "output_type": "display_data"
    }
   ],
   "source": [
    "import arviz as az\n",
    "\n",
    "az_rhochain = az.convert_to_inference_data({\"rho\": rhochain})\n",
    "axes = az.plot_trace(az_rhochain)\n",
    "axes[0][0].set_xticks([0.9998, 1.0000])\n",
    "axes[0][0].set_xticklabels([0.999, 1.0000])\n",
    "axes[0][1].set_yticks([0.9998, 1.0000])\n",
    "axes[0][1].set_yticklabels([0.999, 1.0000])\n",
    "\n",
    "axes[0][0].set\n",
    "\n",
    "plt.show()"
   ]
  },
  {
   "cell_type": "markdown",
   "metadata": {},
   "source": [
    "## Plot density estimates"
   ]
  },
  {
   "cell_type": "code",
   "execution_count": null,
   "metadata": {
    "scrolled": true
   },
   "outputs": [],
   "source": [
    "xgrid = np.linspace(-10, 10, 500)\n",
    "dens = estimateDensities(chains, xgrid)"
   ]
  },
  {
   "cell_type": "code",
   "execution_count": null,
   "metadata": {},
   "outputs": [],
   "source": [
    "from scipy.stats import norm \n",
    "\n",
    "fig, axes = plt.subplots(nrows=int(np.floor(N/Nx)) + int(N%Nx>0), ncols=Nx, figsize=(15, 8))\n",
    "#axes = axes.flat\n",
    "\n",
    "for i in range(Ny):\n",
    "    for j in range(Nx):\n",
    "        g = j + Nx * i\n",
    "        axes[Ny - 1 - i, j].plot(xgrid, \n",
    "                     weights[g][0] * norm.pdf(xgrid, -5, 1.0) +\n",
    "                     weights[g][1] * norm.pdf(xgrid, 0.0, 1.0) +\n",
    "                     weights[g][2] * norm.pdf(xgrid, 5.0, 1.0))\n",
    "        axes[Ny - 1 - i, j].plot(xgrid, np.mean(dens[g], 0))\n",
    "        axes[Ny - 1 - i, j].set_ylim([0, 0.4])\n",
    "        intervals = np.array([pm.stats.hpd(dens[g][:, i], 0.95) for i in range(dens[g].shape[1])])\n",
    "        axes[Ny - 1 - i, j].fill_between(xgrid, intervals[:, 0], intervals[:, 1], alpha=0.4, color=current_palette[2])\n",
    "        axes[Ny - 1 - i, j].set_title(\"Group: {0}\".format(g))\n",
    "        #sns.kdeplot(datas[g], ax=axes[g], color=current_palette[3])\n",
    "    \n",
    "plt.tight_layout()"
   ]
  },
  {
   "cell_type": "code",
   "execution_count": null,
   "metadata": {},
   "outputs": [],
   "source": [
    "# plot densities\n",
    "\n",
    "import matplotlib\n",
    "import plotly\n",
    "import plotly.graph_objects as go\n",
    "\n",
    "\n",
    "# da cambiare in base al plot\n",
    "xgrid = np.linspace(-10, 10, 500)\n",
    "g = 0\n",
    "true = weights[g][0] * norm.pdf(xgrid, -5, 1.0) + weights[g][1] * norm.pdf(xgrid, 0.0, 1.0) + weights[g][2] * norm.pdf(xgrid, 5.0, 1.0)\n",
    "        \n",
    "estimated = np.mean(dens[g], 0)\n",
    "\n",
    "intervals = np.array([pm.stats.hpd(dens[g][:, i], 0.95) for i in range(dens[g].shape[1])])\n",
    "\n",
    "# --------------------\n",
    "\n",
    "#colors\n",
    "\n",
    "color_true = 'rgba(255,140,0, 1)'\n",
    "color_true_area = 'rgba(255,140,0, 0.)'\n",
    "\n",
    "color_estimated = 'rgba(15, 32, 67, 1)'\n",
    "color_estimated_area = 'rgba(15, 32, 67, 0.)'\n",
    "\n",
    "color_intervals = 'rgba(122, 207, 221, 0.7)'\n",
    "\n",
    "fig = go.Figure()\n",
    "\n",
    "# true density\n",
    "fig.add_trace(go.Scatter(x=xgrid,\n",
    "                         y=true,\n",
    "                         showlegend=False,\n",
    "                         mode='lines',\n",
    "                         line=dict(width=3, \n",
    "                                   color=color_true),\n",
    "                         fill='tozeroy',\n",
    "                         fillcolor=color_true_area,\n",
    "                         ))\n",
    "\n",
    "# estimated density\n",
    "fig.add_trace(go.Scatter(x=xgrid,\n",
    "                         y=estimated,\n",
    "                         showlegend=False,\n",
    "                         mode='lines',\n",
    "                         line=dict(width=3, \n",
    "                                   color=color_estimated),\n",
    "                         fill='tozeroy',\n",
    "                         fillcolor=color_estimated_area,\n",
    "                         ))\n",
    "\n",
    "# Crebible intervals\n",
    "fig.add_trace(go.Scatter(x=xgrid,\n",
    "                         y=intervals[:, 0],\n",
    "                         showlegend=False,\n",
    "                         mode=None,\n",
    "                         line=dict(width=0, \n",
    "                                   color=color_intervals),\n",
    "                         ))\n",
    "fig.add_trace(go.Scatter(x=xgrid,\n",
    "                         y=intervals[:, 1],\n",
    "                         showlegend=True,\n",
    "                         name = '95% Credible Interval',\n",
    "                         mode=None,\n",
    "                         line=dict(width=0, \n",
    "                                   color=color_intervals),\n",
    "                         fill='tonexty',\n",
    "                         fillcolor=color_intervals,\n",
    "                         ))\n",
    "\n",
    "# estimated density\n",
    "fig.add_trace(go.Scatter(x=xgrid,\n",
    "                         y=estimated,\n",
    "                         showlegend=True,\n",
    "                         name='Estimated Density',\n",
    "                         mode='lines',\n",
    "                         line=dict(width=3, \n",
    "                                   color=color_estimated),\n",
    "                         ))\n",
    "\n",
    "# true density\n",
    "fig.add_trace(go.Scatter(x=xgrid,\n",
    "                         y=true,\n",
    "                         showlegend=True,\n",
    "                         name='True Density',\n",
    "                         mode='lines',\n",
    "                         line=dict(width=3, \n",
    "                                   color=color_true),\n",
    "                         ))\n",
    "\n",
    "\n",
    "\n",
    "fig.update_layout(\n",
    "            plot_bgcolor='rgba(0, 0, 0, 0)',\n",
    "            )\n",
    "fig.update_xaxes(showgrid=True, gridwidth=0.5, gridcolor='grey',\n",
    "                 zeroline=True, zerolinewidth=0.5, zerolinecolor='grey')\n",
    "fig.update_yaxes(showgrid=True, gridwidth=0.5, gridcolor='grey',\n",
    "                 zeroline=True, zerolinewidth=0.5, zerolinecolor='grey',\n",
    "                range=[0, 0.3])\n",
    "\n",
    "plotly.offline.iplot(fig)"
   ]
  }
 ],
 "metadata": {
  "kernelspec": {
   "display_name": "Python 3",
   "language": "python",
   "name": "python3"
  },
  "language_info": {
   "codemirror_mode": {
    "name": "ipython",
    "version": 3
   },
   "file_extension": ".py",
   "mimetype": "text/x-python",
   "name": "python",
   "nbconvert_exporter": "python",
   "pygments_lexer": "ipython3",
   "version": "3.8.0"
  }
 },
 "nbformat": 4,
 "nbformat_minor": 2
}

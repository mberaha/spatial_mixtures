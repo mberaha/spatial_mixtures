{
 "cells": [
  {
   "cell_type": "code",
   "execution_count": 1,
   "metadata": {},
   "outputs": [],
   "source": [
    "# TO BE RUN ONLY ONCE!\n",
    "import os\n",
    "os.chdir(\"../../../\")"
   ]
  },
  {
   "cell_type": "code",
   "execution_count": 2,
   "metadata": {},
   "outputs": [
    {
     "data": {
      "text/plain": [
       "'/home/mario/PhD/spatial_lda'"
      ]
     },
     "execution_count": 2,
     "metadata": {},
     "output_type": "execute_result"
    }
   ],
   "source": [
    "os.getcwd()"
   ]
  },
  {
   "cell_type": "code",
   "execution_count": 3,
   "metadata": {},
   "outputs": [],
   "source": [
    "## *******************************************************************************"
   ]
  },
  {
   "cell_type": "code",
   "execution_count": 4,
   "metadata": {},
   "outputs": [],
   "source": [
    "import numpy as np\n",
    "import pandas as pd\n",
    "import matplotlib.pyplot as plt\n",
    "\n",
    "import subprocess\n",
    "import pymc3 as pm\n",
    "import seaborn as sns\n",
    "\n",
    "import spatial_mix.hdp_utils as hdp_utils\n",
    "from spatial_mix.utils import *\n",
    "from spatial_mix.protos.py.univariate_mixture_state_pb2 import UnivariateState, UnivariateMixtureState, HdpState\n",
    "\n",
    "current_palette = sns.color_palette()"
   ]
  },
  {
   "cell_type": "markdown",
   "metadata": {},
   "source": [
    "## Simulate data"
   ]
  },
  {
   "cell_type": "markdown",
   "metadata": {},
   "source": [
    "We want to test if our model can approximate with good precision distributions which are far from being gaussian.\n",
    "\n",
    "Moreover we want to assess if locations with fewer data, are able to retrieve information from the other locations in its connected components of the graph.\n",
    "\n",
    "\n",
    "So we simulate data as follows.\n",
    "\n",
    "\n",
    "We will take a graph with 3 connected components and two location in each connected component.\n"
   ]
  },
  {
   "cell_type": "markdown",
   "metadata": {},
   "source": [
    "Then we simulate in each component from a different non gaussian distribution, respectively: t-student, skewnormal and chi squared. \n",
    "\n",
    "\n",
    "$$ y_{ij} \\sim t-stud(6, -4, 1)$$ for i = 0, 1 and j=0,...,$N_i$\n",
    "\n",
    "$$ y_{ij} \\sim skew-norm(4, 4, 1)$$ for i = 2, 3 and j=0,...,$N_i$\n",
    "\n",
    "$$ y_{ij} \\sim \\chi^2(0, 1)$$ for i = 4, 5 and j=0,...,$N_i$\n",
    "\n",
    "\n",
    "In the first stage we take $N_i=1000$ for all i."
   ]
  },
  {
   "cell_type": "code",
   "execution_count": 5,
   "metadata": {},
   "outputs": [],
   "source": [
    "from scipy.stats import t, skewnorm, cauchy, norm, chi2\n",
    "import pandas as pd\n",
    "\n",
    "fail = False\n",
    "\n",
    "xgrid = np.linspace(-10, 10, 1000)\n",
    "\n",
    "true_d = [t.pdf(xgrid, 6, -4, 1), t.pdf(xgrid, 6, -4, 1),\\\n",
    "     skewnorm.pdf(xgrid, 4, 4, 1), skewnorm.pdf(xgrid, 4, 4, 1),\\\n",
    "     chi2.pdf(xgrid, 3, 0, 1), chi2.pdf(xgrid, 3, 0, 1)\\\n",
    "     ]\n",
    "\n",
    "ngroups = 6\n",
    "\n",
    "nsamples = 1000"
   ]
  },
  {
   "cell_type": "code",
   "execution_count": 6,
   "metadata": {},
   "outputs": [],
   "source": [
    "data = []\n",
    "\n",
    "for i in range(nsamples):\n",
    "    data.append([0, t.rvs(6, -4 , 1)])\n",
    "\n",
    "for i in range(nsamples):\n",
    "    data.append([1, t.rvs(6, -4 , 1)])\n",
    "\n",
    "for i in range(nsamples):\n",
    "    data.append([2, skewnorm.rvs(4, 4 , 1)])\n",
    "\n",
    "for i in range(nsamples):\n",
    "    data.append([3, skewnorm.rvs(4, 4 , 1)])\n",
    "\n",
    "for i in range(nsamples):\n",
    "    data.append([4, chi2.rvs(3, 0, 1)])\n",
    "\n",
    "for i in range(nsamples):\n",
    "    data.append([5, chi2.rvs(3, 0, 1)])\n",
    "\n",
    "# cauchy\n",
    "    \n",
    "dat = pd.DataFrame(data, columns=[\"group\", \"datum\"])\n",
    "# dat.to_csv(\"./notebooks/SIS/approximate_pdf/data/simulation_0.csv\", index=False)"
   ]
  },
  {
   "cell_type": "code",
   "execution_count": 7,
   "metadata": {},
   "outputs": [
    {
     "name": "stdout",
     "output_type": "stream",
     "text": [
      "[[0. 1. 0. 0. 0. 0.]\n",
      " [1. 0. 0. 0. 0. 0.]\n",
      " [0. 0. 0. 1. 0. 0.]\n",
      " [0. 0. 1. 0. 0. 0.]\n",
      " [0. 0. 0. 0. 0. 1.]\n",
      " [0. 0. 0. 0. 1. 0.]]\n"
     ]
    }
   ],
   "source": [
    "W = np.zeros((ngroups,ngroups))\n",
    "\n",
    "W[0,1]=W[1,0]=1\n",
    "W[2,3]=W[3,2]=1\n",
    "W[4,5]=W[5,4]=1\n",
    "\n",
    "print(W)\n",
    "\n",
    "# np.savetxt(\"W.txt\",W, delimiter=\",\")"
   ]
  },
  {
   "cell_type": "markdown",
   "metadata": {},
   "source": [
    "## Run via the Python interface"
   ]
  },
  {
   "cell_type": "markdown",
   "metadata": {},
   "source": [
    "## Simulation 0"
   ]
  },
  {
   "cell_type": "code",
   "execution_count": 8,
   "metadata": {
    "scrolled": false
   },
   "outputs": [],
   "source": [
    "from spatial_mix.protos.py.sampler_params_pb2 import SamplerParams\n",
    "from google.protobuf import text_format\n",
    "\n",
    "df = pd.read_csv(\"./notebooks/SIS/approximate_pdf/data/simulation_0.csv\")"
   ]
  },
  {
   "cell_type": "code",
   "execution_count": 9,
   "metadata": {},
   "outputs": [],
   "source": [
    "numGroups = max(df['group'])+1\n",
    "datas = []\n",
    "for g in range(numGroups):\n",
    "    datas.append(df[df['group'] == g]['datum'].values)"
   ]
  },
  {
   "cell_type": "code",
   "execution_count": 77,
   "metadata": {
    "scrolled": true
   },
   "outputs": [
    {
     "name": "stdout",
     "output_type": "stream",
     "text": [
      "Burn-in, iter # 200  /  10000\n",
      "Burn-in, iter # 400  /  10000\n",
      "Burn-in, iter # 600  /  10000\n",
      "Burn-in, iter # 800  /  10000\n",
      "Burn-in, iter # 1000  /  10000\n",
      "Burn-in, iter # 1200  /  10000\n",
      "Burn-in, iter # 1400  /  10000\n",
      "Burn-in, iter # 1600  /  10000\n",
      "Burn-in, iter # 1800  /  10000\n",
      "Burn-in, iter # 2000  /  10000\n",
      "Burn-in, iter # 2200  /  10000\n",
      "Burn-in, iter # 2400  /  10000\n",
      "Burn-in, iter # 2600  /  10000\n",
      "Burn-in, iter # 2800  /  10000\n",
      "Burn-in, iter # 3000  /  10000\n",
      "Burn-in, iter # 3200  /  10000\n",
      "Burn-in, iter # 3400  /  10000\n",
      "Burn-in, iter # 3600  /  10000\n",
      "Burn-in, iter # 3800  /  10000\n",
      "Burn-in, iter # 4000  /  10000\n",
      "Burn-in, iter # 4200  /  10000\n",
      "Burn-in, iter # 4400  /  10000\n",
      "Burn-in, iter # 4600  /  10000\n",
      "Burn-in, iter # 4800  /  10000\n",
      "Burn-in, iter # 5000  /  10000\n",
      "Burn-in, iter # 5200  /  10000\n",
      "Burn-in, iter # 5400  /  10000\n",
      "Burn-in, iter # 5600  /  10000\n",
      "Burn-in, iter # 5800  /  10000\n",
      "Burn-in, iter # 6000  /  10000\n",
      "Burn-in, iter # 6200  /  10000\n",
      "Burn-in, iter # 6400  /  10000\n",
      "Burn-in, iter # 6600  /  10000\n",
      "Burn-in, iter # 6800  /  10000\n",
      "Burn-in, iter # 7000  /  10000\n",
      "Burn-in, iter # 7200  /  10000\n",
      "Burn-in, iter # 7400  /  10000\n",
      "Burn-in, iter # 7600  /  10000\n",
      "Burn-in, iter # 7800  /  10000\n",
      "Burn-in, iter # 8000  /  10000\n",
      "Burn-in, iter # 8200  /  10000\n",
      "Burn-in, iter # 8400  /  10000\n",
      "Burn-in, iter # 8600  /  10000\n",
      "Burn-in, iter # 8800  /  10000\n",
      "Burn-in, iter # 9000  /  10000\n",
      "Burn-in, iter # 9200  /  10000\n",
      "Burn-in, iter # 9400  /  10000\n",
      "Burn-in, iter # 9600  /  10000\n",
      "Burn-in, iter # 9800  /  10000\n",
      "Burn-in, iter # 10000  /  10000\n",
      "Running, iter # 200  /  10000\n",
      "Running, iter # 400  /  10000\n",
      "Running, iter # 600  /  10000\n",
      "Running, iter # 800  /  10000\n",
      "Running, iter # 1000  /  10000\n",
      "Running, iter # 1200  /  10000\n",
      "Running, iter # 1400  /  10000\n",
      "Running, iter # 1600  /  10000\n",
      "Running, iter # 1800  /  10000\n",
      "Running, iter # 2000  /  10000\n",
      "Running, iter # 2200  /  10000\n",
      "Running, iter # 2400  /  10000\n",
      "Running, iter # 2600  /  10000\n",
      "Running, iter # 2800  /  10000\n",
      "Running, iter # 3000  /  10000\n",
      "Running, iter # 3200  /  10000\n",
      "Running, iter # 3400  /  10000\n",
      "Running, iter # 3600  /  10000\n",
      "Running, iter # 3800  /  10000\n",
      "Running, iter # 4000  /  10000\n",
      "Running, iter # 4200  /  10000\n",
      "Running, iter # 4400  /  10000\n",
      "Running, iter # 4600  /  10000\n",
      "Running, iter # 4800  /  10000\n",
      "Running, iter # 5000  /  10000\n",
      "Running, iter # 5200  /  10000\n",
      "Running, iter # 5400  /  10000\n",
      "Running, iter # 5600  /  10000\n",
      "Running, iter # 5800  /  10000\n",
      "Running, iter # 6000  /  10000\n",
      "Running, iter # 6200  /  10000\n",
      "Running, iter # 6400  /  10000\n",
      "Running, iter # 6600  /  10000\n",
      "Running, iter # 6800  /  10000\n",
      "Running, iter # 7000  /  10000\n",
      "Running, iter # 7200  /  10000\n",
      "Running, iter # 7400  /  10000\n",
      "Running, iter # 7600  /  10000\n",
      "Running, iter # 7800  /  10000\n",
      "Running, iter # 8000  /  10000\n",
      "Running, iter # 8200  /  10000\n",
      "Running, iter # 8400  /  10000\n",
      "Running, iter # 8600  /  10000\n",
      "Running, iter # 8800  /  10000\n",
      "Running, iter # 9000  /  10000\n",
      "Running, iter # 9200  /  10000\n",
      "Running, iter # 9400  /  10000\n",
      "Running, iter # 9600  /  10000\n",
      "Running, iter # 9800  /  10000\n",
      "Running, iter # 10000  /  10000\n"
     ]
    }
   ],
   "source": [
    "burnin = 10000\n",
    "niter = 10000\n",
    "thin = 10\n",
    "\n",
    "chains = runSpatialMixtureSampler(burnin, niter, thin, W,\n",
    "                                  \"spatial_mix/resources/sampler_params.asciipb\",\n",
    "                                  datas, [])"
   ]
  },
  {
   "cell_type": "markdown",
   "metadata": {},
   "source": [
    "## Plot density estimates"
   ]
  },
  {
   "cell_type": "code",
   "execution_count": 11,
   "metadata": {
    "scrolled": true
   },
   "outputs": [],
   "source": [
    "dens = estimateDensities(chains, xgrid)"
   ]
  },
  {
   "cell_type": "code",
   "execution_count": 14,
   "metadata": {},
   "outputs": [
    {
     "data": {
      "image/png": "[encoded data removed]",
      "text/plain": [
       "<Figure size 1080x576 with 6 Axes>"
      ]
     },
     "metadata": {
      "needs_background": "light"
     },
     "output_type": "display_data"
    }
   ],
   "source": [
    "fig, axes = plt.subplots(nrows=2, ncols=3, figsize=(15, 8))\n",
    "axes = axes.flat\n",
    "\n",
    "for g in range(numGroups):\n",
    "    axes[g].plot(xgrid, true_d[g])\n",
    "    axes[g].plot(xgrid, np.mean(dens[g], 0))\n",
    "    axes[g].set_ylim([0, 0.8])\n",
    "    intervals = np.array([pm.stats.hpd(dens[g][:, i], 0.95) for i in range(dens[g].shape[1])])\n",
    "    axes[g].fill_between(xgrid, intervals[:, 0], intervals[:, 1], alpha=0.3, color=current_palette[2])\n",
    "    axes[g].set_title(\"Area: {0}\".format(g))\n",
    "#     sns.kdeplot(datas[g], ax=axes[g], color=current_palette[3])\n",
    "    \n",
    "plt.tight_layout()"
   ]
  },
  {
   "cell_type": "markdown",
   "metadata": {},
   "source": [
    "# JO ET AL"
   ]
  },
  {
   "cell_type": "code",
   "execution_count": 10,
   "metadata": {},
   "outputs": [
    {
     "name": "stderr",
     "output_type": "stream",
     "text": [
      "INFO:pystan:COMPILING THE C++ CODE FOR MODEL anon_model_90b7dae8ff740c2ed945225e870ffaa3 NOW.\n"
     ]
    }
   ],
   "source": [
    "import pystan\n",
    "import os\n",
    "os.environ['STAN_NUM_THREADS'] = \"4\"\n",
    "\n",
    "model = pystan.StanModel(\n",
    "    file=\"/home/mario/PhD/spatial_lda/spatial_mix/resources/mc_car_ssm.stan\"\n",
    ")"
   ]
  },
  {
   "cell_type": "code",
   "execution_count": 13,
   "metadata": {},
   "outputs": [
    {
     "data": {
      "text/plain": [
       "array([[nan],\n",
       "       [nan]])"
      ]
     },
     "execution_count": 13,
     "metadata": {},
     "output_type": "execute_result"
    }
   ],
   "source": [
    "# compute a and b for jo's model\n",
    "H = 10\n",
    "# log m_H/2 = 0.5, log m_3/4 H = 0.25\n",
    "A = np.array([\n",
    "    [- H / 2, 1],\n",
    "    [- 3 * H / 4, 1]\n",
    "])\n",
    "\n",
    "rhs = np.array([\n",
    "    np.log(1.0 / (1 - np.exp(np.exp(0.5)))   - 1),\n",
    "    np.log(1.0 / (1 - np.exp(np.exp(0.25)))   - 1)\n",
    "]).reshape(-1, 1)\n",
    "\n",
    "ab = np.linalg.solve(A, rhs)\n",
    "ab"
   ]
  },
  {
   "cell_type": "code",
   "execution_count": 14,
   "metadata": {},
   "outputs": [],
   "source": [
    "data_by_group_stan = []\n",
    "max_num_data = np.max([len(x) for x in datas])\n",
    "for i in range(6):\n",
    "    data_by_group_stan.append(np.concatenate([datas[i], np.zeros(max_num_data - len(datas[i]))]))\n",
    "    \n",
    "data_mat_stan = np.vstack(data_by_group_stan)"
   ]
  },
  {
   "cell_type": "code",
   "execution_count": 15,
   "metadata": {},
   "outputs": [
    {
     "name": "stderr",
     "output_type": "stream",
     "text": [
      "WARNING:pystan:Maximum (flat) parameter count (1000) exceeded: skipping diagnostic tests for n_eff and Rhat.\n",
      "To run all diagnostics call pystan.check_hmc_diagnostics(fit)\n",
      "WARNING:pystan:1 of 4000 iterations ended with a divergence (0.025 %).\n",
      "WARNING:pystan:Try running with adapt_delta larger than 0.8 to remove the divergences.\n"
     ]
    }
   ],
   "source": [
    "stan_data = {\n",
    "    \"num_groups\": 6,\n",
    "    \"num_data_per_group\": [len(x) for x in datas],\n",
    "    \"max_data_per_group\": np.max([len(x) for x in datas]),\n",
    "    \"num_components\": 10,\n",
    "    \"data_by_group\": data_by_group_stan,\n",
    "    \"G\": W,\n",
    "    \"rho\": 0.95,\n",
    "    \"a\": 0.1,\n",
    "    \"b\": 0.5,\n",
    "    \"points_in_grid\": len(xgrid),\n",
    "    \"xgrid\": xgrid\n",
    "}\n",
    "\n",
    "fit = model.sampling(\n",
    "    data=stan_data,\n",
    "    iter=2000, n_jobs=4)\n"
   ]
  },
  {
   "cell_type": "code",
   "execution_count": 16,
   "metadata": {},
   "outputs": [
    {
     "name": "stderr",
     "output_type": "stream",
     "text": [
      "<ipython-input-16-5d95198b173f>:3: UserWarning: Pickling fit objects is an experimental feature!\n",
      "The relevant StanModel instance must be pickled along with this fit object.\n",
      "When unpickling the StanModel must be unpickled first.\n",
      "  pickle.dump(fit, fp)\n"
     ]
    }
   ],
   "source": [
    "import pickle\n",
    "with open(\"notebooks/SIS/approximate_pdf/stan_chains_ex0.pickle\", \"wb\") as fp:\n",
    "    pickle.dump(fit, fp)"
   ]
  },
  {
   "cell_type": "code",
   "execution_count": 84,
   "metadata": {},
   "outputs": [],
   "source": [
    "def eval_stan_density(stanfit, xgrid):\n",
    "    means = stanfit.extract(\"means\")[\"means\"]\n",
    "    variances = stanfit.extract(\"vars\")[\"vars\"]\n",
    "    weights = stanfit.extract(\"weights\")[\"weights\"]\n",
    "    out = []\n",
    "    num_iters = means.shape[0]\n",
    "    num_components = means.shape[1]\n",
    "    \n",
    "    means = means.reshape(-1)\n",
    "    stddevs = np.sqrt(variances.reshape(-1))\n",
    "    allgrid = np.hstack([xgrid.reshape(-1, 1)] * means.shape[0])\n",
    "    \n",
    "    eval_normals = norm.pdf(\n",
    "        allgrid, means, stddevs\n",
    "    ).reshape(len(xgrid), num_iters, num_components)\n",
    "    \n",
    "    numGroups = weights.shape[1]\n",
    "    for g in range(numGroups):\n",
    "        weights_chain = weights[:, g, :]\n",
    "        out.append(np.sum(eval_normals*weights_chain, axis=-1).T)\n",
    "        \n",
    "    return out"
   ]
  },
  {
   "cell_type": "code",
   "execution_count": 85,
   "metadata": {},
   "outputs": [],
   "source": [
    "stan_dens = eval_stan_density(fit, xgrid)"
   ]
  },
  {
   "cell_type": "code",
   "execution_count": 86,
   "metadata": {},
   "outputs": [
    {
     "data": {
      "image/png": "[encoded data removed]",
      "text/plain": [
       "<Figure size 1080x576 with 6 Axes>"
      ]
     },
     "metadata": {
      "needs_background": "light"
     },
     "output_type": "display_data"
    }
   ],
   "source": [
    "fig, axes = plt.subplots(nrows=2, ncols=3, figsize=(15, 8))\n",
    "axes = axes.flat\n",
    "\n",
    "for g in range(numGroups):\n",
    "    axes[g].plot(xgrid, true_d[g])\n",
    "    axes[g].plot(xgrid, np.mean(stan_dens[g], 0))\n",
    "    axes[g].set_ylim([0, 0.8])\n",
    "#     intervals = np.array([pm.stats.hpd(dens[g][:, i], 0.95) for i in range(dens[g].shape[1])])\n",
    "#     axes[g].fill_between(xgrid, intervals[:, 0], intervals[:, 1], alpha=0.3, color=current_palette[2])\n",
    "    axes[g].set_title(\"Area: {0}\".format(g))\n",
    "#     sns.kdeplot(datas[g], ax=axes[g], color=current_palette[3])\n",
    "    \n",
    "plt.tight_layout()"
   ]
  },
  {
   "cell_type": "markdown",
   "metadata": {},
   "source": [
    "## HDP"
   ]
  },
  {
   "cell_type": "markdown",
   "metadata": {},
   "source": [
    "Now we want to compare our results with the estimates obtained with Hierarchical Dirichlet Process.  \n",
    "\n",
    "We expect the results to be close on the first dataset, but to have an edge, at least "
   ]
  },
  {
   "cell_type": "code",
   "execution_count": null,
   "metadata": {},
   "outputs": [],
   "source": [
    "subprocess.call(\n",
    "    \"./spatial_mix/run_hdp_from_file.out\"\n",
    "    \" ./notebooks/SIS/approximate_pdf/data/simulation_0.csv\"\n",
    "    \" ./notebooks/SIS/approximate_pdf/data/chains_hdp_simulation_0.recordio\".split())"
   ]
  },
  {
   "cell_type": "code",
   "execution_count": null,
   "metadata": {},
   "outputs": [],
   "source": [
    "hdpChains = loadChains(\"./notebooks/SIS/approximate_pdf/data/chains_hdp_simulation_0.recordio\", HdpState)"
   ]
  },
  {
   "cell_type": "code",
   "execution_count": null,
   "metadata": {},
   "outputs": [],
   "source": [
    "n_comp = np.zeros(len(hdpChains))\n",
    "\n",
    "for i, chain in enumerate(hdpChains):\n",
    "    n_comp[i]=chain.num_components\n",
    "    \n",
    "plt.hist(n_comp)"
   ]
  },
  {
   "cell_type": "code",
   "execution_count": null,
   "metadata": {},
   "outputs": [],
   "source": [
    "densHdp = hdp_utils.estimateDensities(hdpChains, xgrid)"
   ]
  },
  {
   "cell_type": "code",
   "execution_count": null,
   "metadata": {},
   "outputs": [],
   "source": [
    "fig, axes = plt.subplots(nrows=2, ncols=3, figsize=(15, 8))\n",
    "axes = axes.flat\n",
    "\n",
    "for g in range(numGroups):\n",
    "    axes[g].plot(xgrid,true_d[g]) \n",
    "    obs = df[df[\"group\"] == g][\"datum\"].values\n",
    "    # sns.kdeplot(obs, ax=axes[g])\n",
    "    axes[g].set_ylim([0, 0.8])\n",
    "    axes[g].plot(xgrid, np.mean(densHdp[g], 0))\n",
    "    intervals = np.array([pm.stats.hpd(densHdp[g][:, i], 0.05) for i in range(densHdp[g].shape[1])])\n",
    "    axes[g].fill_between(xgrid, intervals[:, 0], intervals[:, 1], alpha=0.3, color=current_palette[2])\n",
    "    axes[g].set_title(\"Area: {0}\".format(g))\n",
    "    \n",
    "plt.tight_layout()"
   ]
  },
  {
   "cell_type": "markdown",
   "metadata": {},
   "source": [
    "## Comparison"
   ]
  },
  {
   "cell_type": "markdown",
   "metadata": {},
   "source": [
    "We can visually compare the credible intervals in the plots above. And then we compare the closedness of the extimates in terms of the Hellinger distance."
   ]
  },
  {
   "cell_type": "code",
   "execution_count": null,
   "metadata": {},
   "outputs": [],
   "source": [
    "for g in range(6):\n",
    "    print(\"OUR: {0:.3f}, HDP: {1:.3f}\".format(\n",
    "        np.mean(post_hellinger_dist(dens[g], true_d[g], xgrid)),\n",
    "        np.mean(post_hellinger_dist(densHdp[g], true_d[g], xgrid))))"
   ]
  },
  {
   "cell_type": "code",
   "execution_count": null,
   "metadata": {},
   "outputs": [],
   "source": [
    "for g in range(numGroups):\n",
    "    print(\"OUR: {0:.3f}, HDP: {1:.3f}\".format(\n",
    "        hellinger_dist(np.mean(dens[g], 0), true_d[g], xgrid),\n",
    "        hellinger_dist(np.mean(densHdp[g], 0), true_d[g], xgrid)))"
   ]
  },
  {
   "cell_type": "code",
   "execution_count": null,
   "metadata": {},
   "outputs": [],
   "source": [
    "def post_kl_div(estimatedDens, true, xgrid):\n",
    "    return np.apply_along_axis(\n",
    "        lambda x: kl_div(true, x, xgrid), 1, estimatedDens)"
   ]
  },
  {
   "cell_type": "code",
   "execution_count": null,
   "metadata": {},
   "outputs": [],
   "source": [
    "for g in range(6):\n",
    "    print(\"OUR: {0:.3f}, HDP: {1:.3f}\".format(\n",
    "        np.mean(post_kl_div(dens[g], true_d[g], xgrid)),\n",
    "        np.mean(post_kl_div(densHdp[g], true_d[g], xgrid))))"
   ]
  },
  {
   "cell_type": "code",
   "execution_count": null,
   "metadata": {},
   "outputs": [],
   "source": [
    "# plot densities\n",
    "\n",
    "import matplotlib\n",
    "import plotly\n",
    "import plotly.graph_objects as go\n",
    "\n",
    "\n",
    "# da cambiare in base al plot\n",
    "g = -1\n",
    "true = true_d[g]\n",
    "\n",
    "estimated = np.mean(densHdp[g], 0)\n",
    "\n",
    "intervals = np.array([pm.stats.hpd(densHdp[g][:, i], 0.05) for i in range(densHdp[g].shape[1])])\n",
    "\n",
    "# --------------------\n",
    "\n",
    "#colors\n",
    "\n",
    "color_true = 'rgba(255,140,0, 1)'\n",
    "color_true_area = 'rgba(255,140,0, 0.)'\n",
    "\n",
    "color_estimated = 'rgba(15, 32, 67, 1)'\n",
    "color_estimated_area = 'rgba(15, 32, 67, 0.)'\n",
    "\n",
    "color_intervals = 'rgba(122, 207, 221, 0.7)'\n",
    "\n",
    "fig = go.Figure()\n",
    "\n",
    "# true density\n",
    "fig.add_trace(go.Scatter(x=xgrid,\n",
    "                         y=true,\n",
    "                         showlegend=False,\n",
    "                         mode='lines',\n",
    "                         line=dict(width=3, \n",
    "                                   color=color_true),\n",
    "                         fill='tozeroy',\n",
    "                         fillcolor=color_true_area,\n",
    "                         ))\n",
    "\n",
    "# estimated density\n",
    "fig.add_trace(go.Scatter(x=xgrid,\n",
    "                         y=estimated,\n",
    "                         showlegend=False,\n",
    "                         mode='lines',\n",
    "                         line=dict(width=3, \n",
    "                                   color=color_estimated),\n",
    "                         fill='tozeroy',\n",
    "                         fillcolor=color_estimated_area,\n",
    "                         ))\n",
    "\n",
    "# Crebible intervals\n",
    "fig.add_trace(go.Scatter(x=xgrid,\n",
    "                         y=intervals[:, 0],\n",
    "                         showlegend=False,\n",
    "                         mode=None,\n",
    "                         line=dict(width=0, \n",
    "                                   color=color_intervals),\n",
    "                         ))\n",
    "fig.add_trace(go.Scatter(x=xgrid,\n",
    "                         y=intervals[:, 1],\n",
    "                         showlegend=True,\n",
    "                         name = '95% Credible Interval',\n",
    "                         mode=None,\n",
    "                         line=dict(width=0, \n",
    "                                   color=color_intervals),\n",
    "                         fill='tonexty',\n",
    "                         fillcolor=color_intervals,\n",
    "                         ))\n",
    "\n",
    "# estimated density\n",
    "fig.add_trace(go.Scatter(x=xgrid,\n",
    "                         y=estimated,\n",
    "                         showlegend=True,\n",
    "                         name='Estimated Density',\n",
    "                         mode='lines',\n",
    "                         line=dict(width=3, \n",
    "                                   color=color_estimated),\n",
    "                         ))\n",
    "\n",
    "# true density\n",
    "fig.add_trace(go.Scatter(x=xgrid,\n",
    "                         y=true,\n",
    "                         showlegend=True,\n",
    "                         name='True Density',\n",
    "                         mode='lines',\n",
    "                         line=dict(width=3, \n",
    "                                   color=color_true),\n",
    "                         ))\n",
    "\n",
    "\n",
    "\n",
    "fig.update_layout(\n",
    "            plot_bgcolor='rgba(0, 0, 0, 0)',\n",
    "            )\n",
    "fig.update_xaxes(showgrid=True, gridwidth=0.5, gridcolor='grey',\n",
    "                 zeroline=True, zerolinewidth=0.5, zerolinecolor='grey')\n",
    "fig.update_yaxes(showgrid=True, gridwidth=0.5, gridcolor='grey',\n",
    "                 zeroline=True, zerolinewidth=0.5, zerolinecolor='grey',\n",
    "                range=[0, 0.7])\n",
    "\n",
    "plotly.offline.iplot(fig)"
   ]
  },
  {
   "cell_type": "code",
   "execution_count": null,
   "metadata": {},
   "outputs": [],
   "source": []
  }
 ],
 "metadata": {
  "kernelspec": {
   "display_name": "Python 3",
   "language": "python",
   "name": "python3"
  },
  "language_info": {
   "codemirror_mode": {
    "name": "ipython",
    "version": 3
   },
   "file_extension": ".py",
   "mimetype": "text/x-python",
   "name": "python",
   "nbconvert_exporter": "python",
   "pygments_lexer": "ipython3",
   "version": "3.8.0"
  }
 },
 "nbformat": 4,
 "nbformat_minor": 2
}

{
 "cells": [
  {
   "cell_type": "code",
   "execution_count": 1,
   "metadata": {},
   "outputs": [],
   "source": [
    "# TO BE RUN ONLY ONCE!\n",
    "import os\n",
    "os.chdir(\"../../../\")"
   ]
  },
  {
   "cell_type": "code",
   "execution_count": 2,
   "metadata": {},
   "outputs": [
    {
     "data": {
      "text/plain": [
       "'/home/mario/PhD/spatial_lda'"
      ]
     },
     "execution_count": 2,
     "metadata": {},
     "output_type": "execute_result"
    }
   ],
   "source": [
    "os.getcwd()"
   ]
  },
  {
   "cell_type": "code",
   "execution_count": 3,
   "metadata": {},
   "outputs": [],
   "source": [
    "## *******************************************************************************"
   ]
  },
  {
   "cell_type": "code",
   "execution_count": 4,
   "metadata": {},
   "outputs": [],
   "source": [
    "import numpy as np\n",
    "import pandas as pd\n",
    "import matplotlib.pyplot as plt\n",
    "\n",
    "import subprocess\n",
    "import pymc3 as pm\n",
    "import seaborn as sns\n",
    "\n",
    "import spatial_mix.hdp_utils as hdp_utils\n",
    "from spatial_mix.utils import *\n",
    "from spatial_mix.protos.py.univariate_mixture_state_pb2 import UnivariateState, UnivariateMixtureState, HdpState\n",
    "\n",
    "current_palette = sns.color_palette()"
   ]
  },
  {
   "cell_type": "markdown",
   "metadata": {},
   "source": [
    "## Simulate data"
   ]
  },
  {
   "cell_type": "markdown",
   "metadata": {},
   "source": [
    "We want to test if our model can approximate with good precision distributions which are far from being gaussian.\n",
    "\n",
    "Moreover we want to assess if locations with fewer data, are able to retrieve information from the other locations in its connected components of the graph.\n",
    "\n",
    "\n",
    "So we simulate data as follows.\n",
    "\n",
    "\n",
    "We will take a graph with 3 connected components and two location in each connected component.\n"
   ]
  },
  {
   "cell_type": "markdown",
   "metadata": {},
   "source": [
    "Then we simulate in each component from a different non gaussian distribution, respectively: t-student, skewnormal and chi squared. \n",
    "\n",
    "\n",
    "$$ y_{ij} \\sim t-stud(6, -4, 1)$$ for i = 0, 1 and j=0,...,$N_i$\n",
    "\n",
    "$$ y_{ij} \\sim skew-norm(4, 4, 1)$$ for i = 2, 3 and j=0,...,$N_i$\n",
    "\n",
    "$$ y_{ij} \\sim \\chi^2(0, 1)$$ for i = 4, 5 and j=0,...,$N_i$\n",
    "\n",
    "\n",
    "In the first stage we take $N_i=1000$ for all i."
   ]
  },
  {
   "cell_type": "code",
   "execution_count": 5,
   "metadata": {},
   "outputs": [],
   "source": [
    "from scipy.stats import t, skewnorm, cauchy, norm, chi2\n",
    "import pandas as pd\n",
    "\n",
    "fail = False\n",
    "\n",
    "xgrid = np.linspace(-10, 10, 1000)\n",
    "\n",
    "true_d = [t.pdf(xgrid, 6, -4, 1), t.pdf(xgrid, 6, -4, 1),\\\n",
    "     skewnorm.pdf(xgrid, 4, 4, 1), skewnorm.pdf(xgrid, 4, 4, 1),\\\n",
    "     chi2.pdf(xgrid, 3, 0, 1), chi2.pdf(xgrid, 3, 0, 1)\\\n",
    "     ]\n",
    "\n",
    "ngroups = 6\n",
    "\n",
    "nsamples = 1000"
   ]
  },
  {
   "cell_type": "code",
   "execution_count": 6,
   "metadata": {},
   "outputs": [],
   "source": [
    "data = []\n",
    "\n",
    "for i in range(nsamples):\n",
    "    data.append([0, t.rvs(6, -4 , 1)])\n",
    "\n",
    "for i in range(nsamples):\n",
    "    data.append([1, t.rvs(6, -4 , 1)])\n",
    "\n",
    "for i in range(nsamples):\n",
    "    data.append([2, skewnorm.rvs(4, 4 , 1)])\n",
    "\n",
    "for i in range(nsamples):\n",
    "    data.append([3, skewnorm.rvs(4, 4 , 1)])\n",
    "\n",
    "for i in range(nsamples):\n",
    "    data.append([4, chi2.rvs(3, 0, 1)])\n",
    "\n",
    "for i in range(nsamples):\n",
    "    data.append([5, chi2.rvs(3, 0, 1)])\n",
    "\n",
    "# cauchy\n",
    "    \n",
    "dat = pd.DataFrame(data, columns=[\"group\", \"datum\"])\n",
    "# dat.to_csv(\"./notebooks/SIS/approximate_pdf/data/simulation_0.csv\", index=False)"
   ]
  },
  {
   "cell_type": "code",
   "execution_count": 7,
   "metadata": {},
   "outputs": [
    {
     "name": "stdout",
     "output_type": "stream",
     "text": [
      "[[0. 1. 0. 0. 0. 0.]\n",
      " [1. 0. 0. 0. 0. 0.]\n",
      " [0. 0. 0. 1. 0. 0.]\n",
      " [0. 0. 1. 0. 0. 0.]\n",
      " [0. 0. 0. 0. 0. 1.]\n",
      " [0. 0. 0. 0. 1. 0.]]\n"
     ]
    }
   ],
   "source": [
    "W = np.zeros((ngroups,ngroups))\n",
    "\n",
    "W[0,1]=W[1,0]=1\n",
    "W[2,3]=W[3,2]=1\n",
    "W[4,5]=W[5,4]=1\n",
    "\n",
    "print(W)\n",
    "\n",
    "# np.savetxt(\"W.txt\",W, delimiter=\",\")"
   ]
  },
  {
   "cell_type": "markdown",
   "metadata": {},
   "source": [
    "## Run via the Python interface"
   ]
  },
  {
   "cell_type": "markdown",
   "metadata": {},
   "source": [
    "## Simulation 0"
   ]
  },
  {
   "cell_type": "code",
   "execution_count": 8,
   "metadata": {
    "scrolled": false
   },
   "outputs": [],
   "source": [
    "from spatial_mix.protos.py.sampler_params_pb2 import SamplerParams\n",
    "from google.protobuf import text_format\n",
    "\n",
    "df = pd.read_csv(\"./notebooks/SIS/approximate_pdf/data/simulation_0.csv\")"
   ]
  },
  {
   "cell_type": "code",
   "execution_count": 9,
   "metadata": {},
   "outputs": [],
   "source": [
    "numGroups = max(df['group'])+1\n",
    "datas = []\n",
    "for g in range(numGroups):\n",
    "    datas.append(df[df['group'] == g]['datum'].values)"
   ]
  },
  {
   "cell_type": "code",
   "execution_count": 10,
   "metadata": {
    "scrolled": true
   },
   "outputs": [
    {
     "name": "stdout",
     "output_type": "stream",
     "text": [
      "Burn-in, iter # 200  /  10000\n",
      "Burn-in, iter # 400  /  10000\n",
      "Burn-in, iter # 600  /  10000\n",
      "Burn-in, iter # 800  /  10000\n",
      "Burn-in, iter # 1000  /  10000\n",
      "Burn-in, iter # 1200  /  10000\n",
      "Burn-in, iter # 1400  /  10000\n",
      "Burn-in, iter # 1600  /  10000\n",
      "Burn-in, iter # 1800  /  10000\n",
      "Burn-in, iter # 2000  /  10000\n",
      "Burn-in, iter # 2200  /  10000\n",
      "Burn-in, iter # 2400  /  10000\n",
      "Burn-in, iter # 2600  /  10000\n",
      "Burn-in, iter # 2800  /  10000\n",
      "Burn-in, iter # 3000  /  10000\n",
      "Burn-in, iter # 3200  /  10000\n",
      "Burn-in, iter # 3400  /  10000\n",
      "Burn-in, iter # 3600  /  10000\n",
      "Burn-in, iter # 3800  /  10000\n",
      "Burn-in, iter # 4000  /  10000\n",
      "Burn-in, iter # 4200  /  10000\n",
      "Burn-in, iter # 4400  /  10000\n",
      "Burn-in, iter # 4600  /  10000\n",
      "Burn-in, iter # 4800  /  10000\n",
      "Burn-in, iter # 5000  /  10000\n",
      "Burn-in, iter # 5200  /  10000\n",
      "Burn-in, iter # 5400  /  10000\n",
      "Burn-in, iter # 5600  /  10000\n",
      "Burn-in, iter # 5800  /  10000\n",
      "Burn-in, iter # 6000  /  10000\n",
      "Burn-in, iter # 6200  /  10000\n",
      "Burn-in, iter # 6400  /  10000\n",
      "Burn-in, iter # 6600  /  10000\n",
      "Burn-in, iter # 6800  /  10000\n",
      "Burn-in, iter # 7000  /  10000\n",
      "Burn-in, iter # 7200  /  10000\n",
      "Burn-in, iter # 7400  /  10000\n",
      "Burn-in, iter # 7600  /  10000\n",
      "Burn-in, iter # 7800  /  10000\n",
      "Burn-in, iter # 8000  /  10000\n",
      "Burn-in, iter # 8200  /  10000\n",
      "Burn-in, iter # 8400  /  10000\n",
      "Burn-in, iter # 8600  /  10000\n",
      "Burn-in, iter # 8800  /  10000\n",
      "Burn-in, iter # 9000  /  10000\n",
      "Burn-in, iter # 9200  /  10000\n",
      "Burn-in, iter # 9400  /  10000\n",
      "Burn-in, iter # 9600  /  10000\n",
      "Burn-in, iter # 9800  /  10000\n",
      "Burn-in, iter # 10000  /  10000\n",
      "Running, iter # 200  /  10000\n",
      "Running, iter # 400  /  10000\n",
      "Running, iter # 600  /  10000\n",
      "Running, iter # 800  /  10000\n",
      "Running, iter # 1000  /  10000\n",
      "Running, iter # 1200  /  10000\n",
      "Running, iter # 1400  /  10000\n",
      "Running, iter # 1600  /  10000\n",
      "Running, iter # 1800  /  10000\n",
      "Running, iter # 2000  /  10000\n",
      "Running, iter # 2200  /  10000\n",
      "Running, iter # 2400  /  10000\n",
      "Running, iter # 2600  /  10000\n",
      "Running, iter # 2800  /  10000\n",
      "Running, iter # 3000  /  10000\n",
      "Running, iter # 3200  /  10000\n",
      "Running, iter # 3400  /  10000\n",
      "Running, iter # 3600  /  10000\n",
      "Running, iter # 3800  /  10000\n",
      "Running, iter # 4000  /  10000\n",
      "Running, iter # 4200  /  10000\n",
      "Running, iter # 4400  /  10000\n",
      "Running, iter # 4600  /  10000\n",
      "Running, iter # 4800  /  10000\n",
      "Running, iter # 5000  /  10000\n",
      "Running, iter # 5200  /  10000\n",
      "Running, iter # 5400  /  10000\n",
      "Running, iter # 5600  /  10000\n",
      "Running, iter # 5800  /  10000\n",
      "Running, iter # 6000  /  10000\n",
      "Running, iter # 6200  /  10000\n",
      "Running, iter # 6400  /  10000\n",
      "Running, iter # 6600  /  10000\n",
      "Running, iter # 6800  /  10000\n",
      "Running, iter # 7000  /  10000\n",
      "Running, iter # 7200  /  10000\n",
      "Running, iter # 7400  /  10000\n",
      "Running, iter # 7600  /  10000\n",
      "Running, iter # 7800  /  10000\n",
      "Running, iter # 8000  /  10000\n",
      "Running, iter # 8200  /  10000\n",
      "Running, iter # 8400  /  10000\n",
      "Running, iter # 8600  /  10000\n",
      "Running, iter # 8800  /  10000\n",
      "Running, iter # 9000  /  10000\n",
      "Running, iter # 9200  /  10000\n",
      "Running, iter # 9400  /  10000\n",
      "Running, iter # 9600  /  10000\n",
      "Running, iter # 9800  /  10000\n",
      "Running, iter # 10000  /  10000\n"
     ]
    }
   ],
   "source": [
    "burnin = 10000\n",
    "niter = 10000\n",
    "thin = 10\n",
    "\n",
    "chains = runSpatialMixtureSampler(burnin, niter, thin, W,\n",
    "                                  \"spatial_mix/resources/sampler_params.asciipb\",\n",
    "                                  datas, [])"
   ]
  },
  {
   "cell_type": "markdown",
   "metadata": {},
   "source": [
    "## Plot density estimates"
   ]
  },
  {
   "cell_type": "code",
   "execution_count": 11,
   "metadata": {
    "scrolled": true
   },
   "outputs": [],
   "source": [
    "dens = estimateDensities(chains, xgrid)"
   ]
  },
  {
   "cell_type": "code",
   "execution_count": 14,
   "metadata": {},
   "outputs": [
    {
     "data": {
      "image/png": "[encoded data removed]",
      "text/plain": [
       "<Figure size 1080x576 with 6 Axes>"
      ]
     },
     "metadata": {
      "needs_background": "light"
     },
     "output_type": "display_data"
    }
   ],
   "source": [
    "fig, axes = plt.subplots(nrows=2, ncols=3, figsize=(15, 8))\n",
    "axes = axes.flat\n",
    "\n",
    "for g in range(numGroups):\n",
    "    axes[g].plot(xgrid, true_d[g])\n",
    "    axes[g].plot(xgrid, np.mean(dens[g], 0))\n",
    "    axes[g].set_ylim([0, 0.8])\n",
    "    intervals = np.array([pm.stats.hpd(dens[g][:, i], 0.95) for i in range(dens[g].shape[1])])\n",
    "    axes[g].fill_between(xgrid, intervals[:, 0], intervals[:, 1], alpha=0.3, color=current_palette[2])\n",
    "    axes[g].set_title(\"Area: {0}\".format(g))\n",
    "#     sns.kdeplot(datas[g], ax=axes[g], color=current_palette[3])\n",
    "    \n",
    "plt.tight_layout()"
   ]
  },
  {
   "cell_type": "code",
   "execution_count": 13,
   "metadata": {},
   "outputs": [
    {
     "data": {
      "text/plain": [
       "array([8.52402348e-07, 8.72174563e-07, 8.87794123e-07, 9.91736435e-07,\n",
       "       1.02659276e-06, 1.05339884e-06, 1.02972573e-06, 1.05811777e-06,\n",
       "       1.13156664e-06, 1.38485541e-06, 1.42339569e-06, 1.46260997e-06,\n",
       "       1.47642457e-06, 1.58441439e-06, 1.66755081e-06, 1.68324518e-06,\n",
       "       1.73018938e-06, 1.77281924e-06, 1.81608496e-06, 1.85913308e-06,\n",
       "       1.90450564e-06, 1.83285028e-06, 1.45607478e-06, 1.50857562e-06,\n",
       "       1.54646755e-06, 1.66327602e-06, 1.70121886e-06, 1.73252659e-06,\n",
       "       1.78322863e-06, 1.78580335e-06, 1.86074807e-06, 1.90557438e-06,\n",
       "       1.89162966e-06, 1.98599636e-06, 2.03839001e-06, 2.07204773e-06,\n",
       "       2.38006915e-06, 2.45380199e-06, 2.51717817e-06, 2.58633322e-06,\n",
       "       2.64483336e-06, 2.68080415e-06, 2.81646818e-06, 2.86447950e-06,\n",
       "       2.91237048e-06, 2.94493273e-06, 3.11733388e-06, 3.15520121e-06,\n",
       "       3.08121076e-06, 3.11843811e-06, 3.15538442e-06, 3.19203015e-06,\n",
       "       3.26706245e-06, 3.33249724e-06, 3.36303993e-06, 3.41333566e-06,\n",
       "       3.46100134e-06, 3.50876430e-06, 3.55151446e-06, 4.70397032e-06,\n",
       "       4.80023532e-06, 4.89761363e-06, 4.96969684e-06, 5.02661692e-06,\n",
       "       5.19270751e-06, 5.25678022e-06, 5.39327333e-06, 5.49462828e-06,\n",
       "       5.59666150e-06, 5.69934501e-06, 5.48945017e-06, 5.63326181e-06,\n",
       "       5.75007553e-06, 5.76011889e-06, 5.82376344e-06, 5.88754028e-06,\n",
       "       7.48926294e-06, 7.56791532e-06, 7.69004364e-06, 7.74855560e-06,\n",
       "       6.16142578e-06, 6.20306373e-06, 6.24407225e-06, 5.07836602e-06,\n",
       "       6.97735129e-06, 7.05594565e-06, 7.19380661e-06, 7.26848323e-06,\n",
       "       7.28566325e-06, 7.34768246e-06, 7.34071496e-06, 7.42121629e-06,\n",
       "       7.45558921e-06, 7.79407164e-06, 7.86729473e-06, 7.95526683e-06,\n",
       "       8.02532590e-06, 8.09026293e-06, 7.97243761e-06, 7.30527043e-06,\n",
       "       7.34896018e-06, 7.39189869e-06, 8.20706403e-06, 8.25962178e-06,\n",
       "       8.28274938e-06, 8.30443135e-06, 8.32467628e-06, 7.59847551e-06,\n",
       "       7.60185097e-06, 8.08124088e-06, 8.13245528e-06, 8.13379671e-06,\n",
       "       7.81803658e-06, 8.09276514e-06, 8.17142949e-06, 6.84280426e-06,\n",
       "       6.88732496e-06, 6.91617950e-06, 6.93905074e-06, 6.90460965e-06,\n",
       "       6.91817484e-06, 7.11404054e-06, 7.01846543e-06, 7.03534933e-06,\n",
       "       7.05107036e-06, 7.04937425e-06, 6.94844838e-06, 6.99659774e-06,\n",
       "       7.00602681e-06, 7.11283549e-06, 7.12196538e-06, 7.08431186e-06,\n",
       "       7.13719879e-06, 7.24921199e-06, 7.25076132e-06, 7.06788279e-06,\n",
       "       7.03806544e-06, 7.08486888e-06, 7.09605427e-06, 7.10624055e-06,\n",
       "       7.11696793e-06, 6.95878190e-06, 6.98931929e-06, 7.02024627e-06,\n",
       "       7.05162787e-06, 1.10936321e-05, 1.09861072e-05, 1.11148846e-05,\n",
       "       1.11763847e-05, 1.12217086e-05, 1.13394102e-05, 1.13431455e-05,\n",
       "       8.87180686e-06, 1.06151363e-05, 1.07232512e-05, 1.08092344e-05,\n",
       "       1.07570705e-05, 1.06498350e-05, 1.09243399e-05, 1.08899234e-05,\n",
       "       8.77231144e-06, 1.09316575e-05, 1.10089775e-05, 1.11685329e-05,\n",
       "       1.11530638e-05, 1.11767466e-05, 1.35782324e-05, 1.34045006e-05,\n",
       "       1.33478390e-05, 1.29723919e-05, 1.29329944e-05, 1.25532312e-05,\n",
       "       1.34584627e-05, 1.34750850e-05, 1.35266515e-05, 1.36172636e-05,\n",
       "       1.45373316e-05, 1.34796561e-05, 1.36348171e-05, 1.32576567e-05,\n",
       "       1.31593808e-05, 1.33018462e-05, 1.33789448e-05, 1.37455371e-05,\n",
       "       1.42127352e-05, 1.18975088e-05, 1.20025695e-05, 1.20228592e-05,\n",
       "       1.26487524e-05, 1.27571565e-05, 1.25763352e-05, 1.26195382e-05,\n",
       "       1.27273030e-05, 1.35884252e-05, 1.39539909e-05, 1.43085108e-05,\n",
       "       1.52473688e-05, 1.42902735e-05, 1.45052113e-05, 1.37011389e-05,\n",
       "       1.50452149e-05, 1.43393612e-05, 1.44907373e-05, 1.48152771e-05,\n",
       "       1.50657367e-05, 1.58943350e-05, 1.55983197e-05, 1.61735282e-05,\n",
       "       1.61141279e-05, 1.39562761e-05, 1.42044379e-05, 1.45483536e-05,\n",
       "       1.47307470e-05, 1.49850682e-05, 1.55246707e-05, 1.53067051e-05,\n",
       "       1.54969002e-05, 1.58497576e-05, 1.42226610e-05, 1.43410318e-05,\n",
       "       1.45758650e-05, 1.52279946e-05, 1.51734093e-05, 1.55065974e-05,\n",
       "       1.65868375e-05, 1.62618289e-05, 1.63133607e-05, 2.67057268e-05,\n",
       "       2.76320603e-05, 2.78680909e-05, 2.86564710e-05, 2.73917413e-05,\n",
       "       2.71876520e-05, 1.97855679e-05, 1.93034376e-05, 2.10482157e-05,\n",
       "       2.01463820e-05, 2.07694765e-05, 2.10237414e-05, 2.21253261e-05,\n",
       "       1.99125812e-05, 2.20487785e-05, 2.21541239e-05, 2.37074015e-05,\n",
       "       2.38478056e-05, 2.41728168e-05, 2.44089939e-05, 2.34440145e-05,\n",
       "       2.36030939e-05, 2.22088139e-05, 2.22509305e-05, 2.23091133e-05,\n",
       "       2.23580210e-05, 2.27024921e-05, 2.30376122e-05, 2.93492600e-05,\n",
       "       2.63186328e-05, 2.57696464e-05, 2.69981638e-05, 2.47090909e-05,\n",
       "       2.71812246e-05, 2.74655650e-05, 2.78206947e-05, 2.81556494e-05,\n",
       "       2.81744059e-05, 2.62117585e-05, 2.64428754e-05, 2.92091969e-05,\n",
       "       2.94438547e-05, 2.94552897e-05, 3.66474468e-05, 3.70598155e-05,\n",
       "       3.87826451e-05, 3.77633010e-05, 3.77146644e-05, 3.77036990e-05,\n",
       "       3.56794615e-05, 3.11361887e-05, 3.20077345e-05, 3.20748830e-05,\n",
       "       3.11779046e-05, 3.13927842e-05, 3.18481611e-05, 3.18062737e-05,\n",
       "       3.18257770e-05, 3.14080748e-05, 3.11829266e-05, 4.44557353e-05,\n",
       "       3.25000021e-05, 4.31167010e-05, 4.30852466e-05, 4.30090789e-05,\n",
       "       4.11510922e-05, 4.49355786e-05, 4.52272001e-05, 4.52901879e-05,\n",
       "       4.53609847e-05, 4.51880449e-05, 4.52163215e-05, 4.52980695e-05,\n",
       "       3.46586658e-05, 3.42623323e-05, 3.41715305e-05, 3.41771079e-05,\n",
       "       3.34473285e-05, 3.37600846e-05, 3.40471693e-05, 3.43357758e-05,\n",
       "       3.43500324e-05, 3.48258902e-05, 3.33935990e-05, 3.39587398e-05,\n",
       "       3.33606974e-05, 3.32275478e-05, 3.30909826e-05, 3.29510394e-05,\n",
       "       3.28077680e-05, 3.20206509e-05, 3.21205131e-05, 3.22798324e-05,\n",
       "       3.20293349e-05, 3.11717289e-05, 3.11101193e-05, 3.11988401e-05,\n",
       "       3.09933117e-05, 3.04736524e-05, 3.03352187e-05, 2.98977752e-05,\n",
       "       2.99528611e-05, 2.92259522e-05, 2.92107434e-05, 2.88562720e-05,\n",
       "       1.30232946e-05, 1.29519240e-05, 2.53156800e-05, 2.51080784e-05,\n",
       "       1.26256808e-05, 2.64439926e-05, 2.61767585e-05, 2.58321857e-05,\n",
       "       2.58518744e-05, 2.43168399e-05, 2.61736138e-05, 2.58764288e-05,\n",
       "       2.55403440e-05, 1.31743781e-05, 2.48134893e-05, 2.45482694e-05,\n",
       "       2.43080076e-05, 2.38718536e-05, 2.45133683e-05, 2.30616671e-05,\n",
       "       2.43206276e-05, 2.56425619e-05, 2.44633417e-05, 2.44336570e-05,\n",
       "       2.39178954e-05, 2.36060809e-05, 2.31965087e-05, 2.31094482e-05,\n",
       "       2.26544182e-05, 2.24277479e-05, 2.17867859e-05, 2.11083170e-05,\n",
       "       2.82094003e-05, 2.38022468e-05, 2.64648599e-05, 2.45961047e-05,\n",
       "       2.49692279e-05, 2.47897911e-05, 2.43183035e-05, 2.38691200e-05,\n",
       "       2.30573343e-05, 2.27531652e-05, 2.23778835e-05, 2.22189892e-05,\n",
       "       1.63887604e-05, 2.27849817e-05, 2.20858581e-05, 2.13869400e-05,\n",
       "       2.11589771e-05, 1.96616282e-05, 2.03603747e-05, 2.02687673e-05,\n",
       "       2.64920061e-05, 2.66434074e-05, 2.59478858e-05, 2.52103470e-05,\n",
       "       2.48202151e-05, 1.43610714e-05, 1.47678394e-05, 1.47034797e-05,\n",
       "       1.46056819e-05, 1.37048657e-05, 1.35637874e-05, 1.34098276e-05,\n",
       "       1.32536317e-05, 1.30241797e-05, 1.18767876e-05, 1.20362105e-05,\n",
       "       1.12990374e-05, 1.15149950e-05, 1.18104795e-05, 1.14542676e-05,\n",
       "       1.17157517e-05, 1.09174890e-05, 1.04316742e-05, 1.24570610e-05,\n",
       "       1.20352597e-05, 3.04489120e-05, 1.12308137e-05, 1.12609915e-05,\n",
       "       2.92926511e-05, 3.02040147e-05, 2.81037501e-05, 2.75152206e-05,\n",
       "       2.77459962e-05, 2.70896789e-05, 2.95976960e-05, 3.09577431e-05,\n",
       "       3.23816245e-05, 3.31987610e-05, 3.41767211e-05, 1.71972997e-05,\n",
       "       1.73746088e-05, 1.82041244e-05, 1.93677834e-05, 1.69940297e-05,\n",
       "       1.70638862e-05, 1.79936083e-05, 1.81111418e-05, 2.04269989e-05,\n",
       "       2.23155573e-05, 2.36440908e-05, 2.23007750e-05, 2.30304274e-05,\n",
       "       2.77109269e-05, 2.86730184e-05, 2.98530831e-05, 2.76114780e-05,\n",
       "       3.14982498e-05, 3.97486257e-05, 4.38043420e-05, 4.52625300e-05,\n",
       "       4.68759629e-05, 5.10664533e-05, 5.60456635e-05, 5.78084450e-05,\n",
       "       6.21634077e-05, 6.72914352e-05, 7.12629277e-05, 7.63139761e-05,\n",
       "       7.63663091e-05, 8.63084434e-05, 9.46416329e-05, 1.11286063e-04,\n",
       "       1.25136868e-04, 2.33558209e-04, 1.65542232e-04, 1.86862460e-04,\n",
       "       2.86029691e-04, 3.05084648e-04, 4.86141592e-04, 3.82445236e-04,\n",
       "       6.38744899e-04, 5.33951830e-04, 5.50543122e-04, 6.20195866e-04,\n",
       "       1.04548773e-03, 8.38694666e-04, 9.56197471e-04, 1.10376959e-03,\n",
       "       1.23307756e-03, 1.41347226e-03, 1.67763113e-03, 1.97094212e-03,\n",
       "       2.64754968e-03, 3.07693163e-03, 3.55770955e-03, 4.13073870e-03,\n",
       "       4.47112056e-03, 5.13070599e-03, 5.79820260e-03, 6.99295438e-03,\n",
       "       7.92179467e-03, 8.92615155e-03, 9.99531965e-03, 1.12232361e-02,\n",
       "       1.25986156e-02, 1.42744183e-02, 1.59938810e-02, 1.87761852e-02,\n",
       "       1.89704527e-02, 2.12175248e-02, 2.37955788e-02, 2.67019324e-02,\n",
       "       2.96851210e-02, 3.27378069e-02, 3.59584555e-02, 4.10219273e-02,\n",
       "       4.78947763e-02, 4.66070831e-02, 5.42380557e-02, 5.81890519e-02,\n",
       "       6.37156039e-02, 6.96245108e-02, 7.56990754e-02, 8.16148612e-02,\n",
       "       8.95885329e-02, 9.62475439e-02, 1.01836441e-01, 1.12795159e-01,\n",
       "       1.20812334e-01, 1.26359123e-01, 1.33837317e-01, 1.41595976e-01,\n",
       "       1.52232099e-01, 1.60977920e-01, 1.69199258e-01, 1.77624740e-01,\n",
       "       1.86228737e-01, 1.89885750e-01, 1.97677072e-01, 2.14533859e-01,\n",
       "       2.19079727e-01, 2.28150851e-01, 2.36420565e-01, 2.41002278e-01,\n",
       "       2.49126114e-01, 2.60616456e-01, 2.62307210e-01, 2.71053719e-01,\n",
       "       2.69115902e-01, 2.73033954e-01, 2.76289068e-01, 2.79519799e-01,\n",
       "       2.82201573e-01, 2.90568620e-01, 2.91675980e-01, 2.83655743e-01,\n",
       "       2.95278098e-01, 2.95987902e-01, 2.91519679e-01, 2.88595014e-01,\n",
       "       2.88691992e-01, 2.87073705e-01, 2.86069633e-01, 2.81575953e-01,\n",
       "       2.87213185e-01, 2.78637813e-01, 2.76171694e-01, 2.73356506e-01,\n",
       "       2.71397494e-01, 2.68483485e-01, 2.63627243e-01, 2.55468472e-01,\n",
       "       2.53225409e-01, 2.55656634e-01, 2.44270231e-01, 2.38907526e-01,\n",
       "       2.34413575e-01, 2.38601647e-01, 2.31143826e-01, 2.27494281e-01,\n",
       "       2.24499866e-01, 2.20141365e-01, 2.15064061e-01, 2.13511076e-01,\n",
       "       2.20277429e-01, 2.12008915e-01, 2.12246346e-01, 2.12012863e-01,\n",
       "       2.10526475e-01, 2.08423826e-01, 2.06997017e-01, 2.05175771e-01,\n",
       "       2.04477353e-01, 2.01094275e-01, 2.01179997e-01, 2.01021787e-01,\n",
       "       2.05862721e-01, 2.05739775e-01, 2.04651251e-01, 2.08842464e-01,\n",
       "       2.05923667e-01, 2.06559196e-01, 2.07840176e-01, 2.07592513e-01,\n",
       "       2.07552726e-01, 2.00846966e-01, 2.07053264e-01, 2.02344172e-01,\n",
       "       2.02508709e-01, 2.15886231e-01, 2.16316489e-01, 2.03556236e-01,\n",
       "       2.05795665e-01, 2.18087484e-01, 2.17664564e-01, 2.12722435e-01,\n",
       "       2.12279006e-01, 2.11675069e-01, 2.04752672e-01, 2.13071834e-01,\n",
       "       2.11912241e-01, 2.10932286e-01, 2.09926015e-01, 2.03498750e-01,\n",
       "       2.02004607e-01, 2.05378354e-01, 2.04239972e-01, 2.03983497e-01,\n",
       "       2.06250280e-01, 2.05771657e-01, 1.97328878e-01, 2.00499989e-01,\n",
       "       1.99407111e-01, 1.97733552e-01, 1.92547211e-01, 1.95726180e-01,\n",
       "       1.94578401e-01, 1.92920082e-01, 1.93821963e-01, 1.88778213e-01,\n",
       "       1.87276886e-01, 1.88325247e-01, 1.84921122e-01, 1.83741727e-01,\n",
       "       1.83876050e-01, 1.76322278e-01, 1.81239791e-01, 1.79312660e-01,\n",
       "       1.77718832e-01, 1.76280215e-01, 1.75928329e-01, 1.74780860e-01,\n",
       "       1.72375670e-01, 1.69581343e-01, 1.68056943e-01, 1.66333334e-01,\n",
       "       1.64906355e-01, 1.67075232e-01, 1.62012377e-01, 1.62269202e-01,\n",
       "       1.61212849e-01, 1.59535750e-01, 1.58226507e-01, 1.57029652e-01,\n",
       "       1.55389527e-01, 1.51169828e-01, 1.50168228e-01, 1.48419587e-01,\n",
       "       1.47328276e-01, 1.46917547e-01, 1.47783542e-01, 1.46441872e-01,\n",
       "       1.44625407e-01, 1.37699578e-01, 1.36495831e-01, 1.39011636e-01,\n",
       "       1.38552876e-01, 1.37107005e-01, 1.35833067e-01, 1.34703363e-01,\n",
       "       1.33902946e-01, 1.32866202e-01, 1.31967881e-01, 1.30597242e-01,\n",
       "       1.29927680e-01, 1.28775901e-01, 1.29818355e-01, 1.28177036e-01,\n",
       "       1.26655441e-01, 1.23889856e-01, 1.18619184e-01, 1.18108117e-01,\n",
       "       1.16767555e-01, 1.22537960e-01, 1.20987617e-01, 1.19050612e-01,\n",
       "       1.16340235e-01, 1.14931410e-01, 1.14042971e-01, 1.13835956e-01,\n",
       "       1.12393331e-01, 1.11132714e-01, 1.09019257e-01, 1.07672508e-01,\n",
       "       1.06347822e-01, 1.04550555e-01, 1.03822041e-01, 1.03338960e-01,\n",
       "       1.02110824e-01, 1.03744722e-01, 1.02499008e-01, 1.01295495e-01,\n",
       "       1.00035051e-01, 1.00017991e-01, 9.76192717e-02, 9.77307076e-02,\n",
       "       9.66222555e-02, 9.54857040e-02, 9.27136563e-02, 9.19540464e-02,\n",
       "       9.14110411e-02, 9.14906722e-02, 9.36272601e-02, 8.81955844e-02,\n",
       "       8.85390681e-02, 8.81147997e-02, 8.85454139e-02, 8.47538288e-02,\n",
       "       8.36884492e-02, 8.29128970e-02, 8.26643524e-02, 8.69922559e-02,\n",
       "       8.48849606e-02, 8.45641639e-02, 8.42155170e-02, 8.35841432e-02,\n",
       "       8.33637265e-02, 8.30933073e-02, 8.26244922e-02, 8.22032066e-02,\n",
       "       7.98032191e-02, 8.07237204e-02, 8.06571946e-02, 8.00441313e-02,\n",
       "       7.95346101e-02, 7.85388288e-02, 7.82307548e-02, 7.82005673e-02,\n",
       "       7.76863110e-02, 7.78243097e-02, 7.75772918e-02, 7.55178543e-02,\n",
       "       7.53435260e-02, 7.51337487e-02, 7.62422808e-02, 7.62246641e-02,\n",
       "       7.59188282e-02, 7.70317068e-02, 7.69629973e-02, 7.51040986e-02,\n",
       "       7.46424349e-02, 7.59450889e-02, 7.72349328e-02, 7.35193137e-02,\n",
       "       7.34193083e-02, 7.49456132e-02, 7.55479112e-02, 7.10968413e-02,\n",
       "       7.16076758e-02, 7.14116747e-02, 7.09992259e-02, 7.08709300e-02,\n",
       "       7.11268103e-02, 7.02639417e-02, 6.98394051e-02, 6.92565431e-02,\n",
       "       6.82778741e-02, 6.81473302e-02, 6.73800869e-02, 6.69563392e-02,\n",
       "       6.84422832e-02, 6.79716718e-02, 6.76249479e-02, 6.71012967e-02,\n",
       "       6.64218693e-02, 6.60042504e-02, 6.61810127e-02, 6.57982689e-02,\n",
       "       6.54629665e-02, 6.51814400e-02, 6.44977579e-02, 6.44787396e-02,\n",
       "       6.38013857e-02, 6.30636077e-02, 6.50288426e-02, 6.46241066e-02,\n",
       "       6.39317887e-02, 6.34267921e-02, 6.28434167e-02, 6.11745280e-02,\n",
       "       6.02659937e-02, 5.85256447e-02, 6.16540130e-02, 5.84843839e-02,\n",
       "       5.86618197e-02, 5.79264532e-02, 5.75221422e-02, 5.59786273e-02,\n",
       "       5.63146783e-02, 5.57801332e-02, 5.55346283e-02, 5.49418836e-02,\n",
       "       5.25733243e-02, 5.20609285e-02, 5.14512834e-02, 5.42939038e-02,\n",
       "       5.00889482e-02, 4.79728027e-02, 4.74123531e-02, 5.04641449e-02,\n",
       "       4.76885399e-02, 4.74194223e-02, 4.80995378e-02, 4.62157715e-02,\n",
       "       4.78016826e-02, 4.74308833e-02, 4.68818844e-02, 4.65129530e-02,\n",
       "       4.63550886e-02, 4.57983196e-02, 4.54607589e-02, 4.49180788e-02,\n",
       "       4.46538885e-02, 4.46537378e-02, 4.42367430e-02, 4.28956504e-02,\n",
       "       4.22663462e-02, 4.30517125e-02, 4.25646425e-02, 4.22192530e-02,\n",
       "       4.19582071e-02, 4.18750248e-02, 4.06041014e-02, 4.02433230e-02,\n",
       "       3.98750975e-02, 3.96805185e-02, 3.94300476e-02, 3.91514735e-02,\n",
       "       3.82231708e-02, 3.77767585e-02, 3.74060457e-02, 3.69921994e-02,\n",
       "       3.67230876e-02, 3.69097180e-02, 3.65507798e-02, 3.50150939e-02,\n",
       "       3.46980422e-02, 3.57445795e-02, 3.53523112e-02, 3.50292685e-02,\n",
       "       3.37408039e-02, 3.33955560e-02, 3.34788555e-02, 3.29159216e-02,\n",
       "       3.25805992e-02, 3.22136814e-02, 3.19443011e-02, 3.16940795e-02,\n",
       "       3.13069206e-02, 3.00246732e-02, 3.24436665e-02, 2.92559391e-02,\n",
       "       2.89374809e-02, 2.86905434e-02, 2.83767280e-02, 2.79597945e-02,\n",
       "       2.76345742e-02, 2.74946993e-02, 2.70938504e-02, 2.72567115e-02,\n",
       "       2.58528429e-02, 2.55238735e-02, 2.52044605e-02, 2.50133068e-02,\n",
       "       2.48511073e-02, 2.65683638e-02, 2.46048723e-02, 2.43159681e-02,\n",
       "       2.41129538e-02, 2.39246226e-02, 2.37291442e-02, 2.35740878e-02,\n",
       "       2.33865604e-02, 2.33706068e-02, 2.31152277e-02, 2.28996436e-02,\n",
       "       2.26819328e-02, 2.17637413e-02, 1.99278698e-02, 1.97411181e-02,\n",
       "       1.94801008e-02, 1.92427826e-02, 1.96804269e-02, 1.95709331e-02,\n",
       "       1.93983586e-02, 1.91244475e-02, 1.89184455e-02, 1.86911271e-02,\n",
       "       1.98479824e-02, 1.84577778e-02, 1.93861803e-02, 1.78839374e-02,\n",
       "       1.87770233e-02, 1.86873053e-02, 1.85065181e-02, 1.81960558e-02,\n",
       "       1.79920323e-02, 1.77546984e-02, 1.77944508e-02, 1.76132900e-02,\n",
       "       1.72704096e-02, 1.70971816e-02, 1.74031839e-02, 1.60020722e-02,\n",
       "       1.57799070e-02, 1.60495718e-02, 1.62609774e-02, 1.61331465e-02,\n",
       "       1.60159278e-02, 1.63041259e-02, 1.56350473e-02, 1.48045167e-02,\n",
       "       1.57604864e-02, 1.55290188e-02, 1.54310618e-02, 1.51906754e-02,\n",
       "       1.43396219e-02, 1.42426458e-02, 1.41273803e-02, 1.40413110e-02,\n",
       "       1.39370354e-02, 1.37779344e-02, 1.34381654e-02, 1.33408879e-02,\n",
       "       1.32547503e-02, 1.35144043e-02, 1.33667729e-02, 1.33187483e-02,\n",
       "       1.29798666e-02, 1.32245256e-02, 1.37530755e-02, 1.36051145e-02,\n",
       "       1.28365035e-02, 1.27353112e-02, 1.26077904e-02, 1.25211569e-02,\n",
       "       1.24413094e-02, 1.27127527e-02, 1.23228307e-02, 1.22877454e-02,\n",
       "       1.22359525e-02, 1.21596506e-02, 1.21686474e-02, 1.21071215e-02,\n",
       "       1.20374136e-02, 1.19064806e-02, 1.17867058e-02, 1.17487744e-02,\n",
       "       1.16165345e-02, 1.15507761e-02, 1.14760298e-02, 1.17545601e-02,\n",
       "       1.16737593e-02, 1.16075025e-02, 1.15396288e-02, 1.14837088e-02,\n",
       "       1.14164472e-02, 1.13562948e-02, 1.12501073e-02, 1.11782846e-02,\n",
       "       1.10626721e-02, 1.09626222e-02, 1.09479756e-02, 1.04944715e-02,\n",
       "       1.04400416e-02, 1.07227235e-02, 1.02259231e-02, 1.06753152e-02,\n",
       "       1.01294429e-02, 1.01663570e-02, 1.00364948e-02, 9.99196986e-03,\n",
       "       9.93579274e-03, 9.88862411e-03, 9.83524740e-03, 1.05640087e-02,\n",
       "       1.05189229e-02, 1.04519924e-02, 1.03395184e-02, 9.61532165e-03,\n",
       "       9.56762126e-03, 9.51727536e-03, 1.00339084e-02, 9.97729381e-03,\n",
       "       9.91383345e-03, 9.83185547e-03, 9.20260703e-03, 9.13450464e-03,\n",
       "       9.08415342e-03, 9.02359446e-03, 8.95921899e-03, 8.90707629e-03,\n",
       "       8.87020932e-03, 8.79093091e-03, 8.72051426e-03, 8.66094505e-03])"
      ]
     },
     "execution_count": 13,
     "metadata": {},
     "output_type": "execute_result"
    }
   ],
   "source": [
    "intervals[:, 0]"
   ]
  },
  {
   "cell_type": "markdown",
   "metadata": {},
   "source": [
    "## HDP"
   ]
  },
  {
   "cell_type": "markdown",
   "metadata": {},
   "source": [
    "Now we want to compare our results with the estimates obtained with Hierarchical Dirichlet Process.  \n",
    "\n",
    "We expect the results to be close on the first dataset, but to have an edge, at least "
   ]
  },
  {
   "cell_type": "code",
   "execution_count": null,
   "metadata": {},
   "outputs": [],
   "source": [
    "subprocess.call(\n",
    "    \"./spatial_mix/run_hdp_from_file.out\"\n",
    "    \" ./notebooks/SIS/approximate_pdf/data/simulation_0.csv\"\n",
    "    \" ./notebooks/SIS/approximate_pdf/data/chains_hdp_simulation_0.recordio\".split())"
   ]
  },
  {
   "cell_type": "code",
   "execution_count": null,
   "metadata": {},
   "outputs": [],
   "source": [
    "hdpChains = loadChains(\"./notebooks/SIS/approximate_pdf/data/chains_hdp_simulation_0.recordio\", HdpState)"
   ]
  },
  {
   "cell_type": "code",
   "execution_count": null,
   "metadata": {},
   "outputs": [],
   "source": [
    "n_comp = np.zeros(len(hdpChains))\n",
    "\n",
    "for i, chain in enumerate(hdpChains):\n",
    "    n_comp[i]=chain.num_components\n",
    "    \n",
    "plt.hist(n_comp)"
   ]
  },
  {
   "cell_type": "code",
   "execution_count": null,
   "metadata": {},
   "outputs": [],
   "source": [
    "densHdp = hdp_utils.estimateDensities(hdpChains, xgrid)"
   ]
  },
  {
   "cell_type": "code",
   "execution_count": null,
   "metadata": {},
   "outputs": [],
   "source": [
    "fig, axes = plt.subplots(nrows=2, ncols=3, figsize=(15, 8))\n",
    "axes = axes.flat\n",
    "\n",
    "for g in range(numGroups):\n",
    "    axes[g].plot(xgrid,true_d[g]) \n",
    "    obs = df[df[\"group\"] == g][\"datum\"].values\n",
    "    # sns.kdeplot(obs, ax=axes[g])\n",
    "    axes[g].set_ylim([0, 0.8])\n",
    "    axes[g].plot(xgrid, np.mean(densHdp[g], 0))\n",
    "    intervals = np.array([pm.stats.hpd(densHdp[g][:, i], 0.05) for i in range(densHdp[g].shape[1])])\n",
    "    axes[g].fill_between(xgrid, intervals[:, 0], intervals[:, 1], alpha=0.3, color=current_palette[2])\n",
    "    axes[g].set_title(\"Area: {0}\".format(g))\n",
    "    \n",
    "plt.tight_layout()"
   ]
  },
  {
   "cell_type": "markdown",
   "metadata": {},
   "source": [
    "## Comparison"
   ]
  },
  {
   "cell_type": "markdown",
   "metadata": {},
   "source": [
    "We can visually compare the credible intervals in the plots above. And then we compare the closedness of the extimates in terms of the Hellinger distance."
   ]
  },
  {
   "cell_type": "code",
   "execution_count": null,
   "metadata": {},
   "outputs": [],
   "source": [
    "for g in range(6):\n",
    "    print(\"OUR: {0:.3f}, HDP: {1:.3f}\".format(\n",
    "        np.mean(post_hellinger_dist(dens[g], true_d[g], xgrid)),\n",
    "        np.mean(post_hellinger_dist(densHdp[g], true_d[g], xgrid))))"
   ]
  },
  {
   "cell_type": "code",
   "execution_count": null,
   "metadata": {},
   "outputs": [],
   "source": [
    "for g in range(numGroups):\n",
    "    print(\"OUR: {0:.3f}, HDP: {1:.3f}\".format(\n",
    "        hellinger_dist(np.mean(dens[g], 0), true_d[g], xgrid),\n",
    "        hellinger_dist(np.mean(densHdp[g], 0), true_d[g], xgrid)))"
   ]
  },
  {
   "cell_type": "code",
   "execution_count": null,
   "metadata": {},
   "outputs": [],
   "source": [
    "def post_kl_div(estimatedDens, true, xgrid):\n",
    "    return np.apply_along_axis(\n",
    "        lambda x: kl_div(true, x, xgrid), 1, estimatedDens)"
   ]
  },
  {
   "cell_type": "code",
   "execution_count": null,
   "metadata": {},
   "outputs": [],
   "source": [
    "for g in range(6):\n",
    "    print(\"OUR: {0:.3f}, HDP: {1:.3f}\".format(\n",
    "        np.mean(post_kl_div(dens[g], true_d[g], xgrid)),\n",
    "        np.mean(post_kl_div(densHdp[g], true_d[g], xgrid))))"
   ]
  },
  {
   "cell_type": "code",
   "execution_count": null,
   "metadata": {},
   "outputs": [],
   "source": [
    "# plot densities\n",
    "\n",
    "import matplotlib\n",
    "import plotly\n",
    "import plotly.graph_objects as go\n",
    "\n",
    "\n",
    "# da cambiare in base al plot\n",
    "g = -1\n",
    "true = true_d[g]\n",
    "\n",
    "estimated = np.mean(densHdp[g], 0)\n",
    "\n",
    "intervals = np.array([pm.stats.hpd(densHdp[g][:, i], 0.05) for i in range(densHdp[g].shape[1])])\n",
    "\n",
    "# --------------------\n",
    "\n",
    "#colors\n",
    "\n",
    "color_true = 'rgba(255,140,0, 1)'\n",
    "color_true_area = 'rgba(255,140,0, 0.)'\n",
    "\n",
    "color_estimated = 'rgba(15, 32, 67, 1)'\n",
    "color_estimated_area = 'rgba(15, 32, 67, 0.)'\n",
    "\n",
    "color_intervals = 'rgba(122, 207, 221, 0.7)'\n",
    "\n",
    "fig = go.Figure()\n",
    "\n",
    "# true density\n",
    "fig.add_trace(go.Scatter(x=xgrid,\n",
    "                         y=true,\n",
    "                         showlegend=False,\n",
    "                         mode='lines',\n",
    "                         line=dict(width=3, \n",
    "                                   color=color_true),\n",
    "                         fill='tozeroy',\n",
    "                         fillcolor=color_true_area,\n",
    "                         ))\n",
    "\n",
    "# estimated density\n",
    "fig.add_trace(go.Scatter(x=xgrid,\n",
    "                         y=estimated,\n",
    "                         showlegend=False,\n",
    "                         mode='lines',\n",
    "                         line=dict(width=3, \n",
    "                                   color=color_estimated),\n",
    "                         fill='tozeroy',\n",
    "                         fillcolor=color_estimated_area,\n",
    "                         ))\n",
    "\n",
    "# Crebible intervals\n",
    "fig.add_trace(go.Scatter(x=xgrid,\n",
    "                         y=intervals[:, 0],\n",
    "                         showlegend=False,\n",
    "                         mode=None,\n",
    "                         line=dict(width=0, \n",
    "                                   color=color_intervals),\n",
    "                         ))\n",
    "fig.add_trace(go.Scatter(x=xgrid,\n",
    "                         y=intervals[:, 1],\n",
    "                         showlegend=True,\n",
    "                         name = '95% Credible Interval',\n",
    "                         mode=None,\n",
    "                         line=dict(width=0, \n",
    "                                   color=color_intervals),\n",
    "                         fill='tonexty',\n",
    "                         fillcolor=color_intervals,\n",
    "                         ))\n",
    "\n",
    "# estimated density\n",
    "fig.add_trace(go.Scatter(x=xgrid,\n",
    "                         y=estimated,\n",
    "                         showlegend=True,\n",
    "                         name='Estimated Density',\n",
    "                         mode='lines',\n",
    "                         line=dict(width=3, \n",
    "                                   color=color_estimated),\n",
    "                         ))\n",
    "\n",
    "# true density\n",
    "fig.add_trace(go.Scatter(x=xgrid,\n",
    "                         y=true,\n",
    "                         showlegend=True,\n",
    "                         name='True Density',\n",
    "                         mode='lines',\n",
    "                         line=dict(width=3, \n",
    "                                   color=color_true),\n",
    "                         ))\n",
    "\n",
    "\n",
    "\n",
    "fig.update_layout(\n",
    "            plot_bgcolor='rgba(0, 0, 0, 0)',\n",
    "            )\n",
    "fig.update_xaxes(showgrid=True, gridwidth=0.5, gridcolor='grey',\n",
    "                 zeroline=True, zerolinewidth=0.5, zerolinecolor='grey')\n",
    "fig.update_yaxes(showgrid=True, gridwidth=0.5, gridcolor='grey',\n",
    "                 zeroline=True, zerolinewidth=0.5, zerolinecolor='grey',\n",
    "                range=[0, 0.7])\n",
    "\n",
    "plotly.offline.iplot(fig)"
   ]
  },
  {
   "cell_type": "code",
   "execution_count": null,
   "metadata": {},
   "outputs": [],
   "source": []
  }
 ],
 "metadata": {
  "kernelspec": {
   "display_name": "Python 3",
   "language": "python",
   "name": "python3"
  },
  "language_info": {
   "codemirror_mode": {
    "name": "ipython",
    "version": 3
   },
   "file_extension": ".py",
   "mimetype": "text/x-python",
   "name": "python",
   "nbconvert_exporter": "python",
   "pygments_lexer": "ipython3",
   "version": "3.8.0"
  }
 },
 "nbformat": 4,
 "nbformat_minor": 2
}

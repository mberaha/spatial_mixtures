{
 "cells": [
  {
   "cell_type": "code",
   "execution_count": 1,
   "metadata": {},
   "outputs": [
    {
     "data": {
      "text/plain": [
       "'/home/mario/PhD/spatial_lda'"
      ]
     },
     "execution_count": 1,
     "metadata": {},
     "output_type": "execute_result"
    }
   ],
   "source": [
    "import matplotlib.pyplot as plt\n",
    "import numpy as np\n",
    "import pandas as pd\n",
    "import pickle\n",
    "from scipy.stats import t, norm, skewnorm, cauchy, chi2\n",
    "\n",
    "import os\n",
    "os.chdir(\"../\")\n",
    "os.getcwd()"
   ]
  },
  {
   "cell_type": "code",
   "execution_count": 2,
   "metadata": {},
   "outputs": [],
   "source": [
    "import spatial_mix.utils as spmix_utils\n",
    "import spatial_mix.hdp_utils as hdp_utils"
   ]
  },
  {
   "cell_type": "code",
   "execution_count": 3,
   "metadata": {},
   "outputs": [],
   "source": [
    "import matplotlib\n",
    "matplotlib.rcParams['text.usetex'] = True\n",
    "TITLE_FONT_SIZE = 14\n",
    "AXIS_FONT_SIZE = 12"
   ]
  },
  {
   "cell_type": "code",
   "execution_count": 4,
   "metadata": {},
   "outputs": [],
   "source": [
    "xgrid = np.linspace(-10, 10, 1000)\n",
    "\n",
    "true_dens_scenario12 = [\n",
    "    t.pdf(xgrid, 6, -4, 1), t.pdf(xgrid, 6, -4, 1),\n",
    "    skewnorm.pdf(xgrid, 4, 4, 1), skewnorm.pdf(xgrid, 4, 4, 1),\n",
    "    chi2.pdf(xgrid, 3, 0, 1), chi2.pdf(xgrid, 3, 0, 1)\n",
    "]\n",
    "\n",
    "true_dens_scenario3 = [\n",
    "    t.pdf(xgrid, 6, -4, 1), t.pdf(xgrid, 6, -4, 1),\n",
    "    skewnorm.pdf(xgrid, 4, 4, 1), skewnorm.pdf(xgrid, 4, 4, 1),\n",
    "    cauchy.pdf(xgrid, 0, 1), cauchy.pdf(xgrid, 0, 1)\n",
    "]"
   ]
  },
  {
   "cell_type": "code",
   "execution_count": 5,
   "metadata": {},
   "outputs": [],
   "source": [
    "spmix_folder = \"data/simulation1/spmix/dens\"\n",
    "hdp_folder = \"data/simulation1/hdp/dens\"\n",
    "jo_folder = \"data/simulation1/jo/dens\""
   ]
  },
  {
   "cell_type": "markdown",
   "metadata": {},
   "source": [
    "### SPMIX"
   ]
  },
  {
   "cell_type": "code",
   "execution_count": null,
   "metadata": {
    "scrolled": true
   },
   "outputs": [],
   "source": [
    "hell_dists_spmix = []\n",
    "kl_divs_spmix = []\n",
    "\n",
    "for scen in range(3):\n",
    "    print(\"Scen: {0}\".format(scen))\n",
    "    curr_hell = []\n",
    "    curr_kl = []\n",
    "    for rep in range(100):\n",
    "        print(\"\\rRep: {0}\".format(rep), end=\" \", flush=True)\n",
    "        \n",
    "        densfile = os.path.join(spmix_folder, \"scenario{0}/rep{1}.pickle\".format(scen, rep))\n",
    "        with open(densfile, 'rb') as fp:\n",
    "            dens = pickle.load(fp)\n",
    "        \n",
    "        if scen < 2:\n",
    "            for loc in range(6):\n",
    "                curr_hell.append(\n",
    "                    (scen, rep, loc, \n",
    "                     np.mean(spmix_utils.post_hellinger_dist(\n",
    "                        dens[\"dens\"][loc], true_dens_scenario12[loc], xgrid))))\n",
    "                \n",
    "                curr_kl.append(\n",
    "                    (scen, rep, loc, \n",
    "                     np.mean(spmix_utils.post_kl_div(\n",
    "                        dens[\"dens\"][loc], true_dens_scenario12[loc], xgrid))))\n",
    "        else:\n",
    "            for loc in range(6):\n",
    "                curr_hell.append(\n",
    "                    (scen, rep, loc, \n",
    "                     np.mean(spmix_utils.post_hellinger_dist(\n",
    "                        dens[\"dens\"][loc], true_dens_scenario3[loc], xgrid))))\n",
    "                \n",
    "                curr_kl.append(\n",
    "                    (scen, rep, loc, \n",
    "                     np.mean(spmix_utils.post_kl_div(\n",
    "                        dens[\"dens\"][loc], true_dens_scenario3[loc], xgrid))))\n",
    "                \n",
    "    hell_dists_spmix += curr_hell\n",
    "    kl_divs_spmix += curr_kl"
   ]
  },
  {
   "cell_type": "code",
   "execution_count": null,
   "metadata": {},
   "outputs": [],
   "source": [
    "hell_spmix_df = pd.DataFrame(hell_dists_spmix, columns=[\"Scenario\", \"Rep\", \"Location\", \"Dist\"])\n",
    "kl_spmix_df = pd.DataFrame(kl_divs_spmix, columns=[\"Scenario\", \"Rep\", \"Location\", \"Dist\"])\n",
    "\n",
    "hell_spmix_df.to_csv(\"data/simulation1/spmix/dens/hell_results.csv\")\n",
    "kl_spmix_df.to_csv(\"data/simulation1/spmix/dens/kl_results.csv\")"
   ]
  },
  {
   "cell_type": "markdown",
   "metadata": {},
   "source": [
    "### HDP"
   ]
  },
  {
   "cell_type": "code",
   "execution_count": null,
   "metadata": {},
   "outputs": [],
   "source": [
    "hell_dists_hdp = []\n",
    "kl_divs_hdp = []\n",
    "\n",
    "for scen in range(3):\n",
    "    print(\"Scen: {0}\".format(scen))\n",
    "    curr_hell = []\n",
    "    curr_kl = []\n",
    "    for rep in range(100):\n",
    "        print(\"\\rRep: {0}\".format(rep), end=\" \", flush=True)\n",
    "        \n",
    "        densfile = os.path.join(hdp_folder, \"scenario{0}/rep{1}.pickle\".format(scen, rep))\n",
    "        with open(densfile, 'rb') as fp:\n",
    "            dens = pickle.load(fp)\n",
    "        \n",
    "        if scen < 2:\n",
    "            for loc in range(6):\n",
    "                curr_hell.append(\n",
    "                    (scen, rep, loc, \n",
    "                     np.mean(spmix_utils.post_hellinger_dist(\n",
    "                        dens[\"dens\"][loc], true_dens_scenario12[loc], xgrid))))\n",
    "                \n",
    "                curr_kl.append(\n",
    "                    (scen, rep, loc, \n",
    "                     np.mean(spmix_utils.post_kl_div(\n",
    "                        dens[\"dens\"][loc], true_dens_scenario12[loc], xgrid))))\n",
    "        else:\n",
    "            for loc in range(6):\n",
    "                curr_hell.append(\n",
    "                    (scen, rep, loc, \n",
    "                     np.mean(spmix_utils.post_hellinger_dist(\n",
    "                        dens[\"dens\"][loc], true_dens_scenario3[loc], xgrid))))\n",
    "                \n",
    "                curr_kl.append(\n",
    "                    (scen, rep, loc, \n",
    "                     np.mean(spmix_utils.post_kl_div(\n",
    "                        dens[\"dens\"][loc], true_dens_scenario3[loc], xgrid))))\n",
    "                \n",
    "    hell_dists_hdp += curr_hell\n",
    "    kl_divs_hdp += curr_kl"
   ]
  },
  {
   "cell_type": "code",
   "execution_count": null,
   "metadata": {},
   "outputs": [],
   "source": [
    "hell_hdp_dp = pd.DataFrame(hell_dists_hdp, columns=[\"Scenario\", \"Rep\", \"Location\", \"Dist\"])\n",
    "kl_hdp_df = pd.DataFrame(kl_divs_hdp, columns=[\"Scenario\", \"Rep\", \"Location\", \"Dist\"])\n",
    "\n",
    "hell_hdp_dp.to_csv(\"data/simulation1/hdp/dens/hell_results.csv\")\n",
    "kl_hdp_df.to_csv(\"data/simulation1/hdp/dens/kl_results.csv\")"
   ]
  },
  {
   "cell_type": "markdown",
   "metadata": {},
   "source": [
    "### JO"
   ]
  },
  {
   "cell_type": "code",
   "execution_count": null,
   "metadata": {},
   "outputs": [],
   "source": [
    "hell_dists_jo = []\n",
    "kl_divs_jo = []\n",
    "for scen in range(3):\n",
    "    print(\"Scen: {0}\".format(scen))\n",
    "    curr_hell = []\n",
    "    curr_kl = []\n",
    "    for rep in range(100):\n",
    "        print(\"\\rRep: {0}\".format(rep), end=\" \", flush=True)\n",
    "        \n",
    "        densfile = os.path.join(jo_folder, \"scenario{0}/rep{1}.pickle\".format(scen, rep))\n",
    "        with open(densfile, 'rb') as fp:\n",
    "            dens = pickle.load(fp)\n",
    "\n",
    "        hell_dists_jo += dens['hell_dits']\n",
    "        kl_divs_jo += dens[\"kl_divs\"]"
   ]
  },
  {
   "cell_type": "code",
   "execution_count": null,
   "metadata": {},
   "outputs": [],
   "source": [
    "hell_jo_df = pd.DataFrame(hell_dists_jo, columns=[\"Scenario\", \"Rep\", \"Location\", \"Dist\"])\n",
    "kl_jo_df = pd.DataFrame(kl_divs_jo, columns=[\"Scenario\", \"Rep\", \"Location\", \"Dist\"])\n",
    "\n",
    "hell_jo_df.to_csv(\"data/simulation1/jo/dens/hell_results.csv\")\n",
    "kl_jo_df.to_csv(\"data/simulation1/jo/dens/kl_results.csv\")"
   ]
  },
  {
   "cell_type": "markdown",
   "metadata": {},
   "source": [
    "## TABLES - HELLINGER"
   ]
  },
  {
   "cell_type": "code",
   "execution_count": null,
   "metadata": {},
   "outputs": [],
   "source": [
    "spmix_df = pd.read_csv(\"data/simulation1/spmix/dens/hell_results.csv\")\n",
    "hdp_df = pd.read_csv(\"data/simulation1/hdp/dens/hell_results.csv\")\n",
    "jo_df = pd.read_csv(\"data/simulation1/jo/dens/hell_results.csv\")\n",
    "\n",
    "table = []\n",
    "for scen in range(3):\n",
    "    curr_spmix = spmix_df[spmix_df[\"Scenario\"] == scen]\n",
    "    curr_hdp = hdp_df[hdp_df[\"Scenario\"] == scen]\n",
    "    curr_jo = jo_df[jo_df[\"Scenario\"] == scen]\n",
    "    \n",
    "    means_spmix = []\n",
    "    means_hdp = []\n",
    "    means_jo = []\n",
    "    stddevs_spmix = []\n",
    "    stddevs_hdp = []\n",
    "    stddevs_jo = []\n",
    "    for loc in range(6):\n",
    "        means_spmix.append(\n",
    "            np.mean(curr_spmix[curr_spmix[\"Location\"] == loc][\"Dist\"]))\n",
    "        stddevs_spmix.append(\n",
    "            np.std(curr_spmix[curr_spmix[\"Location\"] == loc][\"Dist\"]))\n",
    "        \n",
    "        means_hdp.append(\n",
    "            np.mean(curr_hdp[curr_hdp[\"Location\"] == loc][\"Dist\"]))\n",
    "        stddevs_hdp.append(\n",
    "            np.std(curr_hdp[curr_hdp[\"Location\"]== loc][\"Dist\"]))\n",
    "        \n",
    "        means_jo.append(\n",
    "            np.mean(curr_jo[curr_jo[\"Location\"] == loc][\"Dist\"]))\n",
    "        stddevs_jo.append(\n",
    "            np.std(curr_jo[curr_jo[\"Location\"]== loc][\"Dist\"]))\n",
    "    \n",
    "    row1 = [r\"${0:.2f} \\pm {1:.2f}$\".format(m ,s) for m, s in zip(means_spmix, stddevs_hdp)]\n",
    "    row1 = \"Scenario {0} & spmix & \".format(scen + 1) + \" & \".join(row1) + r\"\\\\\"\n",
    "    \n",
    "    row2 = [r\"${0:.2f} \\pm {1:.2f}$\".format(m ,s) for m, s in zip(means_hdp, stddevs_hdp)]\n",
    "    row2 = \"& HDP & \".format(scen + 1) + \" & \".join(row2) + r\"\\\\\"\n",
    "    \n",
    "    row3 = [r\"${0:.2f} \\pm {1:.2f}$\".format(m ,s) for m, s in zip(means_jo, stddevs_jo)]\n",
    "    row3 = \"& CK-SSM & \".format(scen + 1) + \" & \".join(row3) + r\"\\\\\"\n",
    "    \n",
    "    table.append(row1)\n",
    "    table.append(row2)\n",
    "    table.append(row3)\n",
    "    \n",
    "    table.append(r\"\\hline\")\n",
    "    \n",
    "for row in table:\n",
    "    print(row)"
   ]
  },
  {
   "cell_type": "markdown",
   "metadata": {},
   "source": [
    "## TABLES -KL"
   ]
  },
  {
   "cell_type": "code",
   "execution_count": null,
   "metadata": {
    "scrolled": true
   },
   "outputs": [],
   "source": [
    "spmix_df = pd.read_csv(\"data/simulation1/spmix/dens/kl_results.csv\")\n",
    "hdp_df = pd.read_csv(\"data/simulation1/hdp/dens/kl_results.csv\")\n",
    "jo_df = pd.read_csv(\"data/simulation1/jo/dens/kl_results.csv\")\n",
    "\n",
    "table = []\n",
    "for scen in range(3):\n",
    "    curr_spmix = spmix_df[spmix_df[\"Scenario\"] == scen]\n",
    "    curr_hdp = hdp_df[hdp_df[\"Scenario\"] == scen]\n",
    "    curr_jo = jo_df[jo_df[\"Scenario\"] == scen]\n",
    "    \n",
    "    means_spmix = []\n",
    "    means_hdp = []\n",
    "    means_jo = []\n",
    "    stddevs_spmix = []\n",
    "    stddevs_hdp = []\n",
    "    stddevs_jo = []\n",
    "    for loc in range(6):\n",
    "        means_spmix.append(\n",
    "            np.mean(curr_spmix[curr_spmix[\"Location\"] == loc][\"Dist\"]))\n",
    "        stddevs_spmix.append(\n",
    "            np.std(curr_spmix[curr_spmix[\"Location\"] == loc][\"Dist\"]))\n",
    "        \n",
    "        means_hdp.append(\n",
    "            np.mean(curr_hdp[curr_hdp[\"Location\"] == loc][\"Dist\"]))\n",
    "        stddevs_hdp.append(\n",
    "            np.std(curr_hdp[curr_hdp[\"Location\"]== loc][\"Dist\"]))\n",
    "        \n",
    "        means_jo.append(\n",
    "            np.mean(curr_jo[curr_jo[\"Location\"] == loc][\"Dist\"]))\n",
    "        stddevs_jo.append(\n",
    "            np.std(curr_jo[curr_jo[\"Location\"]== loc][\"Dist\"]))\n",
    "    \n",
    "    row1 = [r\"${0:.2f} \\pm {1:.2f}$\".format(m ,s) for m, s in zip(means_spmix, stddevs_hdp)]\n",
    "    row1 = \"Scenario {0} & spmix & \".format(scen + 1) + \" & \".join(row1) + r\"\\\\\"\n",
    "    \n",
    "    row2 = [r\"${0:.2f} \\pm {1:.2f}$\".format(m ,s) for m, s in zip(means_hdp, stddevs_hdp)]\n",
    "    row2 = \"& HDP & \".format(scen + 1) + \" & \".join(row2) + r\"\\\\\"\n",
    "    \n",
    "    row3 = [r\"${0:.2f} \\pm {1:.2f}$\".format(m ,s) for m, s in zip(means_jo, stddevs_jo)]\n",
    "    row3 = \"& CK-SSM & \".format(scen + 1) + \" & \".join(row3) + r\"\\\\\"\n",
    "    \n",
    "    table.append(row1)\n",
    "    table.append(row2)\n",
    "    table.append(row3)\n",
    "    \n",
    "    table.append(r\"\\hline\")\n",
    "    \n",
    "for row in table:\n",
    "    print(row)"
   ]
  },
  {
   "cell_type": "markdown",
   "metadata": {},
   "source": [
    "## PLOTS"
   ]
  },
  {
   "cell_type": "code",
   "execution_count": 6,
   "metadata": {},
   "outputs": [],
   "source": [
    "import pystan\n",
    "\n",
    "ngroups = 6\n",
    "W = np.zeros((ngroups, ngroups))\n",
    "W[0, 1] = W[1, 0] = 1\n",
    "W[2, 3] = W[3, 2] = 1\n",
    "W[4, 5] = W[5, 4] = 1\n",
    "\n",
    "def eval_stan_density(stanfit, xgrid):\n",
    "    means = stanfit.extract(\"means\")[\"means\"]\n",
    "    variances = stanfit.extract(\"vars\")[\"vars\"]\n",
    "    weights = stanfit.extract(\"weights\")[\"weights\"]\n",
    "    out = []\n",
    "    num_iters = means.shape[0]\n",
    "    num_components = means.shape[1]\n",
    "\n",
    "    means = means.reshape(-1)\n",
    "    stddevs = np.sqrt(variances.reshape(-1))\n",
    "    allgrid = np.hstack([xgrid.reshape(-1, 1)] * means.shape[0])\n",
    "\n",
    "    eval_normals = norm.pdf(\n",
    "        allgrid, means, stddevs\n",
    "    ).reshape(len(xgrid), num_iters, num_components)\n",
    "\n",
    "    numGroups = weights.shape[1]\n",
    "    for g in range(numGroups):\n",
    "        weights_chain = weights[:, g, :]\n",
    "        out.append(np.sum(eval_normals*weights_chain, axis=-1).T)\n",
    "\n",
    "    return out\n",
    "\n",
    "\n",
    "\n",
    "def run_jo(model, datas, ncomp=10):\n",
    "    data_by_group_stan = []\n",
    "    max_num_data = np.max([len(x) for x in datas])\n",
    "    for i in range(6):\n",
    "        data_by_group_stan.append(\n",
    "            np.concatenate([datas[i], np.zeros(max_num_data - len(datas[i]))]))\n",
    "\n",
    "    stan_data = {\n",
    "        \"num_groups\": 6,\n",
    "        \"num_data_per_group\": [len(x) for x in datas],\n",
    "        \"max_data_per_group\": np.max([len(x) for x in datas]),\n",
    "        \"num_components\": ncomp,\n",
    "        \"data_by_group\": data_by_group_stan,\n",
    "        \"G\": W,\n",
    "        \"rho\": 0.95,\n",
    "        \"a\": 0.1,\n",
    "        \"b\": 1.0,\n",
    "        \"points_in_grid\": len(xgrid),\n",
    "        \"xgrid\": xgrid}\n",
    "\n",
    "    fit = model.sampling(data=stan_data, iter=1000, n_jobs=1, chains=1)\n",
    "#     stan_dens = eval_stan_density(fit, xgrid)\n",
    "    return fit"
   ]
  },
  {
   "cell_type": "code",
   "execution_count": 7,
   "metadata": {},
   "outputs": [],
   "source": [
    "scen = 0\n",
    "rep = 1\n",
    "filename = \"data/simulation1/datasets/scenario{0}/rep{1}.csv\".format(scen, rep)\n",
    "\n",
    "df = pd.read_csv(filename)\n",
    "currdata = []\n",
    "for g in range(6):\n",
    "    currdata.append(df[df['group'] == g]['datum'].values)"
   ]
  },
  {
   "cell_type": "code",
   "execution_count": 8,
   "metadata": {
    "collapsed": true
   },
   "outputs": [
    {
     "name": "stderr",
     "output_type": "stream",
     "text": [
      "INFO:pystan:COMPILING THE C++ CODE FOR MODEL anon_model_da5571de5f682bb6a824e8154e5187a4 NOW.\n"
     ]
    },
    {
     "ename": "KeyboardInterrupt",
     "evalue": "",
     "output_type": "error",
     "traceback": [
      "\u001b[0;31m---------------------------------------------------------------------------\u001b[0m",
      "\u001b[0;31mKeyboardInterrupt\u001b[0m                         Traceback (most recent call last)",
      "\u001b[0;32m<ipython-input-8-095731bdda40>\u001b[0m in \u001b[0;36m<module>\u001b[0;34m\u001b[0m\n\u001b[0;32m----> 1\u001b[0;31m stan_model = pystan.StanModel(\n\u001b[0m\u001b[1;32m      2\u001b[0m         file=\"spatial_mix/resources/mc_car_ssm.stan\")\n",
      "\u001b[0;32m~/.local/lib/python3.8/site-packages/pystan/model.py\u001b[0m in \u001b[0;36m__init__\u001b[0;34m(self, file, charset, model_name, model_code, stanc_ret, include_paths, boost_lib, eigen_lib, verbose, obfuscate_model_name, extra_compile_args, allow_undefined, include_dirs, includes)\u001b[0m\n\u001b[1;32m    376\u001b[0m \u001b[0;34m\u001b[0m\u001b[0m\n\u001b[1;32m    377\u001b[0m         \u001b[0;32mtry\u001b[0m\u001b[0;34m:\u001b[0m\u001b[0;34m\u001b[0m\u001b[0;34m\u001b[0m\u001b[0m\n\u001b[0;32m--> 378\u001b[0;31m             \u001b[0mbuild_extension\u001b[0m\u001b[0;34m.\u001b[0m\u001b[0mrun\u001b[0m\u001b[0;34m(\u001b[0m\u001b[0;34m)\u001b[0m\u001b[0;34m\u001b[0m\u001b[0;34m\u001b[0m\u001b[0m\n\u001b[0m\u001b[1;32m    379\u001b[0m         \u001b[0;32mfinally\u001b[0m\u001b[0;34m:\u001b[0m\u001b[0;34m\u001b[0m\u001b[0;34m\u001b[0m\u001b[0m\n\u001b[1;32m    380\u001b[0m             \u001b[0;32mif\u001b[0m \u001b[0mredirect_stderr\u001b[0m\u001b[0;34m:\u001b[0m\u001b[0;34m\u001b[0m\u001b[0;34m\u001b[0m\u001b[0m\n",
      "\u001b[0;32m/usr/lib/python3.8/distutils/command/build_ext.py\u001b[0m in \u001b[0;36mrun\u001b[0;34m(self)\u001b[0m\n\u001b[1;32m    338\u001b[0m \u001b[0;34m\u001b[0m\u001b[0m\n\u001b[1;32m    339\u001b[0m         \u001b[0;31m# Now actually compile and link everything.\u001b[0m\u001b[0;34m\u001b[0m\u001b[0;34m\u001b[0m\u001b[0;34m\u001b[0m\u001b[0m\n\u001b[0;32m--> 340\u001b[0;31m         \u001b[0mself\u001b[0m\u001b[0;34m.\u001b[0m\u001b[0mbuild_extensions\u001b[0m\u001b[0;34m(\u001b[0m\u001b[0;34m)\u001b[0m\u001b[0;34m\u001b[0m\u001b[0;34m\u001b[0m\u001b[0m\n\u001b[0m\u001b[1;32m    341\u001b[0m \u001b[0;34m\u001b[0m\u001b[0m\n\u001b[1;32m    342\u001b[0m     \u001b[0;32mdef\u001b[0m \u001b[0mcheck_extensions_list\u001b[0m\u001b[0;34m(\u001b[0m\u001b[0mself\u001b[0m\u001b[0;34m,\u001b[0m \u001b[0mextensions\u001b[0m\u001b[0;34m)\u001b[0m\u001b[0;34m:\u001b[0m\u001b[0;34m\u001b[0m\u001b[0;34m\u001b[0m\u001b[0m\n",
      "\u001b[0;32m/usr/lib/python3.8/distutils/command/build_ext.py\u001b[0m in \u001b[0;36mbuild_extensions\u001b[0;34m(self)\u001b[0m\n\u001b[1;32m    447\u001b[0m             \u001b[0mself\u001b[0m\u001b[0;34m.\u001b[0m\u001b[0m_build_extensions_parallel\u001b[0m\u001b[0;34m(\u001b[0m\u001b[0;34m)\u001b[0m\u001b[0;34m\u001b[0m\u001b[0;34m\u001b[0m\u001b[0m\n\u001b[1;32m    448\u001b[0m         \u001b[0;32melse\u001b[0m\u001b[0;34m:\u001b[0m\u001b[0;34m\u001b[0m\u001b[0;34m\u001b[0m\u001b[0m\n\u001b[0;32m--> 449\u001b[0;31m             \u001b[0mself\u001b[0m\u001b[0;34m.\u001b[0m\u001b[0m_build_extensions_serial\u001b[0m\u001b[0;34m(\u001b[0m\u001b[0;34m)\u001b[0m\u001b[0;34m\u001b[0m\u001b[0;34m\u001b[0m\u001b[0m\n\u001b[0m\u001b[1;32m    450\u001b[0m \u001b[0;34m\u001b[0m\u001b[0m\n\u001b[1;32m    451\u001b[0m     \u001b[0;32mdef\u001b[0m \u001b[0m_build_extensions_parallel\u001b[0m\u001b[0;34m(\u001b[0m\u001b[0mself\u001b[0m\u001b[0;34m)\u001b[0m\u001b[0;34m:\u001b[0m\u001b[0;34m\u001b[0m\u001b[0;34m\u001b[0m\u001b[0m\n",
      "\u001b[0;32m/usr/lib/python3.8/distutils/command/build_ext.py\u001b[0m in \u001b[0;36m_build_extensions_serial\u001b[0;34m(self)\u001b[0m\n\u001b[1;32m    472\u001b[0m         \u001b[0;32mfor\u001b[0m \u001b[0mext\u001b[0m \u001b[0;32min\u001b[0m \u001b[0mself\u001b[0m\u001b[0;34m.\u001b[0m\u001b[0mextensions\u001b[0m\u001b[0;34m:\u001b[0m\u001b[0;34m\u001b[0m\u001b[0;34m\u001b[0m\u001b[0m\n\u001b[1;32m    473\u001b[0m             \u001b[0;32mwith\u001b[0m \u001b[0mself\u001b[0m\u001b[0;34m.\u001b[0m\u001b[0m_filter_build_errors\u001b[0m\u001b[0;34m(\u001b[0m\u001b[0mext\u001b[0m\u001b[0;34m)\u001b[0m\u001b[0;34m:\u001b[0m\u001b[0;34m\u001b[0m\u001b[0;34m\u001b[0m\u001b[0m\n\u001b[0;32m--> 474\u001b[0;31m                 \u001b[0mself\u001b[0m\u001b[0;34m.\u001b[0m\u001b[0mbuild_extension\u001b[0m\u001b[0;34m(\u001b[0m\u001b[0mext\u001b[0m\u001b[0;34m)\u001b[0m\u001b[0;34m\u001b[0m\u001b[0;34m\u001b[0m\u001b[0m\n\u001b[0m\u001b[1;32m    475\u001b[0m \u001b[0;34m\u001b[0m\u001b[0m\n\u001b[1;32m    476\u001b[0m     \u001b[0;34m@\u001b[0m\u001b[0mcontextlib\u001b[0m\u001b[0;34m.\u001b[0m\u001b[0mcontextmanager\u001b[0m\u001b[0;34m\u001b[0m\u001b[0;34m\u001b[0m\u001b[0m\n",
      "\u001b[0;32m/usr/lib/python3.8/distutils/command/build_ext.py\u001b[0m in \u001b[0;36mbuild_extension\u001b[0;34m(self, ext)\u001b[0m\n\u001b[1;32m    526\u001b[0m             \u001b[0mmacros\u001b[0m\u001b[0;34m.\u001b[0m\u001b[0mappend\u001b[0m\u001b[0;34m(\u001b[0m\u001b[0;34m(\u001b[0m\u001b[0mundef\u001b[0m\u001b[0;34m,\u001b[0m\u001b[0;34m)\u001b[0m\u001b[0;34m)\u001b[0m\u001b[0;34m\u001b[0m\u001b[0;34m\u001b[0m\u001b[0m\n\u001b[1;32m    527\u001b[0m \u001b[0;34m\u001b[0m\u001b[0m\n\u001b[0;32m--> 528\u001b[0;31m         objects = self.compiler.compile(sources,\n\u001b[0m\u001b[1;32m    529\u001b[0m                                          \u001b[0moutput_dir\u001b[0m\u001b[0;34m=\u001b[0m\u001b[0mself\u001b[0m\u001b[0;34m.\u001b[0m\u001b[0mbuild_temp\u001b[0m\u001b[0;34m,\u001b[0m\u001b[0;34m\u001b[0m\u001b[0;34m\u001b[0m\u001b[0m\n\u001b[1;32m    530\u001b[0m                                          \u001b[0mmacros\u001b[0m\u001b[0;34m=\u001b[0m\u001b[0mmacros\u001b[0m\u001b[0;34m,\u001b[0m\u001b[0;34m\u001b[0m\u001b[0;34m\u001b[0m\u001b[0m\n",
      "\u001b[0;32m/usr/lib/python3.8/distutils/ccompiler.py\u001b[0m in \u001b[0;36mcompile\u001b[0;34m(self, sources, output_dir, macros, include_dirs, debug, extra_preargs, extra_postargs, depends)\u001b[0m\n\u001b[1;32m    572\u001b[0m             \u001b[0;32mexcept\u001b[0m \u001b[0mKeyError\u001b[0m\u001b[0;34m:\u001b[0m\u001b[0;34m\u001b[0m\u001b[0;34m\u001b[0m\u001b[0m\n\u001b[1;32m    573\u001b[0m                 \u001b[0;32mcontinue\u001b[0m\u001b[0;34m\u001b[0m\u001b[0;34m\u001b[0m\u001b[0m\n\u001b[0;32m--> 574\u001b[0;31m             \u001b[0mself\u001b[0m\u001b[0;34m.\u001b[0m\u001b[0m_compile\u001b[0m\u001b[0;34m(\u001b[0m\u001b[0mobj\u001b[0m\u001b[0;34m,\u001b[0m \u001b[0msrc\u001b[0m\u001b[0;34m,\u001b[0m \u001b[0mext\u001b[0m\u001b[0;34m,\u001b[0m \u001b[0mcc_args\u001b[0m\u001b[0;34m,\u001b[0m \u001b[0mextra_postargs\u001b[0m\u001b[0;34m,\u001b[0m \u001b[0mpp_opts\u001b[0m\u001b[0;34m)\u001b[0m\u001b[0;34m\u001b[0m\u001b[0;34m\u001b[0m\u001b[0m\n\u001b[0m\u001b[1;32m    575\u001b[0m \u001b[0;34m\u001b[0m\u001b[0m\n\u001b[1;32m    576\u001b[0m         \u001b[0;31m# Return *all* object filenames, not just the ones we just built.\u001b[0m\u001b[0;34m\u001b[0m\u001b[0;34m\u001b[0m\u001b[0;34m\u001b[0m\u001b[0m\n",
      "\u001b[0;32m/usr/lib/python3.8/distutils/unixccompiler.py\u001b[0m in \u001b[0;36m_compile\u001b[0;34m(self, obj, src, ext, cc_args, extra_postargs, pp_opts)\u001b[0m\n\u001b[1;32m    115\u001b[0m                                                     cc_args + extra_postargs)\n\u001b[1;32m    116\u001b[0m         \u001b[0;32mtry\u001b[0m\u001b[0;34m:\u001b[0m\u001b[0;34m\u001b[0m\u001b[0;34m\u001b[0m\u001b[0m\n\u001b[0;32m--> 117\u001b[0;31m             self.spawn(compiler_so + cc_args + [src, '-o', obj] +\n\u001b[0m\u001b[1;32m    118\u001b[0m                        extra_postargs)\n\u001b[1;32m    119\u001b[0m         \u001b[0;32mexcept\u001b[0m \u001b[0mDistutilsExecError\u001b[0m \u001b[0;32mas\u001b[0m \u001b[0mmsg\u001b[0m\u001b[0;34m:\u001b[0m\u001b[0;34m\u001b[0m\u001b[0;34m\u001b[0m\u001b[0m\n",
      "\u001b[0;32m/usr/lib/python3.8/distutils/ccompiler.py\u001b[0m in \u001b[0;36mspawn\u001b[0;34m(self, cmd)\u001b[0m\n\u001b[1;32m    908\u001b[0m \u001b[0;34m\u001b[0m\u001b[0m\n\u001b[1;32m    909\u001b[0m     \u001b[0;32mdef\u001b[0m \u001b[0mspawn\u001b[0m\u001b[0;34m(\u001b[0m\u001b[0mself\u001b[0m\u001b[0;34m,\u001b[0m \u001b[0mcmd\u001b[0m\u001b[0;34m)\u001b[0m\u001b[0;34m:\u001b[0m\u001b[0;34m\u001b[0m\u001b[0;34m\u001b[0m\u001b[0m\n\u001b[0;32m--> 910\u001b[0;31m         \u001b[0mspawn\u001b[0m\u001b[0;34m(\u001b[0m\u001b[0mcmd\u001b[0m\u001b[0;34m,\u001b[0m \u001b[0mdry_run\u001b[0m\u001b[0;34m=\u001b[0m\u001b[0mself\u001b[0m\u001b[0;34m.\u001b[0m\u001b[0mdry_run\u001b[0m\u001b[0;34m)\u001b[0m\u001b[0;34m\u001b[0m\u001b[0;34m\u001b[0m\u001b[0m\n\u001b[0m\u001b[1;32m    911\u001b[0m \u001b[0;34m\u001b[0m\u001b[0m\n\u001b[1;32m    912\u001b[0m     \u001b[0;32mdef\u001b[0m \u001b[0mmove_file\u001b[0m\u001b[0;34m(\u001b[0m\u001b[0mself\u001b[0m\u001b[0;34m,\u001b[0m \u001b[0msrc\u001b[0m\u001b[0;34m,\u001b[0m \u001b[0mdst\u001b[0m\u001b[0;34m)\u001b[0m\u001b[0;34m:\u001b[0m\u001b[0;34m\u001b[0m\u001b[0;34m\u001b[0m\u001b[0m\n",
      "\u001b[0;32m/usr/lib/python3.8/distutils/spawn.py\u001b[0m in \u001b[0;36mspawn\u001b[0;34m(cmd, search_path, verbose, dry_run)\u001b[0m\n\u001b[1;32m     34\u001b[0m     \u001b[0mcmd\u001b[0m \u001b[0;34m=\u001b[0m \u001b[0mlist\u001b[0m\u001b[0;34m(\u001b[0m\u001b[0mcmd\u001b[0m\u001b[0;34m)\u001b[0m\u001b[0;34m\u001b[0m\u001b[0;34m\u001b[0m\u001b[0m\n\u001b[1;32m     35\u001b[0m     \u001b[0;32mif\u001b[0m \u001b[0mos\u001b[0m\u001b[0;34m.\u001b[0m\u001b[0mname\u001b[0m \u001b[0;34m==\u001b[0m \u001b[0;34m'posix'\u001b[0m\u001b[0;34m:\u001b[0m\u001b[0;34m\u001b[0m\u001b[0;34m\u001b[0m\u001b[0m\n\u001b[0;32m---> 36\u001b[0;31m         \u001b[0m_spawn_posix\u001b[0m\u001b[0;34m(\u001b[0m\u001b[0mcmd\u001b[0m\u001b[0;34m,\u001b[0m \u001b[0msearch_path\u001b[0m\u001b[0;34m,\u001b[0m \u001b[0mdry_run\u001b[0m\u001b[0;34m=\u001b[0m\u001b[0mdry_run\u001b[0m\u001b[0;34m)\u001b[0m\u001b[0;34m\u001b[0m\u001b[0;34m\u001b[0m\u001b[0m\n\u001b[0m\u001b[1;32m     37\u001b[0m     \u001b[0;32melif\u001b[0m \u001b[0mos\u001b[0m\u001b[0;34m.\u001b[0m\u001b[0mname\u001b[0m \u001b[0;34m==\u001b[0m \u001b[0;34m'nt'\u001b[0m\u001b[0;34m:\u001b[0m\u001b[0;34m\u001b[0m\u001b[0;34m\u001b[0m\u001b[0m\n\u001b[1;32m     38\u001b[0m         \u001b[0m_spawn_nt\u001b[0m\u001b[0;34m(\u001b[0m\u001b[0mcmd\u001b[0m\u001b[0;34m,\u001b[0m \u001b[0msearch_path\u001b[0m\u001b[0;34m,\u001b[0m \u001b[0mdry_run\u001b[0m\u001b[0;34m=\u001b[0m\u001b[0mdry_run\u001b[0m\u001b[0;34m)\u001b[0m\u001b[0;34m\u001b[0m\u001b[0;34m\u001b[0m\u001b[0m\n",
      "\u001b[0;32m/usr/lib/python3.8/distutils/spawn.py\u001b[0m in \u001b[0;36m_spawn_posix\u001b[0;34m(cmd, search_path, verbose, dry_run)\u001b[0m\n\u001b[1;32m    136\u001b[0m         \u001b[0;32mwhile\u001b[0m \u001b[0;32mTrue\u001b[0m\u001b[0;34m:\u001b[0m\u001b[0;34m\u001b[0m\u001b[0;34m\u001b[0m\u001b[0m\n\u001b[1;32m    137\u001b[0m             \u001b[0;32mtry\u001b[0m\u001b[0;34m:\u001b[0m\u001b[0;34m\u001b[0m\u001b[0;34m\u001b[0m\u001b[0m\n\u001b[0;32m--> 138\u001b[0;31m                 \u001b[0mpid\u001b[0m\u001b[0;34m,\u001b[0m \u001b[0mstatus\u001b[0m \u001b[0;34m=\u001b[0m \u001b[0mos\u001b[0m\u001b[0;34m.\u001b[0m\u001b[0mwaitpid\u001b[0m\u001b[0;34m(\u001b[0m\u001b[0mpid\u001b[0m\u001b[0;34m,\u001b[0m \u001b[0;36m0\u001b[0m\u001b[0;34m)\u001b[0m\u001b[0;34m\u001b[0m\u001b[0;34m\u001b[0m\u001b[0m\n\u001b[0m\u001b[1;32m    139\u001b[0m             \u001b[0;32mexcept\u001b[0m \u001b[0mOSError\u001b[0m \u001b[0;32mas\u001b[0m \u001b[0mexc\u001b[0m\u001b[0;34m:\u001b[0m\u001b[0;34m\u001b[0m\u001b[0;34m\u001b[0m\u001b[0m\n\u001b[1;32m    140\u001b[0m                 \u001b[0;32mif\u001b[0m \u001b[0;32mnot\u001b[0m \u001b[0mDEBUG\u001b[0m\u001b[0;34m:\u001b[0m\u001b[0;34m\u001b[0m\u001b[0;34m\u001b[0m\u001b[0m\n",
      "\u001b[0;31mKeyboardInterrupt\u001b[0m: "
     ]
    }
   ],
   "source": [
    "stan_model = pystan.StanModel(\n",
    "        file=\"spatial_mix/resources/mc_car_ssm.stan\")"
   ]
  },
  {
   "cell_type": "code",
   "execution_count": null,
   "metadata": {},
   "outputs": [],
   "source": [
    "jo_dens = run_jo(stan_model, currdata, ncomp=20)\n",
    "outfile = os.path.join(jo_folder, \"scenario{0}/rep{1}_full.pickle\".format(scen, rep))"
   ]
  },
  {
   "cell_type": "code",
   "execution_count": null,
   "metadata": {},
   "outputs": [],
   "source": [
    "with open(outfile, 'wb') as fp:\n",
    "    pickle.dump({'xgrid': xgrid, 'dens': jo_dens}, fp)"
   ]
  },
  {
   "cell_type": "markdown",
   "metadata": {},
   "source": [
    "## Scenario 1, random simulation"
   ]
  },
  {
   "cell_type": "code",
   "execution_count": 9,
   "metadata": {},
   "outputs": [],
   "source": [
    "from spatial_mix.plots import density_plot"
   ]
  },
  {
   "cell_type": "code",
   "execution_count": 10,
   "metadata": {},
   "outputs": [
    {
     "ename": "TypeError",
     "evalue": "density_plot() missing 1 required positional argument: 'fill_color'",
     "output_type": "error",
     "traceback": [
      "\u001b[0;31m---------------------------------------------------------------------------\u001b[0m",
      "\u001b[0;31mTypeError\u001b[0m                                 Traceback (most recent call last)",
      "\u001b[0;32m<ipython-input-10-3ad2a2682476>\u001b[0m in \u001b[0;36m<module>\u001b[0;34m\u001b[0m\n\u001b[1;32m     20\u001b[0m \u001b[0mfig\u001b[0m\u001b[0;34m,\u001b[0m \u001b[0maxes\u001b[0m \u001b[0;34m=\u001b[0m \u001b[0mplt\u001b[0m\u001b[0;34m.\u001b[0m\u001b[0msubplots\u001b[0m\u001b[0;34m(\u001b[0m\u001b[0;36m3\u001b[0m\u001b[0;34m,\u001b[0m \u001b[0;36m6\u001b[0m\u001b[0;34m,\u001b[0m \u001b[0mfigsize\u001b[0m\u001b[0;34m=\u001b[0m\u001b[0;34m(\u001b[0m\u001b[0;36m18\u001b[0m\u001b[0;34m,\u001b[0m \u001b[0;36m5\u001b[0m\u001b[0;34m)\u001b[0m\u001b[0;34m)\u001b[0m\u001b[0;34m\u001b[0m\u001b[0;34m\u001b[0m\u001b[0m\n\u001b[1;32m     21\u001b[0m \u001b[0;32mfor\u001b[0m \u001b[0mi\u001b[0m \u001b[0;32min\u001b[0m \u001b[0mrange\u001b[0m\u001b[0;34m(\u001b[0m\u001b[0;36m6\u001b[0m\u001b[0;34m)\u001b[0m\u001b[0;34m:\u001b[0m\u001b[0;34m\u001b[0m\u001b[0;34m\u001b[0m\u001b[0m\n\u001b[0;32m---> 22\u001b[0;31m     \u001b[0mdensity_plot\u001b[0m\u001b[0;34m(\u001b[0m\u001b[0mdens_spmix\u001b[0m\u001b[0;34m[\u001b[0m\u001b[0mi\u001b[0m\u001b[0;34m]\u001b[0m\u001b[0;34m,\u001b[0m \u001b[0mtrue_dens_scenario12\u001b[0m\u001b[0;34m[\u001b[0m\u001b[0mi\u001b[0m\u001b[0;34m]\u001b[0m\u001b[0;34m,\u001b[0m \u001b[0mxgrid\u001b[0m\u001b[0;34m,\u001b[0m \u001b[0maxes\u001b[0m\u001b[0;34m[\u001b[0m\u001b[0;36m0\u001b[0m\u001b[0;34m]\u001b[0m\u001b[0;34m[\u001b[0m\u001b[0mi\u001b[0m\u001b[0;34m]\u001b[0m\u001b[0;34m,\u001b[0m \u001b[0;34m\"Area {0}\"\u001b[0m\u001b[0;34m.\u001b[0m\u001b[0mformat\u001b[0m\u001b[0;34m(\u001b[0m\u001b[0mi\u001b[0m\u001b[0;34m+\u001b[0m\u001b[0;36m1\u001b[0m\u001b[0;34m)\u001b[0m\u001b[0;34m)\u001b[0m\u001b[0;34m\u001b[0m\u001b[0;34m\u001b[0m\u001b[0m\n\u001b[0m\u001b[1;32m     23\u001b[0m     \u001b[0mdensity_plot\u001b[0m\u001b[0;34m(\u001b[0m\u001b[0mdens_hdp\u001b[0m\u001b[0;34m[\u001b[0m\u001b[0mi\u001b[0m\u001b[0;34m]\u001b[0m\u001b[0;34m,\u001b[0m \u001b[0mtrue_dens_scenario12\u001b[0m\u001b[0;34m[\u001b[0m\u001b[0mi\u001b[0m\u001b[0;34m]\u001b[0m\u001b[0;34m,\u001b[0m \u001b[0mxgrid\u001b[0m\u001b[0;34m,\u001b[0m \u001b[0maxes\u001b[0m\u001b[0;34m[\u001b[0m\u001b[0;36m1\u001b[0m\u001b[0;34m]\u001b[0m\u001b[0;34m[\u001b[0m\u001b[0mi\u001b[0m\u001b[0;34m]\u001b[0m\u001b[0;34m)\u001b[0m\u001b[0;34m\u001b[0m\u001b[0;34m\u001b[0m\u001b[0m\n\u001b[1;32m     24\u001b[0m     \u001b[0mdensity_plot\u001b[0m\u001b[0;34m(\u001b[0m\u001b[0mdens_jo\u001b[0m\u001b[0;34m[\u001b[0m\u001b[0mi\u001b[0m\u001b[0;34m]\u001b[0m\u001b[0;34m,\u001b[0m \u001b[0mtrue_dens_scenario12\u001b[0m\u001b[0;34m[\u001b[0m\u001b[0mi\u001b[0m\u001b[0;34m]\u001b[0m\u001b[0;34m,\u001b[0m \u001b[0mxgrid\u001b[0m\u001b[0;34m,\u001b[0m \u001b[0maxes\u001b[0m\u001b[0;34m[\u001b[0m\u001b[0;36m2\u001b[0m\u001b[0;34m]\u001b[0m\u001b[0;34m[\u001b[0m\u001b[0mi\u001b[0m\u001b[0;34m]\u001b[0m\u001b[0;34m)\u001b[0m\u001b[0;34m\u001b[0m\u001b[0;34m\u001b[0m\u001b[0m\n",
      "\u001b[0;31mTypeError\u001b[0m: density_plot() missing 1 required positional argument: 'fill_color'"
     ]
    },
    {
     "data": {
      "image/png": "[encoded data removed]",
      "text/plain": [
       "<Figure size 1296x360 with 18 Axes>"
      ]
     },
     "metadata": {
      "needs_background": "light"
     },
     "output_type": "display_data"
    }
   ],
   "source": [
    "scen = 0\n",
    "rep = 1\n",
    "\n",
    "densfile = os.path.join(spmix_folder, \"scenario{0}/rep{1}.pickle\".format(scen, rep))\n",
    "    \n",
    "with open(densfile, 'rb') as fp:\n",
    "    dens_spmix = pickle.load(fp)[\"dens\"]\n",
    "    \n",
    "densfile = os.path.join(hdp_folder, \"scenario{0}/rep{1}.pickle\".format(scen, rep))\n",
    "    \n",
    "with open(densfile, 'rb') as fp:\n",
    "    dens_hdp = pickle.load(fp)[\"dens\"]\n",
    "    \n",
    "    \n",
    "densfile = os.path.join(jo_folder, \"scenario{0}/rep{1}_full.pickle\".format(scen, rep))\n",
    "with open(densfile, 'rb') as fp:\n",
    "    dens_jo = pickle.load(fp)[\"dens\"]\n",
    "\n",
    "    \n",
    "fig, axes = plt.subplots(3, 6, figsize=(18, 5))\n",
    "for i in range(6):\n",
    "    density_plot(dens_spmix[i], true_dens_scenario12[i], xgrid, axes[0][i], \"Area {0}\".format(i+1))\n",
    "    density_plot(dens_hdp[i], true_dens_scenario12[i], xgrid, axes[1][i])\n",
    "    density_plot(dens_jo[i], true_dens_scenario12[i], xgrid, axes[2][i])\n",
    "\n",
    "for j in range(3):\n",
    "    axes[j][0].set_xlim(-10, 1)\n",
    "    axes[j][1].set_xlim(-10, 1)\n",
    "    \n",
    "    axes[j][2].set_xlim(0, 10)\n",
    "    axes[j][3].set_xlim(0, 10)\n",
    "    \n",
    "    axes[j][4].set_xlim(-1, 10)\n",
    "    axes[j][5].set_xlim(-1, 10)\n",
    "    \n",
    "    \n",
    "axes[0][0].set_ylabel(\"SP MIX\", fontsize=16)\n",
    "axes[1][0].set_ylabel(\"HDP\", fontsize=16)\n",
    "axes[2][0].set_ylabel(\"CK-CAR\", fontsize=16)\n",
    "axes[2][3].legend(bbox_to_anchor=(1.5, -0.2), ncol=3, fontsize=14)\n",
    "\n",
    "# plt.savefig(\"scenario1_density.pdf\", bbox_inches='tight')\n",
    "plt.show()"
   ]
  },
  {
   "cell_type": "code",
   "execution_count": 13,
   "metadata": {},
   "outputs": [
    {
     "data": {
      "image/png": "[encoded data removed]",
      "text/plain": [
       "<Figure size 1296x288 with 3 Axes>"
      ]
     },
     "metadata": {
      "needs_background": "light"
     },
     "output_type": "display_data"
    }
   ],
   "source": [
    "import seaborn as sns\n",
    "\n",
    "locations = [1, 3, 5]\n",
    "fig, axes = plt.subplots(1, 3, figsize=(18, 4))\n",
    "\n",
    "palette = sns.color_palette(\"hls\", 8)\n",
    "\n",
    "for i, loc in enumerate(locations):\n",
    "    axes[i].plot(xgrid, true_dens_scenario12[loc], color=\"orange\", lw=2, label=\"True Density\")\n",
    "    axes[i].plot(xgrid, np.mean(dens_spmix[loc], 0), lw=2, label=\"SPMIX\", color=\"steelblue\")\n",
    "    axes[i].plot(xgrid, np.mean(dens_hdp[loc], 0), lw=2, label=\"HDP\", color=\"green\")\n",
    "    axes[i].plot(xgrid, np.mean(dens_jo[loc], 0), lw=2, label=\"CK-SSM\", color=\"red\")\n",
    "    axes[i].set_title(\"Area {0}\".format(loc+1), fontsize=16)\n",
    "\n",
    "for i in range(3):\n",
    "    axes[i].set_ylim(0.0, 0.8)\n",
    "    \n",
    "axes[1].legend(bbox_to_anchor=(1.2, -0.1), ncol=4, fontsize=14)\n",
    "plt.savefig(\"scenario1_density.pdf\", bbox_inches='tight')\n",
    "plt.show()"
   ]
  },
  {
   "cell_type": "markdown",
   "metadata": {},
   "source": [
    "## Plot with credible intervals"
   ]
  },
  {
   "cell_type": "code",
   "execution_count": null,
   "metadata": {},
   "outputs": [],
   "source": [
    "from spatial_mix.utils import loadChains"
   ]
  },
  {
   "cell_type": "code",
   "execution_count": null,
   "metadata": {},
   "outputs": [],
   "source": [
    "datas = []\n",
    "spmix_chains = []\n",
    "spmix_dens = []\n",
    "hdp_chains = []\n",
    "hdp_dens = []\n",
    "output_path = \"data/simulation1/\"\n",
    "\n",
    "for i in range(3):\n",
    "    data_filename = os.path.join(\n",
    "        output_path + \"data_scenario{0}.csv\".format(i+1))\n",
    "    datas.append(pd.read_csv(data_filename))\n",
    "    \n",
    "    spmix_chains_filename = os.path.join(\n",
    "        output_path + \"spmix_chains_scenario{0}.recordio\".format(i+1))\n",
    "    spmix_chains.append(loadChains(spmix_chains_filename))\n",
    "    \n",
    "    spmix_dens_filename = os.path.join(\n",
    "        output_path + \"spmix_dens_scenario{0}.pickle\".format(i+1))\n",
    "    with open(spmix_dens_filename, \"rb\") as fp:\n",
    "        spmix_dens.append(pickle.load(fp))\n",
    "    \n",
    "    hdp_chains_filename = os.path.join(\n",
    "        output_path + \"hdp_chains_scenario{0}.recordio\".format(i+1))\n",
    "    hdp_chains.append(loadChains(hdp_chains_filename))\n",
    "    \n",
    "    hdp_dens_filename = os.path.join(\n",
    "        output_path + \"hdp_dens_scenario{0}.pickle\".format(i+1))\n",
    "    with open(hdp_dens_filename, \"rb\") as fp:\n",
    "        hdp_dens.append(pickle.load(fp))"
   ]
  },
  {
   "cell_type": "code",
   "execution_count": null,
   "metadata": {},
   "outputs": [],
   "source": [
    "from spatial_mix.plots import density_plot\n",
    "\n",
    "xgrid = spmix_dens[0][\"xgrid\"]\n",
    "\n",
    "fig, axes = plt.subplots(2, 4, figsize=(14, 6))\n",
    "\n",
    "scenario = 1\n",
    "density_plot(spmix_dens[scenario][\"dens\"][3], skewnorm.pdf(xgrid, 4, 4, 1), xgrid, axes[0][0], \n",
    "             \"steelblue\", \"lightblue\", \"Scenario 2, Area 4\")\n",
    "density_plot(spmix_dens[scenario][\"dens\"][5], chi2.pdf(xgrid, 3, 0, 1), xgrid, axes[0][1],\n",
    "             \"steelblue\", \"lightblue\", \"Scenario 2, Area 6\")\n",
    "\n",
    "scenario = 2\n",
    "density_plot(spmix_dens[scenario][\"dens\"][3], skewnorm.pdf(xgrid, 4, 4, 1), xgrid, axes[0][2],\n",
    "             \"steelblue\", \"lightblue\", \"Scenario 3, Area 4\")\n",
    "density_plot(spmix_dens[scenario][\"dens\"][5], cauchy.pdf(xgrid, 0, 1), xgrid, axes[0][3],\n",
    "            \"steelblue\", \"lightblue\", \"Scenario 3, Area 6\")\n",
    "\n",
    "scenario = 1\n",
    "density_plot(hdp_dens[scenario][\"dens\"][3], skewnorm.pdf(xgrid, 4, 4, 1), xgrid, axes[1][0],\n",
    "             \"green\", \"yellowgreen\", \"Scenario 2, Area 4\",  alpha=0.4)\n",
    "density_plot(hdp_dens[scenario][\"dens\"][5], chi2.pdf(xgrid, 3, 0, 1), xgrid, axes[1][1],\n",
    "             \"green\", \"yellowgreen\", \"Scenario 2, Area 6\", alpha=0.4)\n",
    "\n",
    "scenario = 2\n",
    "density_plot(hdp_dens[scenario][\"dens\"][3], skewnorm.pdf(xgrid, 4, 4, 1), xgrid, axes[1][2],\n",
    "             \"green\", \"yellowgreen\", \"Scenario 3, Area 4\", alpha=0.4)\n",
    "density_plot(hdp_dens[scenario][\"dens\"][5], cauchy.pdf(xgrid, 0, 1), xgrid, axes[1][3],\n",
    "             \"green\", \"yellowgreen\", \"Scenario 3, Area 6\",  alpha=0.4)\n",
    "\n",
    "\n",
    "\n",
    "for i in range(2):\n",
    "    for j in range(4):\n",
    "        axes[i][j].set_ylim((0, 0.8))\n",
    "    \n",
    "    axes[i][1].set_xlim((-1, 10))\n",
    "    axes[i][0].set_xlim((2, 10))\n",
    "    axes[i][2].set_xlim((2, 10))\n",
    "\n",
    "plt.subplots_adjust(hspace = 0.5)\n",
    "axes[0][0].set_ylabel(\"SP MIX\", fontsize=16)\n",
    "axes[1][0].set_ylabel(\"HDP\", fontsize=16)\n",
    "\n",
    "axes[0][2].legend(bbox_to_anchor=(0.7, -0.15), ncol=3)\n",
    "axes[1][2].legend(bbox_to_anchor=(0.7, -0.15), ncol=3)\n",
    "\n",
    "# plt.savefig(\"images/simulation1_densities.pdf\")\n",
    "plt.show()"
   ]
  },
  {
   "cell_type": "markdown",
   "metadata": {},
   "source": [
    "# Posterior number of clusters"
   ]
  },
  {
   "cell_type": "code",
   "execution_count": 7,
   "metadata": {},
   "outputs": [
    {
     "name": "stderr",
     "output_type": "stream",
     "text": [
      "INFO:pystan:COMPILING THE C++ CODE FOR MODEL anon_model_78baffe8223bdcf24cdda9a902398e15 NOW.\n"
     ]
    }
   ],
   "source": [
    "import pystan\n",
    "\n",
    "stan_model = pystan.StanModel(\n",
    "        file=\"spatial_mix/resources/mc_car_ssm.stan\")"
   ]
  },
  {
   "cell_type": "code",
   "execution_count": 9,
   "metadata": {},
   "outputs": [
    {
     "name": "stderr",
     "output_type": "stream",
     "text": [
      "WARNING:pystan:Rhat above 1.1 or below 0.9 indicates that the chains very likely have not mixed\n"
     ]
    }
   ],
   "source": [
    "# Jo\n",
    "\n",
    "df = pd.read_csv(\"data/simulation1/datasets/scenario1/rep0.csv\")\n",
    "currdata = []\n",
    "for g in range(6):\n",
    "    currdata.append(df[df['group'] == g]['datum'].values)\n",
    "jo_fit = run_jo(stan_model, currdata, ncomp=20)"
   ]
  },
  {
   "cell_type": "code",
   "execution_count": 10,
   "metadata": {},
   "outputs": [
    {
     "name": "stderr",
     "output_type": "stream",
     "text": [
      "<ipython-input-10-3926dd37434a>:2: UserWarning: Pickling fit objects is an experimental feature!\n",
      "The relevant StanModel instance must be pickled along with this fit object.\n",
      "When unpickling the StanModel must be unpickled first.\n",
      "  pickle.dump({\"model\": stan_model, \"fit\": jo_fit}, fp)\n"
     ]
    }
   ],
   "source": [
    "with open(\"ex_jo_fit_20comp.pickle\", \"wb\") as fp:\n",
    "    pickle.dump({\"model\": stan_model, \"fit\": jo_fit}, fp)"
   ]
  },
  {
   "cell_type": "code",
   "execution_count": 11,
   "metadata": {},
   "outputs": [],
   "source": [
    "# get number of clusters from Jo\n",
    "\n",
    "def sample_multinomial(probas):\n",
    "    s = np.cumsum(probas, axis=-1)\n",
    "    r = np.random.rand(np.prod(probas.shape[:-1])).reshape(probas.shape[:-1])\n",
    "    r = np.expand_dims(r, -1)\n",
    "    k = (s < r).sum(axis=-1)\n",
    "    return k\n",
    "\n",
    "def get_clusters_jo(jo_fit, data):\n",
    "    weights = jo_fit.extract(\"weights\")[\"weights\"]\n",
    "    means = jo_fit.extract(\"means\")[\"means\"]\n",
    "    stddevs = np.sqrt(jo_fit.extract(\"vars\")[\"vars\"])\n",
    "    niter = means.shape[0]\n",
    "    ncomp = means.shape[1]\n",
    "    clus = []\n",
    "    data_idx = 0\n",
    "    for i, group in enumerate(data):\n",
    "        grid = np.hstack([group.reshape(-1, 1)] * means.shape[0])\n",
    "        probas = np.zeros((niter, len(group), ncomp))\n",
    "        for j in range(ncomp):\n",
    "            eval_normals = norm.logpdf(grid, loc=means[:,j ], scale=stddevs[:, j]).T\n",
    "            probas[:, :, j] = eval_normals + weights[:, i, j].reshape(-1, 1)\n",
    "        \n",
    "        norm_probas = np.exp(probas)\n",
    "        norm_probas = norm_probas / np.expand_dims(np.sum(norm_probas, axis=-1), axis=2)\n",
    "        clus.append(sample_multinomial(probas))\n",
    "    return clus\n",
    "\n",
    "\n",
    "def nclus_chains(clus_chains):\n",
    "    ngroups = len(clus_chains)\n",
    "    niter = len(clus_chains[0])\n",
    "    out = np.zeros((niter, ngroups))\n",
    "    for i in range(ngroups):\n",
    "        out[:, i] = [len(np.unique(x)) for x in clus_chains[i]]\n",
    "    return out"
   ]
  },
  {
   "cell_type": "code",
   "execution_count": 12,
   "metadata": {},
   "outputs": [],
   "source": [
    "clusters_jo = get_clusters_jo(jo_fit, currdata)"
   ]
  },
  {
   "cell_type": "code",
   "execution_count": 13,
   "metadata": {},
   "outputs": [
    {
     "name": "stdout",
     "output_type": "stream",
     "text": [
      "[1.002, 1.0, 1.036, 1.01, 1.048, 1.02]\n"
     ]
    }
   ],
   "source": [
    "nclus_jo = nclus_chains(clusters_jo)\n",
    "print([np.mean(nclus_jo[:, i]) for i in range(6)])"
   ]
  },
  {
   "cell_type": "code",
   "execution_count": 14,
   "metadata": {},
   "outputs": [],
   "source": [
    "weights = jo_fit.extract(\"weights\")[\"weights\"]\n",
    "means = jo_fit.extract(\"means\")[\"means\"]\n",
    "stddevs = np.sqrt(jo_fit.extract(\"vars\")[\"vars\"])\n",
    "vars = jo_fit.extract(\"vars\")[\"vars\"]\n",
    "niter = means.shape[0]\n",
    "ncomp = means.shape[1]\n",
    "clus = []\n",
    "data_idx = 0\n",
    "i = 0\n",
    "group = currdata[0]\n",
    "grid = np.hstack([group.reshape(-1, 1)] * means.shape[0])\n",
    "probas = np.zeros((niter, len(group), ncomp))\n",
    "for j in range(ncomp):\n",
    "    eval_normals = norm.logpdf(grid, loc=means[:,j ], scale=vars[:, j]).T\n",
    "    probas[:, :, j] = eval_normals + weights[:, i, j].reshape(-1, 1)\n",
    "\n",
    "norm_probas = np.exp(probas)\n",
    "norm_probas = norm_probas / np.expand_dims(np.sum(norm_probas, axis=-1), axis=2)"
   ]
  },
  {
   "cell_type": "code",
   "execution_count": 15,
   "metadata": {},
   "outputs": [
    {
     "data": {
      "text/plain": [
       "array([ 7.21628922, -0.3057669 , -0.74781207,  2.4755267 ,  0.89598148,\n",
       "        2.56034128,  0.99070946,  3.6270048 , -1.3863372 ,  0.47339831,\n",
       "       -0.85448727,  5.3659809 , -1.19071329,  0.92523116,  0.52337178,\n",
       "        4.22327478,  1.24364564, -2.1260082 ,  1.62811261, -4.50203616])"
      ]
     },
     "execution_count": 15,
     "metadata": {},
     "output_type": "execute_result"
    }
   ],
   "source": [
    "means[0, :]"
   ]
  },
  {
   "cell_type": "code",
   "execution_count": 16,
   "metadata": {},
   "outputs": [
    {
     "data": {
      "text/plain": [
       "array([2.20337448, 0.25485499, 0.56319138, 0.67797796, 0.85049885,\n",
       "       1.05068015, 0.31965283, 2.677649  , 0.43275722, 1.10652726,\n",
       "       0.98883461, 0.87614325, 0.59483812, 0.80135417, 0.462956  ,\n",
       "       0.69893176, 0.36267702, 0.93406243, 0.27735647, 1.01213441])"
      ]
     },
     "execution_count": 16,
     "metadata": {},
     "output_type": "execute_result"
    }
   ],
   "source": [
    "vars[0, :]"
   ]
  },
  {
   "cell_type": "code",
   "execution_count": null,
   "metadata": {},
   "outputs": [],
   "source": [
    "group[0]"
   ]
  },
  {
   "cell_type": "code",
   "execution_count": 17,
   "metadata": {
    "scrolled": true
   },
   "outputs": [
    {
     "name": "stdout",
     "output_type": "stream",
     "text": [
      "[1.19249080e-05 2.93182211e-18 3.98528720e-03 4.55458580e-13\n",
      " 1.28527640e-04 2.81437754e-06 3.69204967e-28 1.36869121e-02\n",
      " 2.24118556e-02 1.01521138e-02 1.14691202e-01 5.90749960e-19\n",
      " 5.25856866e-02 3.94904221e-05 1.20978827e-10 1.25083682e-21\n",
      " 3.71088758e-25 5.18305509e-01 2.58780808e-51 2.63998676e-01]\n"
     ]
    }
   ],
   "source": [
    "print(norm_probas[0, 0, :])"
   ]
  },
  {
   "cell_type": "code",
   "execution_count": null,
   "metadata": {},
   "outputs": [],
   "source": [
    "sample_multinomial(norm_probas)"
   ]
  },
  {
   "cell_type": "code",
   "execution_count": null,
   "metadata": {},
   "outputs": [],
   "source": [
    "# SpMix\n",
    "\n",
    "chains = spmix_utils.loadChains(\"data/simulation1/spmix/chains/scenario1/rep0.recordio\")\n",
    "clus_spmix = []\n",
    "for i in range(6):\n",
    "    clus_spmix.append(np.vstack(\n",
    "        [x.groupParams[i].cluster_allocs for x in chains]))"
   ]
  },
  {
   "cell_type": "code",
   "execution_count": null,
   "metadata": {},
   "outputs": [],
   "source": [
    "nclus_spmix = nclus_chains(clus_spmix)\n",
    "print([np.mean(nclus_spmix[:, i]) for i in range(6)])"
   ]
  },
  {
   "cell_type": "code",
   "execution_count": null,
   "metadata": {},
   "outputs": [],
   "source": [
    "h = np.arange(1, 20)\n",
    "a = 0.1\n",
    "b = 1\n",
    "plt.plot(1 - 1.0 / (1 + np.exp(b - a * h)))"
   ]
  },
  {
   "cell_type": "code",
   "execution_count": null,
   "metadata": {},
   "outputs": [],
   "source": []
  }
 ],
 "metadata": {
  "kernelspec": {
   "display_name": "Python 3",
   "language": "python",
   "name": "python3"
  },
  "language_info": {
   "codemirror_mode": {
    "name": "ipython",
    "version": 3
   },
   "file_extension": ".py",
   "mimetype": "text/x-python",
   "name": "python",
   "nbconvert_exporter": "python",
   "pygments_lexer": "ipython3",
   "version": "3.8.0"
  }
 },
 "nbformat": 4,
 "nbformat_minor": 4
}

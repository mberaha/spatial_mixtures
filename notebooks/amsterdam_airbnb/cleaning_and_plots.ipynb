{
 "cells": [
  {
   "cell_type": "code",
   "execution_count": null,
   "metadata": {},
   "outputs": [],
   "source": [
    "%matplotlib inline\n",
    "import pandas as pd\n",
    "import numpy as np\n",
    "import seaborn as sns\n",
    "\n",
    "# import geopandas as gpd\n",
    "import matplotlib.pyplot as plt\n",
    "import matplotlib"
   ]
  },
  {
   "cell_type": "code",
   "execution_count": null,
   "metadata": {},
   "outputs": [],
   "source": [
    "plt.close('all')\n",
    "plt.rc('text', usetex=False)\n",
    "# plt.rc('font', family='serif')\n",
    "LEGEND_FONT_SIZE = 12\n",
    "AXIS_FONT_SIZE = 10\n",
    "TICKS_FONT_SIZE = 10\n",
    "TITLE_FONT_SIZE = 12\n",
    "linewidth=2.0\n",
    "lw=1.2\n",
    "current_palette = sns.color_palette()\n",
    "\n",
    "matplotlib.rcParams[\"xtick.labelsize\"] = TICKS_FONT_SIZE"
   ]
  },
  {
   "cell_type": "code",
   "execution_count": null,
   "metadata": {
    "scrolled": false
   },
   "outputs": [],
   "source": [
    "data = pd.read_csv(\"listings.csv\", low_memory=False) "
   ]
  },
  {
   "cell_type": "code",
   "execution_count": null,
   "metadata": {},
   "outputs": [],
   "source": [
    "len(data)"
   ]
  },
  {
   "cell_type": "code",
   "execution_count": null,
   "metadata": {},
   "outputs": [],
   "source": [
    "print(\", \".join(data.columns))"
   ]
  },
  {
   "cell_type": "code",
   "execution_count": null,
   "metadata": {},
   "outputs": [],
   "source": [
    "kept_columns = [\"host_is_superhost\", 'latitude','longitude', \"accommodates\", \n",
    "                \"bathrooms\", \"bedrooms\", \"price\", \"number_of_reviews\",\n",
    "                \"review_scores_rating\", \"instant_bookable\"]\n",
    "\n",
    "response = \"price\"\n",
    "covariates = [c for c in kept_columns if c != response]"
   ]
  },
  {
   "cell_type": "code",
   "execution_count": null,
   "metadata": {},
   "outputs": [],
   "source": [
    "data = data[kept_columns]"
   ]
  },
  {
   "cell_type": "code",
   "execution_count": null,
   "metadata": {
    "scrolled": true
   },
   "outputs": [],
   "source": [
    "data.head()"
   ]
  },
  {
   "cell_type": "code",
   "execution_count": null,
   "metadata": {},
   "outputs": [],
   "source": [
    "## for each column, check the percentage of NAs\n",
    "\n",
    "nas = np.zeros(len(kept_columns))\n",
    "for i, k in enumerate(kept_columns):\n",
    "    nas[i] = data[k].isna().sum() / len(data)\n",
    "    \n",
    "plt.bar(kept_columns, nas)\n",
    "plt.xticks(rotation=90)\n",
    "plt.show()"
   ]
  },
  {
   "cell_type": "code",
   "execution_count": null,
   "metadata": {},
   "outputs": [],
   "source": [
    "## and drop the NAs\n",
    "data = data.dropna()"
   ]
  },
  {
   "cell_type": "code",
   "execution_count": null,
   "metadata": {},
   "outputs": [],
   "source": [
    "#convert prices to float\n",
    "def convert_to_float(value):\n",
    "    # remove \",\"\n",
    "    string = value[1:].replace(\",\",\"\")\n",
    "    return float(string)\n",
    "\n",
    "data['price'] = data['price'].apply(lambda x: convert_to_float(x))"
   ]
  },
  {
   "cell_type": "code",
   "execution_count": null,
   "metadata": {},
   "outputs": [],
   "source": [
    "numeric_variables = [\"accommodates\", \"bathrooms\", \"bedrooms\", \"price\", \n",
    "                     \"number_of_reviews\", \"review_scores_rating\", \"instant_bookable\"]\n",
    "\n",
    "in_log_scale = [\"number_of_reviews\"]\n",
    "\n",
    "fig, axes = plt.subplots(2, 4, figsize=(12, 4))\n",
    "axes = axes.flat\n",
    "\n",
    "for i, k in enumerate(numeric_variables):\n",
    "    if k == \"price\":\n",
    "        axes[i].hist(data[k].values, range=(0, 800), color=\"orange\")\n",
    "    elif k in in_log_scale:\n",
    "        axes[i].hist(np.log(data[k].values+1))\n",
    "        axes[i].set_xlabel(\"log scale\")\n",
    "    else:\n",
    "        axes[i].hist(data[k].values)\n",
    "    axes[i].set_title(\" \".join(k.split(\"_\")), fontsize=TITLE_FONT_SIZE)\n",
    "    \n",
    "    \n",
    "    \n",
    "plt.tight_layout()\n",
    "plt.show()"
   ]
  },
  {
   "cell_type": "markdown",
   "metadata": {
    "scrolled": false
   },
   "source": [
    "# plot neighbourhoods\n",
    "plt.figure(figsize=(10,10))\n",
    "sns.scatterplot(x='longitude', y='latitude', hue='neighbourhood',s=20, data=data)\n",
    "plt.legend(bbox_to_anchor=(1.05, 1), loc=2, borderaxespad=0.)\n",
    "plt.show()"
   ]
  },
  {
   "cell_type": "code",
   "execution_count": null,
   "metadata": {
    "scrolled": true
   },
   "outputs": [],
   "source": [
    "import geopandas as gpd"
   ]
  },
  {
   "cell_type": "code",
   "execution_count": null,
   "metadata": {},
   "outputs": [],
   "source": [
    "#load geojson\n",
    "geodf = gpd.read_file('neighbourhoods.geojson')"
   ]
  },
  {
   "cell_type": "markdown",
   "metadata": {},
   "source": [
    "## Find correspondence between locations and geojson neigh"
   ]
  },
  {
   "cell_type": "code",
   "execution_count": null,
   "metadata": {
    "scrolled": true
   },
   "outputs": [],
   "source": [
    "#Create a point of each Airbnb location, and enable the \"data\" dataframe into a geopandas dataframe\n",
    "datageom = gpd.GeoDataFrame(data, geometry=gpd.points_from_xy(data.longitude, data.latitude))\n",
    "\n",
    "#Now, do a spatial join... This code here runs an intersect analysis to find which neighborhood the Airbnb location is in\n",
    "joined = gpd.sjoin(geodf, datageom, how='inner', op='intersects')\n",
    "#N.B. some data are removed if not in any polygon\n",
    "\n",
    "#Rename the column. \n",
    "joined.rename(columns={'neighbourhood_left':'neighbourhood'}, inplace=True)\n",
    "\n",
    "#Drop the second geometry column\n",
    "joined.drop(columns='geometry', inplace=True)"
   ]
  },
  {
   "cell_type": "code",
   "execution_count": null,
   "metadata": {
    "scrolled": false
   },
   "outputs": [],
   "source": [
    "# plot neighbourhoods\n",
    "fig,ax1 = plt.subplots(1,1, figsize=(10,10))\n",
    "base = geodf.plot(color='white',alpha=0.5, edgecolor='black', ax=ax1)\n",
    "sns.scatterplot(x='longitude', y='latitude', hue='neighbourhood',s=20, data=joined)\n",
    "plt.legend(bbox_to_anchor=(1.05, 1), loc=2, borderaxespad=0.)\n",
    "plt.show()"
   ]
  },
  {
   "cell_type": "code",
   "execution_count": null,
   "metadata": {
    "scrolled": true
   },
   "outputs": [],
   "source": [
    "#Create a count of each neighborhood\n",
    "nb_join_count = joined.groupby('neighbourhood').agg('count').reset_index()\n",
    "\n",
    "#Get the \"true count\". Join this data to the original neighborhoods geometry \n",
    "true_count = geodf.merge(nb_join_count, on='neighbourhood')\n",
    "\n",
    "#Lets plot number of observations in each area\n",
    "fig,ax = plt.subplots(1,1, figsize=(10,10))\n",
    "\n",
    "#log scale\n",
    "true_count['price'] = np.log(true_count['price'])\n",
    "base = geodf.plot(color='white', edgecolor='black', ax=ax)\n",
    "true_count.plot(column='price',cmap='viridis', ax=base, legend=True)\n",
    "plt.title('Number of Airbnb listings by Neighborhood in Amsterdam')\n",
    "plt.show()"
   ]
  },
  {
   "cell_type": "code",
   "execution_count": null,
   "metadata": {},
   "outputs": [],
   "source": [
    "plt.hist(np.log(joined.number_of_reviews + 1))\n",
    "joined.loc[:, \"number_of_reviews\"] = np.log(joined.loc[:, \"number_of_reviews\"].values + 1) "
   ]
  },
  {
   "cell_type": "code",
   "execution_count": null,
   "metadata": {},
   "outputs": [],
   "source": [
    "from scipy.stats import boxcox, probplot, norm"
   ]
  },
  {
   "cell_type": "code",
   "execution_count": null,
   "metadata": {},
   "outputs": [],
   "source": [
    "x_t, param = boxcox(joined.review_scores_rating)\n",
    "print(param)\n",
    "plt.hist(x_t)\n",
    "plt.show()\n",
    "joined.loc[:, \"review_scores_rating\"] = x_t"
   ]
  },
  {
   "cell_type": "markdown",
   "metadata": {},
   "source": [
    "# Standardize numerical covariates"
   ]
  },
  {
   "cell_type": "code",
   "execution_count": null,
   "metadata": {},
   "outputs": [],
   "source": [
    "standardized = joined\n",
    "\n",
    "for col in [\"accommodates\", \"bathrooms\", \"bedrooms\", \"number_of_reviews\", \"review_scores_rating\"]:\n",
    "    mean = joined.loc[:, col].mean()\n",
    "    std = joined.loc[:, col].std()\n",
    "    standardized.loc[:, col] -= mean\n",
    "    standardized.loc[:, col] /= std"
   ]
  },
  {
   "cell_type": "code",
   "execution_count": null,
   "metadata": {},
   "outputs": [],
   "source": [
    "standardized.corr()"
   ]
  },
  {
   "cell_type": "code",
   "execution_count": null,
   "metadata": {},
   "outputs": [],
   "source": [
    "plt.hist(standardized.review_scores_rating)"
   ]
  },
  {
   "cell_type": "code",
   "execution_count": null,
   "metadata": {},
   "outputs": [],
   "source": [
    "# convert data to list of lists\n",
    "grouped_price = standardized.groupby(['neighbourhood']).apply(lambda x: x['price'].values.tolist())\n",
    "grouped_cov = standardized.groupby(['neighbourhood']).apply(lambda x: x[covariates].values.tolist())\n",
    "neigh = grouped_cov.index.values\n",
    "\n",
    "price = []\n",
    "cov = []\n",
    "low = 1\n",
    "up = 1000\n",
    "for index, value in grouped_price.items():\n",
    "    p = np.array(value)\n",
    "    bound_indices = np.where(np.logical_and(p<up, p>low))[0]\n",
    "    price.append(p[bound_indices])\n",
    "    cov.append(pd.DataFrame(data=np.array(grouped_cov[index])[bound_indices],\n",
    "                            columns=covariates))"
   ]
  },
  {
   "cell_type": "code",
   "execution_count": null,
   "metadata": {},
   "outputs": [],
   "source": [
    "# remove empty neigh from geodf\n",
    "drop_ind = [ i for i in range(geodf.shape[0]) if geodf['neighbourhood'].iloc[i] not in neigh]\n",
    "geodf.drop(drop_ind, inplace=True, axis=0)\n",
    "geodf = geodf.reset_index()"
   ]
  },
  {
   "cell_type": "code",
   "execution_count": null,
   "metadata": {},
   "outputs": [],
   "source": [
    "# build W\n",
    "neigh_map = {k: i for i,k in enumerate(neigh) }\n",
    "\n",
    "n = len(neigh)\n",
    "W = np.zeros((n, n))\n",
    "for index, value in geodf.iterrows():  \n",
    "    # get 'not disjoint' countries\n",
    "    neighbors = geodf[~geodf.geometry.disjoint(value.geometry)].neighbourhood.tolist()\n",
    "    # remove own name from the list\n",
    "    neighbors = [ name for name in neighbors if value.neighbourhood != name ]\n",
    "    # get indices\n",
    "    neighbors_indices = [i for i in range(n) if neigh[i] in neighbors]\n",
    "    # W is 1 for neighbors\n",
    "    W[neigh_map[value.neighbourhood], neighbors_indices] = 1   "
   ]
  },
  {
   "cell_type": "code",
   "execution_count": null,
   "metadata": {},
   "outputs": [],
   "source": [
    "def matprint(mat, fmt=\"g\"):\n",
    "    col_maxes = [max([len((\"{:\"+fmt+\"}\").format(x)) for x in col]) for col in mat.T]\n",
    "    for x in mat:\n",
    "        for i, y in enumerate(x):\n",
    "            print((\"{:\"+str(col_maxes[i])+fmt+\"}\").format(y), end=\"  \")\n",
    "        print(\"\")\n",
    "matprint(W)"
   ]
  },
  {
   "cell_type": "code",
   "execution_count": null,
   "metadata": {
    "scrolled": false
   },
   "outputs": [],
   "source": [
    "j=1\n",
    "fig,ax1 = plt.subplots(1,1, figsize=(30,30))\n",
    "\n",
    "ax2 = geodf.plot(color='white',alpha=0.5, edgecolor='black', ax=ax1)\n",
    "ax3 = geodf.iloc[np.where(geodf['neighbourhood']==neigh[j])[0],:].plot(color='blue',\n",
    "                                                                       alpha=0.5, edgecolor='black', ax=ax2)\n",
    "\n",
    "geodf.iloc[np.where(geodf['neighbourhood'].isin(neigh[np.where(W[j,:])[0]]))[0],:].plot(\n",
    "    color='red',alpha=0.5, edgecolor='black', ax=ax3)\n",
    "geodf.apply(lambda x: ax3.annotate(s=neigh_map[x.neighbourhood], color='black', \n",
    "                                   xy=x.geometry.centroid.coords[0],ha='center'), axis=1)\n",
    "plt.show()"
   ]
  },
  {
   "cell_type": "code",
   "execution_count": null,
   "metadata": {},
   "outputs": [],
   "source": [
    "# 3 e 18 non sono vicini\n",
    "W[3,18] = 0\n",
    "W[18,3] = 0"
   ]
  },
  {
   "cell_type": "code",
   "execution_count": null,
   "metadata": {},
   "outputs": [],
   "source": [
    "for i in range(len(cov)):\n",
    "    if len(price[i]) != cov[i].shape[0]:\n",
    "        print(\"error in \", i)\n",
    "        print(\"datas: \", len(price[i]), \" covariates\", cov[i].shape[0])"
   ]
  },
  {
   "cell_type": "code",
   "execution_count": null,
   "metadata": {},
   "outputs": [],
   "source": [
    "# save W and l\n",
    "import pickle\n",
    "\n",
    "d={'y':price, 'G':W, 'neigh_names':neigh, 'cov': cov}\n",
    "with open('../../data/amsterdam.pkl', 'wb') as f:\n",
    "    pickle.dump(d, f)"
   ]
  },
  {
   "cell_type": "code",
   "execution_count": null,
   "metadata": {
    "scrolled": false
   },
   "outputs": [],
   "source": [
    "import contextily as ctx\n",
    "# plot densità stimate\n",
    "indices = [0, 9, 19, 14]\n",
    "palette = sns.color_palette()\n",
    "\n",
    "geodf = geodf.to_crs(epsg=3857)\n",
    "\n",
    "fig,ax = plt.subplots(1,1, figsize=(20,20))\n",
    "\n",
    "ax = geodf.plot(fc=(0,0,0,0.1), edgecolor='black', ax=ax)\n",
    "\n",
    "for i in range(len(indices)):\n",
    "    ax = geodf.iloc[np.where(geodf['neighbourhood']==neigh[indices[i]])[0],:].plot(color=palette[i],\n",
    "                                                                       alpha=0.9, edgecolor='black', ax=ax)\n",
    "ctx.add_basemap(ax, alpha=0.5)\n",
    "ax.set_xlabel('Longitude')\n",
    "ax.set_ylabel('Latitude')\n",
    "ax.set_axis_off()\n",
    "#ax.set_aspect('auto')\n",
    "\n",
    "#geodf.apply(lambda x: ax.annotate(s=x.neighbourhood, color='black', \n",
    "#                                   xy=x.geometry.centroid.coords[0],ha='center'), axis=1)\n",
    "#plt.show()\n",
    "plt.savefig('dens_estimates_neigh.pdf')"
   ]
  },
  {
   "cell_type": "code",
   "execution_count": null,
   "metadata": {},
   "outputs": [],
   "source": []
  },
  {
   "cell_type": "code",
   "execution_count": null,
   "metadata": {},
   "outputs": [],
   "source": []
  }
 ],
 "metadata": {
  "kernelspec": {
   "display_name": "Python 3",
   "language": "python",
   "name": "python3"
  },
  "language_info": {
   "codemirror_mode": {
    "name": "ipython",
    "version": 3
   },
   "file_extension": ".py",
   "mimetype": "text/x-python",
   "name": "python",
   "nbconvert_exporter": "python",
   "pygments_lexer": "ipython3",
   "version": "3.6.8"
  }
 },
 "nbformat": 4,
 "nbformat_minor": 2
}

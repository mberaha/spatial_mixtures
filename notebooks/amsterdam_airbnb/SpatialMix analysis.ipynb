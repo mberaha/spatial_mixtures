{
 "cells": [
  {
   "cell_type": "code",
   "execution_count": 1,
   "metadata": {},
   "outputs": [
    {
     "data": {
      "text/plain": [
       "'/home/mario/PhD/spatial_lda'"
      ]
     },
     "execution_count": 1,
     "metadata": {},
     "output_type": "execute_result"
    }
   ],
   "source": [
    "import os\n",
    "\n",
    "os.chdir(\"../..\")\n",
    "os.getcwd()"
   ]
  },
  {
   "cell_type": "code",
   "execution_count": 2,
   "metadata": {},
   "outputs": [],
   "source": [
    "import pickle\n",
    "import numpy as np\n",
    "import pandas as pd\n",
    "import matplotlib.pyplot as plt\n",
    "\n",
    "import subprocess\n",
    "import pymc3 as pm\n",
    "import seaborn as sns\n",
    "\n",
    "from spatial_mix.utils import *\n",
    "from spatial_mix.protos.py.univariate_mixture_state_pb2 import UnivariateState, UnivariateMixtureState, HdpState\n",
    "\n",
    "current_palette = sns.color_palette()"
   ]
  },
  {
   "cell_type": "code",
   "execution_count": 15,
   "metadata": {},
   "outputs": [],
   "source": [
    "covariates = [\"host_is_superhost\", \"accommodates\", \"bathrooms\", \"bedrooms\", \"number_of_reviews\", \"review_scores_rating\", \"instant_bookable\"]"
   ]
  },
  {
   "cell_type": "markdown",
   "metadata": {},
   "source": [
    "# Run"
   ]
  },
  {
   "cell_type": "code",
   "execution_count": 31,
   "metadata": {},
   "outputs": [],
   "source": [
    "with open(\"data/amsterdam.pkl\", \"rb\") as fp:\n",
    "    datas = pickle.load(fp)"
   ]
  },
  {
   "cell_type": "code",
   "execution_count": 32,
   "metadata": {},
   "outputs": [
    {
     "data": {
      "text/plain": [
       "dict_keys(['y', 'G', 'neigh_names', 'cov'])"
      ]
     },
     "execution_count": 32,
     "metadata": {},
     "output_type": "execute_result"
    }
   ],
   "source": [
    "datas.keys()"
   ]
  },
  {
   "cell_type": "code",
   "execution_count": 33,
   "metadata": {},
   "outputs": [
    {
     "data": {
      "text/plain": [
       "<matplotlib.image.AxesImage at 0x7fb9c921fdd8>"
      ]
     },
     "execution_count": 33,
     "metadata": {},
     "output_type": "execute_result"
    },
    {
     "data": {
      "image/png": "[encoded data removed]",
      "text/plain": [
       "<Figure size 432x288 with 1 Axes>"
      ]
     },
     "metadata": {
      "needs_background": "light"
     },
     "output_type": "display_data"
    }
   ],
   "source": [
    "plt.imshow(datas[\"G\"])"
   ]
  },
  {
   "cell_type": "code",
   "execution_count": 36,
   "metadata": {},
   "outputs": [],
   "source": [
    "covariates_by_group = []\n",
    "for i, cov in enumerate(datas[\"cov\"]):      \n",
    "    curr = cov[covariates]\n",
    "    if(curr.isna().sum().sum()):\n",
    "        print(\"Nans in group {0}\".format(i))\n",
    "        \n",
    "    curr.loc[:, \"host_is_superhost\"] = (curr[\"host_is_superhost\"]==\"t\").astype(int).values\n",
    "    curr.loc[:, \"instant_bookable\"] = (curr[\"instant_bookable\"]==\"t\").astype(int).values\n",
    "    curr = np.hstack([np.ones(len(curr)).reshape(-1, 1), curr.values])\n",
    "    covariates_by_group.append(curr)"
   ]
  },
  {
   "cell_type": "code",
   "execution_count": 37,
   "metadata": {},
   "outputs": [],
   "source": [
    "for i in range(len(datas[\"y\"])):\n",
    "    if len(datas[\"y\"][i]) != len(datas[\"cov\"][i]):\n",
    "        print(\"error in \", i)\n",
    "        print(\"datas: \", len(datas[\"y\"][i]), \" covariates\", covariates_by_group[i].shape[0])"
   ]
  },
  {
   "cell_type": "code",
   "execution_count": 38,
   "metadata": {
    "scrolled": true
   },
   "outputs": [
    {
     "name": "stdout",
     "output_type": "stream",
     "text": [
      "Burn-in, iter # 200  /  10000\n",
      "Burn-in, iter # 400  /  10000\n",
      "Burn-in, iter # 600  /  10000\n",
      "Burn-in, iter # 800  /  10000\n",
      "Burn-in, iter # 1000  /  10000\n",
      "Burn-in, iter # 1200  /  10000\n",
      "Burn-in, iter # 1400  /  10000\n",
      "Burn-in, iter # 1600  /  10000\n",
      "Burn-in, iter # 1800  /  10000\n",
      "Burn-in, iter # 2000  /  10000\n",
      "Burn-in, iter # 2200  /  10000\n",
      "Burn-in, iter # 2400  /  10000\n",
      "Burn-in, iter # 2600  /  10000\n",
      "Burn-in, iter # 2800  /  10000\n",
      "Burn-in, iter # 3000  /  10000\n",
      "Burn-in, iter # 3200  /  10000\n",
      "Burn-in, iter # 3400  /  10000\n",
      "Burn-in, iter # 3600  /  10000\n",
      "Burn-in, iter # 3800  /  10000\n",
      "Burn-in, iter # 4000  /  10000\n",
      "Burn-in, iter # 4200  /  10000\n",
      "Burn-in, iter # 4400  /  10000\n",
      "Burn-in, iter # 4600  /  10000\n",
      "Burn-in, iter # 4800  /  10000\n",
      "Burn-in, iter # 5000  /  10000\n",
      "Burn-in, iter # 5200  /  10000\n",
      "Burn-in, iter # 5400  /  10000\n",
      "Burn-in, iter # 5600  /  10000\n",
      "Burn-in, iter # 5800  /  10000\n",
      "Burn-in, iter # 6000  /  10000\n",
      "Burn-in, iter # 6200  /  10000\n",
      "Burn-in, iter # 6400  /  10000\n",
      "Burn-in, iter # 6600  /  10000\n",
      "Burn-in, iter # 6800  /  10000\n",
      "Burn-in, iter # 7000  /  10000\n",
      "Burn-in, iter # 7200  /  10000\n",
      "Burn-in, iter # 7400  /  10000\n",
      "Burn-in, iter # 7600  /  10000\n",
      "Burn-in, iter # 7800  /  10000\n",
      "Burn-in, iter # 8000  /  10000\n",
      "Burn-in, iter # 8200  /  10000\n",
      "Burn-in, iter # 8400  /  10000\n",
      "Burn-in, iter # 8600  /  10000\n",
      "Burn-in, iter # 8800  /  10000\n",
      "Burn-in, iter # 9000  /  10000\n",
      "Burn-in, iter # 9200  /  10000\n",
      "Burn-in, iter # 9400  /  10000\n",
      "Burn-in, iter # 9600  /  10000\n",
      "Burn-in, iter # 9800  /  10000\n",
      "Burn-in, iter # 10000  /  10000\n",
      "Running, iter # 200  /  10000\n",
      "Running, iter # 400  /  10000\n",
      "Running, iter # 600  /  10000\n",
      "Running, iter # 800  /  10000\n",
      "Running, iter # 1000  /  10000\n",
      "Running, iter # 1200  /  10000\n",
      "Running, iter # 1400  /  10000\n",
      "Running, iter # 1600  /  10000\n",
      "Running, iter # 1800  /  10000\n",
      "Running, iter # 2000  /  10000\n",
      "Running, iter # 2200  /  10000\n",
      "Running, iter # 2400  /  10000\n",
      "Running, iter # 2600  /  10000\n",
      "Running, iter # 2800  /  10000\n",
      "Running, iter # 3000  /  10000\n",
      "Running, iter # 3200  /  10000\n",
      "Running, iter # 3400  /  10000\n",
      "Running, iter # 3600  /  10000\n",
      "Running, iter # 3800  /  10000\n",
      "Running, iter # 4000  /  10000\n",
      "Running, iter # 4200  /  10000\n",
      "Running, iter # 4400  /  10000\n",
      "Running, iter # 4600  /  10000\n",
      "Running, iter # 4800  /  10000\n",
      "Running, iter # 5000  /  10000\n",
      "Running, iter # 5200  /  10000\n",
      "Running, iter # 5400  /  10000\n",
      "Running, iter # 5600  /  10000\n",
      "Running, iter # 5800  /  10000\n",
      "Running, iter # 6000  /  10000\n",
      "Running, iter # 6200  /  10000\n",
      "Running, iter # 6400  /  10000\n",
      "Running, iter # 6600  /  10000\n",
      "Running, iter # 6800  /  10000\n",
      "Running, iter # 7000  /  10000\n",
      "Running, iter # 7200  /  10000\n",
      "Running, iter # 7400  /  10000\n",
      "Running, iter # 7600  /  10000\n",
      "Running, iter # 7800  /  10000\n",
      "Running, iter # 8000  /  10000\n",
      "Running, iter # 8200  /  10000\n",
      "Running, iter # 8400  /  10000\n",
      "Running, iter # 8600  /  10000\n",
      "Running, iter # 8800  /  10000\n",
      "Running, iter # 9000  /  10000\n",
      "Running, iter # 9200  /  10000\n",
      "Running, iter # 9400  /  10000\n",
      "Running, iter # 9600  /  10000\n",
      "Running, iter # 9800  /  10000\n",
      "Running, iter # 10000  /  10000\n"
     ]
    }
   ],
   "source": [
    "chains = runSpatialMixtureSampler(\n",
    "    10000, 10000, 5, datas[\"G\"], \n",
    "    \"spatial_mix/resources/sampler_params.asciipb\",\n",
    "    datas[\"y\"], covariates_by_group)"
   ]
  },
  {
   "cell_type": "code",
   "execution_count": 39,
   "metadata": {},
   "outputs": [],
   "source": [
    "writeChains(chains, \"data/amsterdam_serialized_chains_with_intercept_05032020.recordio\")"
   ]
  },
  {
   "cell_type": "markdown",
   "metadata": {},
   "source": [
    "# Posterior Plots"
   ]
  },
  {
   "cell_type": "code",
   "execution_count": 40,
   "metadata": {},
   "outputs": [],
   "source": [
    "import arviz as az"
   ]
  },
  {
   "cell_type": "code",
   "execution_count": 41,
   "metadata": {},
   "outputs": [],
   "source": [
    "chains = loadChains(\"data/amsterdam_serialized_chains_with_intercept_05032020.recordio\")"
   ]
  },
  {
   "cell_type": "markdown",
   "metadata": {},
   "source": [
    "## Regression Coefficients"
   ]
  },
  {
   "cell_type": "code",
   "execution_count": 51,
   "metadata": {
    "collapsed": true
   },
   "outputs": [
    {
     "ename": "TypeError",
     "evalue": "unhashable type: 'list'",
     "output_type": "error",
     "traceback": [
      "\u001b[0;31m---------------------------------------------------------------------------\u001b[0m",
      "\u001b[0;31mTypeError\u001b[0m                                 Traceback (most recent call last)",
      "\u001b[0;32m<ipython-input-51-dbb9f7fbe201>\u001b[0m in \u001b[0;36m<module>\u001b[0;34m\u001b[0m\n\u001b[1;32m      3\u001b[0m \u001b[0mcovariates\u001b[0m \u001b[0;34m=\u001b[0m \u001b[0;34m[\u001b[0m\u001b[0;34m\"intercept\"\u001b[0m\u001b[0;34m]\u001b[0m \u001b[0;34m+\u001b[0m \u001b[0mcovariates\u001b[0m\u001b[0;34m\u001b[0m\u001b[0;34m\u001b[0m\u001b[0m\n\u001b[1;32m      4\u001b[0m \u001b[0;32mfor\u001b[0m \u001b[0mi\u001b[0m\u001b[0;34m,\u001b[0m \u001b[0mname\u001b[0m \u001b[0;32min\u001b[0m \u001b[0menumerate\u001b[0m\u001b[0;34m(\u001b[0m\u001b[0mcovariates\u001b[0m\u001b[0;34m)\u001b[0m\u001b[0;34m:\u001b[0m\u001b[0;34m\u001b[0m\u001b[0;34m\u001b[0m\u001b[0m\n\u001b[0;32m----> 5\u001b[0;31m     \u001b[0mregressor_chains\u001b[0m\u001b[0;34m[\u001b[0m\u001b[0mname\u001b[0m\u001b[0;34m.\u001b[0m\u001b[0msplit\u001b[0m\u001b[0;34m(\u001b[0m\u001b[0;34m\" \"\u001b[0m\u001b[0;34m)\u001b[0m\u001b[0;34m]\u001b[0m \u001b[0;34m=\u001b[0m \u001b[0mnp\u001b[0m\u001b[0;34m.\u001b[0m\u001b[0marray\u001b[0m\u001b[0;34m(\u001b[0m\u001b[0;34m[\u001b[0m\u001b[0mc\u001b[0m\u001b[0;34m.\u001b[0m\u001b[0mregression_coefficients\u001b[0m\u001b[0;34m[\u001b[0m\u001b[0mi\u001b[0m\u001b[0;34m]\u001b[0m \u001b[0;32mfor\u001b[0m \u001b[0mc\u001b[0m \u001b[0;32min\u001b[0m \u001b[0mchains\u001b[0m\u001b[0;34m]\u001b[0m\u001b[0;34m)\u001b[0m\u001b[0;34m\u001b[0m\u001b[0;34m\u001b[0m\u001b[0m\n\u001b[0m",
      "\u001b[0;31mTypeError\u001b[0m: unhashable type: 'list'"
     ]
    }
   ],
   "source": [
    "p_size = len(chains[0].regression_coefficients)\n",
    "regressor_chains = {}\n",
    "covariates = [\"intercept\"] + covariates\n",
    "for i, name in enumerate(covariates):\n",
    "    regressor_chains[name] = np.array([c.regression_coefficients[i] for c in chains])"
   ]
  },
  {
   "cell_type": "code",
   "execution_count": 43,
   "metadata": {},
   "outputs": [],
   "source": [
    "azChains = az.convert_to_inference_data(regressor_chains)"
   ]
  },
  {
   "cell_type": "code",
   "execution_count": 50,
   "metadata": {},
   "outputs": [
    {
     "data": {
      "image/png": "[encoded data removed]",
      "text/plain": [
       "<Figure size 360x360 with 1 Axes>"
      ]
     },
     "metadata": {
      "needs_background": "light"
     },
     "output_type": "display_data"
    }
   ],
   "source": [
    "axes = az.plot_forest(azChains, credible_interval=0.95, figsize=(5, 5))\n",
    "axes[0].axvline(color=\"red\")\n",
    "plt.savefig(\"images/regression_coefficients.pdf\")\n",
    "plt.show()"
   ]
  },
  {
   "cell_type": "markdown",
   "metadata": {},
   "source": [
    "## Couple of residual densities"
   ]
  },
  {
   "cell_type": "code",
   "execution_count": 69,
   "metadata": {},
   "outputs": [],
   "source": [
    "xgrid = np.linspace(-200, 200, 1000)\n",
    "dens = estimateDensities(chains, xgrids=xgrid)"
   ]
  },
  {
   "cell_type": "code",
   "execution_count": 73,
   "metadata": {},
   "outputs": [
    {
     "data": {
      "image/png": "[encoded data removed]",
      "text/plain": [
       "<Figure size 360x360 with 4 Axes>"
      ]
     },
     "metadata": {
      "needs_background": "light"
     },
     "output_type": "display_data"
    }
   ],
   "source": [
    "fig, axes = plt.subplots(nrows=2 , ncols=2, figsize=(5, 5))\n",
    "toplot = [0, 9, 14, 19]\n",
    "axes = axes.flat\n",
    "\n",
    "\n",
    "for i in range(4):\n",
    "    g = toplot[i]\n",
    "    intervals = np.array([pm.stats.hpd(dens[g][:, i], 0.05) for i in range(dens[g].shape[1])])  \n",
    "    axes[i].fill_between(xgrid, intervals[:, 0], intervals[:, 1], alpha=0.3, color=current_palette[i])\n",
    "\n",
    "plt.tight_layout()\n",
    "plt.savefig(\"images/dens_estimates_res_amsterdam.pdf\")\n",
    "plt.show()"
   ]
  },
  {
   "cell_type": "code",
   "execution_count": null,
   "metadata": {},
   "outputs": [],
   "source": []
  }
 ],
 "metadata": {
  "kernelspec": {
   "display_name": "Python 3",
   "language": "python",
   "name": "python3"
  },
  "language_info": {
   "codemirror_mode": {
    "name": "ipython",
    "version": 3
   },
   "file_extension": ".py",
   "mimetype": "text/x-python",
   "name": "python",
   "nbconvert_exporter": "python",
   "pygments_lexer": "ipython3",
   "version": "3.6.8"
  }
 },
 "nbformat": 4,
 "nbformat_minor": 4
}

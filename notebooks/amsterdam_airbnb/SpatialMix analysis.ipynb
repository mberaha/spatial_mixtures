{
 "cells": [
  {
   "cell_type": "code",
   "execution_count": 1,
   "metadata": {},
   "outputs": [
    {
     "data": {
      "text/plain": [
       "'/home/mario/PhD/spatial_lda'"
      ]
     },
     "execution_count": 1,
     "metadata": {},
     "output_type": "execute_result"
    }
   ],
   "source": [
    "import os\n",
    "\n",
    "os.chdir(\"../..\")\n",
    "os.getcwd()"
   ]
  },
  {
   "cell_type": "code",
   "execution_count": 2,
   "metadata": {},
   "outputs": [],
   "source": [
    "import pickle\n",
    "import numpy as np\n",
    "import pandas as pd\n",
    "import matplotlib.pyplot as plt\n",
    "\n",
    "import subprocess\n",
    "import pymc3 as pm\n",
    "import seaborn as sns\n",
    "\n",
    "from spatial_mix.utils import *\n",
    "from spatial_mix.protos.py.univariate_mixture_state_pb2 import UnivariateState, UnivariateMixtureState, HdpState\n",
    "\n",
    "current_palette = sns.color_palette()"
   ]
  },
  {
   "cell_type": "code",
   "execution_count": 3,
   "metadata": {},
   "outputs": [],
   "source": [
    "covariates = [\"host_is_superhost\", \"accommodates\", \"bathrooms\", \"bedrooms\", \n",
    "              \"number_of_reviews\", \"review_scores_rating\", \"instant_bookable\"]"
   ]
  },
  {
   "cell_type": "markdown",
   "metadata": {},
   "source": [
    "# Run"
   ]
  },
  {
   "cell_type": "code",
   "execution_count": 4,
   "metadata": {},
   "outputs": [],
   "source": [
    "with open(\"data/amsterdam.pkl\", \"rb\") as fp:\n",
    "    datas = pickle.load(fp)"
   ]
  },
  {
   "cell_type": "code",
   "execution_count": 5,
   "metadata": {},
   "outputs": [
    {
     "data": {
      "text/plain": [
       "dict_keys(['y', 'G', 'neigh_names', 'cov'])"
      ]
     },
     "execution_count": 5,
     "metadata": {},
     "output_type": "execute_result"
    }
   ],
   "source": [
    "datas.keys()"
   ]
  },
  {
   "cell_type": "code",
   "execution_count": 6,
   "metadata": {},
   "outputs": [
    {
     "data": {
      "text/plain": [
       "<matplotlib.image.AxesImage at 0x7f8408fa6760>"
      ]
     },
     "execution_count": 6,
     "metadata": {},
     "output_type": "execute_result"
    },
    {
     "data": {
      "image/png": "[encoded data removed]",
      "text/plain": [
       "<Figure size 432x288 with 1 Axes>"
      ]
     },
     "metadata": {
      "needs_background": "light"
     },
     "output_type": "display_data"
    }
   ],
   "source": [
    "plt.imshow(datas[\"G\"])"
   ]
  },
  {
   "cell_type": "code",
   "execution_count": 7,
   "metadata": {},
   "outputs": [
    {
     "data": {
      "text/plain": [
       "17201"
      ]
     },
     "execution_count": 7,
     "metadata": {},
     "output_type": "execute_result"
    }
   ],
   "source": [
    "np.sum([len(x) for x in datas[\"y\"]])"
   ]
  },
  {
   "cell_type": "code",
   "execution_count": 8,
   "metadata": {},
   "outputs": [],
   "source": [
    "cov_small = [\"host_is_superhost\", \"accommodates\",\n",
    "              \"number_of_reviews\", \"review_scores_rating\", \"instant_bookable\"]\n",
    "\n",
    "covariates_by_group = []\n",
    "for i, cov in enumerate(datas[\"cov\"]):      \n",
    "    currDf = cov[cov_small].copy()\n",
    "    if(currDf.isna().sum().sum()):\n",
    "        print(\"Nans in group {0}\".format(i))\n",
    "    \n",
    "    currDf[\"host_is_superhost\"] = currDf[\"host_is_superhost\"].apply(lambda x: int(x == \"t\"))\n",
    "    currDf[\"instant_bookable\"] = currDf[\"instant_bookable\"].apply(lambda x: int(x == \"t\"))\n",
    "    \n",
    "    curr = currDf.values.astype(np.float)\n",
    "    covariates_by_group.append(curr)"
   ]
  },
  {
   "cell_type": "code",
   "execution_count": 9,
   "metadata": {},
   "outputs": [],
   "source": [
    "for i in range(len(datas[\"y\"])):\n",
    "    if len(datas[\"y\"][i]) != len(datas[\"cov\"][i]):\n",
    "        print(\"error in \", i)\n",
    "        print(\"datas: \", len(datas[\"y\"][i]), \" covariates\", covariates_by_group[i].shape[0])"
   ]
  },
  {
   "cell_type": "code",
   "execution_count": 10,
   "metadata": {},
   "outputs": [
    {
     "data": {
      "text/plain": [
       "num_components: 5\n",
       "p0_params {\n",
       "  a: 2.0\n",
       "  b: 2.0\n",
       "  lam_: 0.1\n",
       "}\n",
       "rho_params {\n",
       "  a: 1.0\n",
       "  b: 5.0\n",
       "}\n",
       "sigma_params {\n",
       "  nu: 100.0\n",
       "  identity: true\n",
       "}\n",
       "mtilde_sigmasq: 5.0\n",
       "linreg_params {\n",
       "  prec: 0.1\n",
       "  a: 2.0\n",
       "  b: 2.0\n",
       "}"
      ]
     },
     "execution_count": 10,
     "metadata": {},
     "output_type": "execute_result"
    }
   ],
   "source": [
    "params = SamplerParams()\n",
    "with open(\"spatial_mix/resources/sampler_params.asciipb\", \"r\") as fp:\n",
    "    text_format.Parse(fp.read(), params)\n",
    "    \n",
    "params"
   ]
  },
  {
   "cell_type": "code",
   "execution_count": 11,
   "metadata": {
    "scrolled": false
   },
   "outputs": [
    {
     "name": "stdout",
     "output_type": "stream",
     "text": [
      "num_components: 5\n",
      "p0_params {\n",
      "  a: 2.0\n",
      "  b: 2.0\n",
      "  lam_: 0.1\n",
      "}\n",
      "rho_params {\n",
      "  a: 1.0\n",
      "  b: 5.0\n",
      "}\n",
      "sigma_params {\n",
      "  nu: 100.0\n",
      "  identity: true\n",
      "}\n",
      "mtilde_sigmasq: 5.0\n",
      "linreg_params {\n",
      "  prec: 0.1\n",
      "  a: 2.0\n",
      "  b: 2.0\n",
      "}\n",
      "\n",
      "Burn-in, iter # 200  /  5000\n",
      "Burn-in, iter # 400  /  5000\n",
      "Burn-in, iter # 600  /  5000\n",
      "Burn-in, iter # 800  /  5000\n",
      "Burn-in, iter # 1000  /  5000\n",
      "Burn-in, iter # 1200  /  5000\n",
      "Burn-in, iter # 1400  /  5000\n",
      "Burn-in, iter # 1600  /  5000\n",
      "Burn-in, iter # 1800  /  5000\n",
      "Burn-in, iter # 2000  /  5000\n",
      "Burn-in, iter # 2200  /  5000\n",
      "Burn-in, iter # 2400  /  5000\n",
      "Burn-in, iter # 2600  /  5000\n",
      "Burn-in, iter # 2800  /  5000\n",
      "Burn-in, iter # 3000  /  5000\n",
      "Burn-in, iter # 3200  /  5000\n",
      "Burn-in, iter # 3400  /  5000\n",
      "Burn-in, iter # 3600  /  5000\n",
      "Burn-in, iter # 3800  /  5000\n",
      "Burn-in, iter # 4000  /  5000\n",
      "Burn-in, iter # 4200  /  5000\n",
      "Burn-in, iter # 4400  /  5000\n",
      "Burn-in, iter # 4600  /  5000\n",
      "Burn-in, iter # 4800  /  5000\n",
      "Burn-in, iter # 5000  /  5000\n",
      "Running, iter # 200  /  5000\n",
      "Running, iter # 400  /  5000\n",
      "Running, iter # 600  /  5000\n",
      "Running, iter # 800  /  5000\n",
      "Running, iter # 1000  /  5000\n",
      "Running, iter # 1200  /  5000\n",
      "Running, iter # 1400  /  5000\n",
      "Running, iter # 1600  /  5000\n",
      "Running, iter # 1800  /  5000\n",
      "Running, iter # 2000  /  5000\n",
      "Running, iter # 2200  /  5000\n",
      "Running, iter # 2400  /  5000\n",
      "Running, iter # 2600  /  5000\n",
      "Running, iter # 2800  /  5000\n",
      "Running, iter # 3000  /  5000\n",
      "Running, iter # 3200  /  5000\n",
      "Running, iter # 3400  /  5000\n",
      "Running, iter # 3600  /  5000\n",
      "Running, iter # 3800  /  5000\n",
      "Running, iter # 4000  /  5000\n",
      "Running, iter # 4200  /  5000\n",
      "Running, iter # 4400  /  5000\n",
      "Running, iter # 4600  /  5000\n",
      "Running, iter # 4800  /  5000\n",
      "Running, iter # 5000  /  5000\n"
     ]
    }
   ],
   "source": [
    "chains, time = runSpatialMixtureSampler(\n",
    "    5000, 5000, 5, datas[\"G\"], \n",
    "    \"spatial_mix/resources/sampler_params.asciipb\",\n",
    "    datas[\"y\"], covariates_by_group)\n",
    "\n",
    "# params = SamplerParams()\n",
    "# with open(\"spatial_mix/resources/sampler_params.asciipb\", \"r\") as fp:\n",
    "#     text_format.Parse(fp.read(), params)\n",
    "\n",
    "# chains, time = runDependentMixtureSampler(\n",
    "#     5, 20, 2, datas[\"G\"], \n",
    "#     \"spatial_mix/resources/sampler_params.asciipb\",\n",
    "#     datas[\"y\"], covariates_by_group)"
   ]
  },
  {
   "cell_type": "code",
   "execution_count": 14,
   "metadata": {},
   "outputs": [],
   "source": [
    "eval_dens = None\n",
    "resp = datas[\"y\"]\n",
    "for i in range(len(covariates_by_group)):\n",
    "    curr_dens = eval_mixture_dens(\n",
    "        resp[i], chains, covariates_by_group[i], i)\n",
    "    if eval_dens is None:\n",
    "        eval_dens = curr_dens\n",
    "    else:\n",
    "        eval_dens = np.hstack([eval_dens, curr_dens])"
   ]
  },
  {
   "cell_type": "code",
   "execution_count": 15,
   "metadata": {},
   "outputs": [
    {
     "name": "stdout",
     "output_type": "stream",
     "text": [
      "-92961.59122623995\n",
      "185923.18605217832\n"
     ]
    }
   ],
   "source": [
    "print(lpml(eval_dens))\n",
    "print(waic(eval_dens) * (-2))"
   ]
  },
  {
   "cell_type": "code",
   "execution_count": 20,
   "metadata": {},
   "outputs": [
    {
     "data": {
      "text/plain": [
       "-0.5625209593145899"
      ]
     },
     "execution_count": 20,
     "metadata": {},
     "output_type": "execute_result"
    }
   ],
   "source": [
    "(92441 - 92961) / 92441 * 100"
   ]
  },
  {
   "cell_type": "code",
   "execution_count": null,
   "metadata": {},
   "outputs": [],
   "source": [
    "# writeChains(chains, \"data/amsterdam_chains_dependent_H5_20210303.recordio\")"
   ]
  },
  {
   "cell_type": "markdown",
   "metadata": {},
   "source": [
    "# Posterior Plots"
   ]
  },
  {
   "cell_type": "code",
   "execution_count": 21,
   "metadata": {},
   "outputs": [],
   "source": [
    "import arviz as az"
   ]
  },
  {
   "cell_type": "code",
   "execution_count": 22,
   "metadata": {},
   "outputs": [],
   "source": [
    "chains = loadChains(\"data/amsterdam_chains_standardized_20200605.recordio\")"
   ]
  },
  {
   "cell_type": "code",
   "execution_count": 92,
   "metadata": {},
   "outputs": [],
   "source": [
    "numIters = len(chains)\n",
    "out = []\n",
    "num_components = chains[0].num_components\n",
    "\n",
    "means_chain = np.vstack(\n",
    "    [list(map(lambda x: x.mean, state.atoms)) for state in chains])\n",
    "\n",
    "stdevs_chain = np.vstack(\n",
    "    [list(map(lambda x: x.stdev, state.atoms)) for state in chains])\n",
    "\n",
    "weights_chain = np.vstack(\n",
    "        [state.groupParams[group].weights for state in chains])\n",
    "\n",
    "regressor_chains = np.vstack(\n",
    "    [state.regression_coefficients for state in chains])\n",
    "\n",
    "means = np.einsum(\"ij,kj->ik\", regressor_chains, covariates_by_group[0])[:, np.newaxis, :] + \\\n",
    "    means_chain[:, :, np.newaxis]\n",
    "\n",
    "eval_normals = norm.pdf(y, means, stdevs_chain[:, :, np.newaxis])"
   ]
  },
  {
   "cell_type": "code",
   "execution_count": 93,
   "metadata": {},
   "outputs": [
    {
     "data": {
      "text/plain": [
       "(5000, 5, 91)"
      ]
     },
     "execution_count": 93,
     "metadata": {},
     "output_type": "execute_result"
    }
   ],
   "source": [
    "eval_normals.shape"
   ]
  },
  {
   "cell_type": "code",
   "execution_count": 80,
   "metadata": {},
   "outputs": [
    {
     "data": {
      "text/plain": [
       "(5000, 91)"
      ]
     },
     "execution_count": 80,
     "metadata": {},
     "output_type": "execute_result"
    }
   ],
   "source": [
    "np.einsum(\"ij,kj->ik\", regressor_chains, covariates_by_group[0]).shape"
   ]
  },
  {
   "cell_type": "code",
   "execution_count": 84,
   "metadata": {},
   "outputs": [
    {
     "data": {
      "text/plain": [
       "(5000, 5, 91)"
      ]
     },
     "execution_count": 84,
     "metadata": {},
     "output_type": "execute_result"
    }
   ],
   "source": [
    "means = np.einsum(\"ij,kj->ik\", regressor_chains, covariates_by_group[0])[:, np.newaxis, :] + \\\n",
    "    means_chain[:, :, np.newaxis]\n",
    "means.shape"
   ]
  },
  {
   "cell_type": "code",
   "execution_count": 91,
   "metadata": {},
   "outputs": [
    {
     "name": "stdout",
     "output_type": "stream",
     "text": [
      "109.68423559631327\n",
      "109.68423559631327\n"
     ]
    }
   ],
   "source": [
    "s = 102\n",
    "i = 55\n",
    "h = 1\n",
    "\n",
    "print(means[s, h, i])\n",
    "print(np.dot(regressor_chains[s, :], covariates_by_group[0][i, :]) + means_chain[s, h])"
   ]
  },
  {
   "cell_type": "markdown",
   "metadata": {},
   "source": [
    "## Regression Coefficients"
   ]
  },
  {
   "cell_type": "code",
   "execution_count": 23,
   "metadata": {},
   "outputs": [
    {
     "name": "stderr",
     "output_type": "stream",
     "text": [
      "/home/mario/.local/lib/python3.8/site-packages/arviz/utils.py:653: UserWarning: Keyword argument credible_interval has been deprecated Please replace with hdi_prob\n",
      "  warnings.warn(\n"
     ]
    },
    {
     "data": {
      "image/png": "[encoded data removed]",
      "text/plain": [
       "<Figure size 324x288 with 1 Axes>"
      ]
     },
     "metadata": {
      "needs_background": "light"
     },
     "output_type": "display_data"
    }
   ],
   "source": [
    "# fig, axes = fig, axes = plt.subplots(nrows=1 , ncols=1, figsize=(2.5, 3.5))\n",
    "\n",
    "p_size = len(chains[0].regression_coefficients)\n",
    "regressor_chains = {}\n",
    "# covariates = [\"intercept\"] + covariates\n",
    "for i, name in enumerate(covariates):\n",
    "    regressor_chains[name] = np.array([c.regression_coefficients[i] for c in chains])\n",
    "\n",
    "azChains = az.convert_to_inference_data(regressor_chains)\n",
    "axes = az.plot_forest(azChains, credible_interval=0.95, figsize=(4.5, 4.0))\n",
    "axes[0].axvline(color=\"red\")\n",
    "# plt.savefig(\"images/regression_coefficients_standardized_new.pdf\")\n",
    "plt.show()"
   ]
  },
  {
   "cell_type": "markdown",
   "metadata": {},
   "source": [
    "## Couple of residual densities"
   ]
  },
  {
   "cell_type": "code",
   "execution_count": 24,
   "metadata": {},
   "outputs": [],
   "source": [
    "def samplePredictiveRegression(chains, covariates, group):\n",
    "    niter = len(chains)\n",
    "    out = []\n",
    "    num_comps = chains[0].num_components\n",
    "    \n",
    "    means_chain = np.vstack(\n",
    "        [list(map(lambda x: x.mean, state.atoms)) for state in chains])\n",
    "\n",
    "    stdevs_chain = np.vstack(\n",
    "        [list(map(lambda x: x.stdev, state.atoms)) for state in chains])\n",
    "\n",
    "    regressor_chains = np.vstack(\n",
    "        [state.regression_coefficients for state in chains])\n",
    "\n",
    "    weights_chains = np.vstack(\n",
    "            [state.groupParams[group].weights for state in chains])\n",
    "    \n",
    "    preds = np.zeros(niter)\n",
    "    for i in range(niter):\n",
    "        means = np.dot(covariates, regressor_chains[i, :])\n",
    "        cluster = np.apply_along_axis(\n",
    "            lambda x: np.random.choice(range(num_comps), p=x), -1, \n",
    "            weights_chains[i, :])\n",
    "        errs = norm.rvs(\n",
    "            loc=means_chain[i, cluster], scale=stdevs_chain[i, cluster])\n",
    "        preds[i] = means + errs\n",
    "    \n",
    "    return preds"
   ]
  },
  {
   "cell_type": "code",
   "execution_count": 55,
   "metadata": {},
   "outputs": [],
   "source": [
    "def eval_dep_dens(xgrid, chains, covariates, group):\n",
    "    means_chain = np.vstack(\n",
    "        [list(map(lambda x: x.mean, state.atoms)) for state in chains])\n",
    "\n",
    "    stdevs_chain = np.vstack(\n",
    "        [list(map(lambda x: x.stdev, state.atoms)) for state in chains])\n",
    "\n",
    "    weights_chain = np.vstack(\n",
    "        [state.groupParams[group].weights for state in chains])\n",
    "\n",
    "    regressor_chains = np.vstack(\n",
    "        [state.regression_coefficients for state in chains])\n",
    "    regmeans = np.einsum(\"ij,j->i\", regressor_chains, covariates)\n",
    "    means = regmeans[:, np.newaxis] + means_chain\n",
    "    \n",
    "    \n",
    "    eval_normals = norm.pdf(xgrid[:, np.newaxis, np.newaxis], means[np.newaxis, :, :], \n",
    "                            stdevs_chain[np.newaxis, :, :])\n",
    "    print(\"eval_normals: \", eval_normals.shape)\n",
    "    eval_dens = np.sum(eval_normals * weights_chain[np.newaxis, :, :], axis=-1)\n",
    "    return np.mean(eval_dens, axis=1)"
   ]
  },
  {
   "cell_type": "code",
   "execution_count": 27,
   "metadata": {},
   "outputs": [],
   "source": [
    "import pandas as pd\n",
    "\n",
    "df = pd.read_csv(\"data/amsterdam.csv\")"
   ]
  },
  {
   "cell_type": "code",
   "execution_count": 59,
   "metadata": {},
   "outputs": [
    {
     "name": "stdout",
     "output_type": "stream",
     "text": [
      "eval_normals:  (500, 1000, 5)\n",
      "eval_normals:  (500, 1000, 5)\n",
      "eval_normals:  (500, 1000, 5)\n",
      "eval_normals:  (500, 1000, 5)\n",
      "eval_normals:  (500, 1000, 5)\n",
      "eval_normals:  (500, 1000, 5)\n",
      "eval_normals:  (500, 1000, 5)\n",
      "eval_normals:  (500, 1000, 5)\n",
      "eval_normals:  (500, 1000, 5)\n",
      "eval_normals:  (500, 1000, 5)\n",
      "eval_normals:  (500, 1000, 5)\n",
      "eval_normals:  (500, 1000, 5)\n"
     ]
    },
    {
     "data": {
      "image/png": "[encoded data removed]",
      "text/plain": [
       "<Figure size 720x720 with 4 Axes>"
      ]
     },
     "metadata": {
      "needs_background": "light"
     },
     "output_type": "display_data"
    }
   ],
   "source": [
    "from matplotlib import rc\n",
    "rc('text', usetex=True)\n",
    "plt.rcParams['ytick.labelsize'] = 16\n",
    "plt.rcParams['xtick.labelsize'] = 14\n",
    "\n",
    "fig, axes = plt.subplots(nrows=2 , ncols=2, figsize=(10, 10))\n",
    "axes = axes.flat\n",
    "toplot = [0, 9, 14, 19]\n",
    "\n",
    "\n",
    "quantiles = [0.05, 0.5, 0.95]\n",
    "\n",
    "plettes_by_neigh = [\n",
    "    np.array(sns.color_palette(\"Blues\", 10).as_hex())[np.array([3, 6, 9])],\n",
    "    np.array(sns.light_palette(\"orange\", 10).as_hex())[np.array([3, 6, 9])],\n",
    "    np.array(sns.light_palette(\"green\", 10).as_hex())[np.array([3, 6, 9])],\n",
    "    np.array(sns.light_palette(\"red\", 10).as_hex())[np.array([3, 6, 9])]\n",
    "]\n",
    "\n",
    "chains_basefile = \"data/chains_mu0_{0}_a_{1}_b_{2}_lam{3}.recordio\"\n",
    "\n",
    "mu0 = 0.0\n",
    "a = 0.5\n",
    "b = 2.0\n",
    "lamb = 0.5\n",
    "\n",
    "chainfile = chains_basefile.format(mu0, a, b, lamb)\n",
    "\n",
    "chains = loadChains(chainfile)\n",
    "\n",
    "\n",
    "curr_covs = []\n",
    "for q in quantiles:\n",
    "    bedroom_group = [\n",
    "    np.quantile(df.cov_1.values, q), np.quantile(df.cov_2.values, q),\n",
    "    np.quantile(df.cov_3.values, q)\n",
    "    ]\n",
    "    curr_covs.append(\n",
    "        np.concatenate([[0], bedroom_group, [np.quantile(df.cov_4, 0.5)], \n",
    "                        [np.quantile(df.cov_5, 0.6)], [1]]))\n",
    "\n",
    "xgrid = np.linspace(0, 400, 500)\n",
    "est_dens = []\n",
    "\n",
    "for i in range(4):\n",
    "    g = toplot[i]\n",
    "    plot_data = {}\n",
    "    for k, covs in enumerate(curr_covs):\n",
    "        pred_samples = samplePredictiveRegression(chains, covs, g)\n",
    "        pred_samples = pred_samples[np.where((pred_samples > -50) & (pred_samples < 400))[0]]\n",
    "        plot_data[r\"$q_{%s}$\" % quantiles[k]] = pred_samples\n",
    "        est_dens.append(eval_dep_dens(xgrid, chains, covs, g))\n",
    "        \n",
    "    \n",
    "    az.plot_forest(\n",
    "        plot_data,\n",
    "        kind=\"ridgeplot\",\n",
    "        linewidth=0.1,\n",
    "        combined=False,\n",
    "        ridgeplot_alpha=0.3,\n",
    "        ridgeplot_overlap=5,\n",
    "        colors=plettes_by_neigh[i][2],\n",
    "        ax=axes[i]\n",
    "    )\n",
    "    axes[i].set_xlim(-50, 400)\n",
    "    \n",
    "\n",
    "plt.tight_layout()\n",
    "# plt.savefig(\"images/dens_est_bedrooms_square.pdf\")\n",
    "plt.show()"
   ]
  },
  {
   "cell_type": "code",
   "execution_count": 62,
   "metadata": {},
   "outputs": [
    {
     "name": "stdout",
     "output_type": "stream",
     "text": [
      "0.019739493221563285\n",
      "0.022093505341850585\n",
      "0.06574811183145032\n",
      "0.015080583664561215\n",
      "0.016877428073241753\n",
      "0.05343620466958422\n",
      "0.04780226154350571\n",
      "0.05843814561338989\n",
      "0.26766298841228825\n",
      "0.04856419884233364\n",
      "0.05937473725595257\n",
      "0.2718557881412842\n"
     ]
    }
   ],
   "source": [
    "from scipy.integrate import trapz\n",
    "\n",
    "def gt_200(xgrid, dens):\n",
    "    wh = np.where(xgrid >= 200)\n",
    "    return trapz(dens[wh], xgrid[wh])\n",
    "\n",
    "for d in est_dens:\n",
    "    print(gt_200(xgrid, d))"
   ]
  },
  {
   "cell_type": "code",
   "execution_count": null,
   "metadata": {},
   "outputs": [],
   "source": [
    "plt.rcParams['ytick.labelsize'] = 16\n",
    "plt.rcParams['xtick.labelsize'] = 14\n",
    "fig, axes = plt.subplots(nrows=1 , ncols=1, figsize=(2.5, 3.5))\n",
    "\n",
    "\n",
    "bedroom_group = [\n",
    "    np.quantile(df.cov_1.values, q), np.quantile(df.cov_2.values, q),\n",
    "    np.quantile(df.cov_3.values, q)\n",
    "    ]\n",
    "\n",
    "curr_covs = []\n",
    "for q in [0.5, 0.5, 0.95]:\n",
    "    curr_covs.append(\n",
    "        np.concatenate([[0], bedroom_group, [np.quantile(df.cov_4, 0.5)], \n",
    "                        [np.quantile(df.cov_5, q)], [1]]))\n",
    "\n",
    "    \n",
    "chains_basefile = \"data/chains_mu0_{0}_a_{1}_b_{2}_lam{3}.recordio\"\n",
    "\n",
    "mu0 = 0.0\n",
    "a = 0.5\n",
    "b = 2.0\n",
    "lamb = 1.0\n",
    "\n",
    "chainfile = chains_basefile.format(mu0, a, b, lamb)\n",
    "\n",
    "g = 0\n",
    "# plot_data = {}\n",
    "# for k, covs in enumerate(curr_covs):\n",
    "#     pred_samples = samplePredictiveRegression(chains, covs, g)\n",
    "#     plot_data[r\"$q_{%s}$\" % quantiles[k]] = pred_samples\n",
    "#     sns.kdeplot(pred_samples, color=plettes_by_neigh[g][k])\n",
    "    \n",
    "plot_data = {}\n",
    "for k, covs in enumerate(curr_covs):\n",
    "    pred_samples = samplePredictiveRegression(chains, covs, g)\n",
    "    pred_samples = pred_samples[np.where((pred_samples > -50) & (pred_samples < 400))[0]]\n",
    "    \n",
    "    plot_data[r\"$q_{%s}$\" % quantiles[k]] = pred_samples\n",
    "\n",
    "    \n",
    "az.plot_forest(\n",
    "    plot_data,\n",
    "    kind=\"ridgeplot\",\n",
    "    linewidth=0.1,\n",
    "    combined=False,\n",
    "    ridgeplot_alpha=0.3,\n",
    "    ridgeplot_overlap=5,\n",
    "    colors=plettes_by_neigh[g][2],\n",
    "    ax=axes\n",
    ")\n",
    "    \n",
    "plt.xlim(-50, 400)\n",
    "plt.tight_layout()\n",
    "# plt.savefig(\"images/dens_est_reviews_new2.pdf\")\n",
    "plt.show()"
   ]
  },
  {
   "cell_type": "code",
   "execution_count": null,
   "metadata": {},
   "outputs": [],
   "source": []
  },
  {
   "cell_type": "markdown",
   "metadata": {},
   "source": [
    "## Sigma"
   ]
  },
  {
   "cell_type": "code",
   "execution_count": null,
   "metadata": {},
   "outputs": [],
   "source": [
    "mat = np.triu(np.asarray(chains[i].Sigma.data).reshape(4, 4))\n",
    "mat[np.nonzero(mat)]"
   ]
  },
  {
   "cell_type": "code",
   "execution_count": null,
   "metadata": {},
   "outputs": [],
   "source": [
    "H = chains[0].num_components\n",
    "sigmaChain = np.zeros((len(chains), int((H-1)*(H) / 2)))\n",
    "for i in range(len(chains)):\n",
    "    mat = np.triu(np.asarray(chains[i].Sigma.data).reshape(H-1, H-1))\n",
    "    sigmaChain[i, :] = mat[np.nonzero(mat)]\n",
    "    \n",
    "azChain = az.convert_to_inference_data(sigmaChain[np.newaxis, :])\n",
    "axes = az.plot_trace(azChain)\n",
    "axes = axes.flat\n",
    "\n",
    "axnum = 0\n",
    "for i in range(H - 1):\n",
    "    for j in range(i+1):\n",
    "        axes[axnum].set_title(\"Sigma_[{0}, {1}]\".format(i+1, j+1))\n",
    "        axes[axnum+1].set_title(\"Sigma_[{0}, {1}]\".format(i+1, j+1))\n",
    "        axnum += 2\n",
    "        \n",
    "# plt.savefig(\"images/sigma_dens_trace_amsterdam_standardized.pdf\")\n",
    "plt.show()"
   ]
  },
  {
   "cell_type": "markdown",
   "metadata": {},
   "source": [
    "## rho"
   ]
  },
  {
   "cell_type": "code",
   "execution_count": null,
   "metadata": {},
   "outputs": [],
   "source": [
    "rhoChain = np.array([x.rho for x in chains])\n",
    "    \n",
    "azChain = az.convert_to_inference_data(rhoChain[np.newaxis, :])\n",
    "axes = az.plot_trace(azChain)\n",
    "\n",
    "# plt.savefig(\"images/rho_dens_trace_amsterdam_standardized.pdf\")"
   ]
  },
  {
   "cell_type": "code",
   "execution_count": null,
   "metadata": {},
   "outputs": [],
   "source": [
    "np.mean(rhoChain)"
   ]
  },
  {
   "cell_type": "code",
   "execution_count": null,
   "metadata": {},
   "outputs": [],
   "source": [
    "np.std(rhoChain)"
   ]
  },
  {
   "cell_type": "code",
   "execution_count": null,
   "metadata": {},
   "outputs": [],
   "source": [
    "from scipy.stats import norm\n",
    "\n",
    "def mse(true_y, covs, areas, chains):\n",
    "    niter = len(chains)\n",
    "    preds = np.zeros((niter, len(true_y)))\n",
    "\n",
    "    numGroups = len(chains[0].groupParams)\n",
    "    num_components = chains[0].num_components\n",
    "\n",
    "    means_chain = np.vstack(\n",
    "        [list(map(lambda x: x.mean, state.atoms)) for state in chains])\n",
    "\n",
    "    stdevs_chain = np.vstack(\n",
    "        [list(map(lambda x: x.stdev, state.atoms)) for state in chains])\n",
    "\n",
    "    regressor_chains = np.vstack(\n",
    "        [state.regression_coefficients for state in chains])\n",
    "\n",
    "\n",
    "    weights_chains = []\n",
    "    for g in range(numGroups):\n",
    "        weights_chains.append(np.vstack(\n",
    "            [state.groupParams[g].weights for state in chains]))\n",
    "    weights_chains = np.stack(weights_chains, axis=-1)\n",
    "\n",
    "    for i in range(niter):\n",
    "        means = np.dot(covs, regressor_chains[i, :])\n",
    "        clusters = np.apply_along_axis(lambda x: np.random.choice(\n",
    "            range(10), p=x), -1, weights_chains[i, :, areas])\n",
    "        errs = norm.rvs(\n",
    "            loc=means_chain[i, clusters], scale=stdevs_chain[i, clusters])\n",
    "        preds[i, :] = means + errs\n",
    "\n",
    "    predmean = np.mean(preds, axis=0)\n",
    "    return np.sum((predmean - true_y)) ** 2"
   ]
  },
  {
   "cell_type": "code",
   "execution_count": null,
   "metadata": {},
   "outputs": [],
   "source": [
    "mse(datas[\"y\"][0], covariates_by_group[0], np.ones(len(datas[\"y\"][0]), dtype=np.int32)  * 10, chains)"
   ]
  },
  {
   "cell_type": "code",
   "execution_count": null,
   "metadata": {},
   "outputs": [],
   "source": [
    "mse(datas[\"y\"][0], covariates_by_group[0], np.zeros(len(datas[\"y\"][0]), dtype=np.int32), chains)"
   ]
  },
  {
   "cell_type": "markdown",
   "metadata": {},
   "source": [
    "## Create DataFrame for CrossValidation"
   ]
  },
  {
   "cell_type": "code",
   "execution_count": null,
   "metadata": {},
   "outputs": [],
   "source": [
    "import pandas as pd\n",
    "\n",
    "df = None\n",
    "colnames = [\"group\", \"response\"] + [\"cov_{0}\".format(i) for i in range(covariates_by_group[0].shape[1])]\n",
    "for i in range(len(datas[\"y\"])):\n",
    "    group = np.ones(len(datas[\"y\"][i])) * i\n",
    "    currDf = np.hstack([\n",
    "        group.reshape(-1, 1), \n",
    "        datas[\"y\"][i].reshape(-1, 1), \n",
    "        covariates_by_group[i]])\n",
    "    currDf = pd.DataFrame(currDf, columns=colnames)\n",
    "    if df is None:\n",
    "        df = currDf\n",
    "    else:\n",
    "        df = pd.concat([df, currDf])"
   ]
  },
  {
   "cell_type": "code",
   "execution_count": null,
   "metadata": {},
   "outputs": [],
   "source": [
    "df.to_csv(\"data/amsterdam.csv\")"
   ]
  },
  {
   "cell_type": "code",
   "execution_count": null,
   "metadata": {},
   "outputs": [],
   "source": [
    "np.savetxt(\"data/gmat.txt\", datas[\"G\"])"
   ]
  },
  {
   "cell_type": "markdown",
   "metadata": {},
   "source": [
    "# boxplots"
   ]
  },
  {
   "cell_type": "code",
   "execution_count": 105,
   "metadata": {},
   "outputs": [],
   "source": [
    "import pickle\n",
    "import pandas as pd\n",
    "\n",
    "with open(\"data/cross_val.pickle\", \"rb\") as fp:\n",
    "    cross_val_scores = pickle.load(fp)"
   ]
  },
  {
   "cell_type": "code",
   "execution_count": 106,
   "metadata": {},
   "outputs": [],
   "source": [
    "import matplotlib\n",
    "import matplotlib.colors as mcolors\n",
    "\n",
    "colors = [\n",
    "    matplotlib.colors.to_rgba(mcolors.CSS4_COLORS[\"steelblue\"]),\n",
    "    matplotlib.colors.to_rgba(mcolors.CSS4_COLORS[\"orange\"]), \n",
    "    matplotlib.colors.to_rgba(mcolors.CSS4_COLORS[\"green\"]),\n",
    "    matplotlib.colors.to_rgba(mcolors.CSS4_COLORS[\"red\"])]"
   ]
  },
  {
   "cell_type": "code",
   "execution_count": 107,
   "metadata": {},
   "outputs": [
    {
     "data": {
      "image/png": "[encoded data removed]",
      "text/plain": [
       "<Figure size 432x288 with 1 Axes>"
      ]
     },
     "metadata": {},
     "output_type": "display_data"
    }
   ],
   "source": [
    "import seaborn as sns\n",
    "import matplotlib.pyplot as plt\n",
    "\n",
    "cv_df = pd.DataFrame(cross_val_scores)\n",
    "cv_df = pd.melt(cv_df)\n",
    "cv_df.columns = [\"H\", \"MSE\"]\n",
    "\n",
    "sns.set(font_scale=1.2)\n",
    "sns.set_style(\"whitegrid\")\n",
    "sns.boxplot(x=\"H\", y=\"MSE\", data=cv_df, palette=colors)\n",
    "plt.tight_layout()\n",
    "# plt.savefig(\"mse_boxplots.pdf\")"
   ]
  },
  {
   "cell_type": "code",
   "execution_count": 116,
   "metadata": {},
   "outputs": [
    {
     "name": "stdout",
     "output_type": "stream",
     "text": [
      "5477.514261331127 956.1968323165464\n"
     ]
    }
   ],
   "source": [
    "H=15\n",
    "vals = cv_df[cv_df[\"H\"] == H].MSE.values\n",
    "print(np.mean(vals), np.std(vals))"
   ]
  },
  {
   "cell_type": "code",
   "execution_count": 2,
   "metadata": {},
   "outputs": [
    {
     "data": {
      "text/plain": [
       "-3.333333333333333"
      ]
     },
     "execution_count": 2,
     "metadata": {},
     "output_type": "execute_result"
    }
   ],
   "source": [
    "-5  +10 / 6"
   ]
  }
 ],
 "metadata": {
  "kernelspec": {
   "display_name": "Python 3",
   "language": "python",
   "name": "python3"
  },
  "language_info": {
   "codemirror_mode": {
    "name": "ipython",
    "version": 3
   },
   "file_extension": ".py",
   "mimetype": "text/x-python",
   "name": "python",
   "nbconvert_exporter": "python",
   "pygments_lexer": "ipython3",
   "version": "3.8.0"
  }
 },
 "nbformat": 4,
 "nbformat_minor": 4
}

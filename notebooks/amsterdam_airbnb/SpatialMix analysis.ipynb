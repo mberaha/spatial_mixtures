{
 "cells": [
  {
   "cell_type": "code",
   "execution_count": 1,
   "metadata": {},
   "outputs": [
    {
     "data": {
      "text/plain": [
       "'/home/mario/PhD/spatial_lda'"
      ]
     },
     "execution_count": 1,
     "metadata": {},
     "output_type": "execute_result"
    }
   ],
   "source": [
    "import os\n",
    "\n",
    "os.chdir(\"../..\")\n",
    "os.getcwd()"
   ]
  },
  {
   "cell_type": "code",
   "execution_count": 2,
   "metadata": {},
   "outputs": [],
   "source": [
    "import pickle\n",
    "import numpy as np\n",
    "import pandas as pd\n",
    "import matplotlib.pyplot as plt\n",
    "\n",
    "import subprocess\n",
    "import pymc3 as pm\n",
    "import seaborn as sns\n",
    "\n",
    "from spatial_mix.utils import *\n",
    "from spatial_mix.protos.py.univariate_mixture_state_pb2 import UnivariateState, UnivariateMixtureState, HdpState\n",
    "\n",
    "current_palette = sns.color_palette()"
   ]
  },
  {
   "cell_type": "code",
   "execution_count": 3,
   "metadata": {},
   "outputs": [],
   "source": [
    "covariates = [\"host_is_superhost\", \"accommodates\", \"bathrooms\", \"bedrooms\", \n",
    "              \"number_of_reviews\", \"review_scores_rating\", \"instant_bookable\"]"
   ]
  },
  {
   "cell_type": "markdown",
   "metadata": {},
   "source": [
    "# Run"
   ]
  },
  {
   "cell_type": "code",
   "execution_count": 4,
   "metadata": {},
   "outputs": [],
   "source": [
    "with open(\"data/amsterdam.pkl\", \"rb\") as fp:\n",
    "    datas = pickle.load(fp)"
   ]
  },
  {
   "cell_type": "code",
   "execution_count": 5,
   "metadata": {},
   "outputs": [
    {
     "data": {
      "text/plain": [
       "dict_keys(['y', 'G', 'neigh_names', 'cov'])"
      ]
     },
     "execution_count": 5,
     "metadata": {},
     "output_type": "execute_result"
    }
   ],
   "source": [
    "datas.keys()"
   ]
  },
  {
   "cell_type": "code",
   "execution_count": 6,
   "metadata": {},
   "outputs": [
    {
     "data": {
      "text/plain": [
       "<matplotlib.image.AxesImage at 0x7f4a1cecd040>"
      ]
     },
     "execution_count": 6,
     "metadata": {},
     "output_type": "execute_result"
    },
    {
     "data": {
      "image/png": "[encoded data removed]",
      "text/plain": [
       "<Figure size 432x288 with 1 Axes>"
      ]
     },
     "metadata": {
      "needs_background": "light"
     },
     "output_type": "display_data"
    }
   ],
   "source": [
    "plt.imshow(datas[\"G\"])"
   ]
  },
  {
   "cell_type": "code",
   "execution_count": 7,
   "metadata": {},
   "outputs": [],
   "source": [
    "covariates_by_group = []\n",
    "for i, cov in enumerate(datas[\"cov\"]):      \n",
    "    currDf = cov[covariates].copy()\n",
    "    if(currDf.isna().sum().sum()):\n",
    "        print(\"Nans in group {0}\".format(i))\n",
    "    \n",
    "    currDf[\"host_is_superhost\"] = currDf[\"host_is_superhost\"].apply(lambda x: int(x == \"t\"))\n",
    "    currDf[\"instant_bookable\"] = currDf[\"instant_bookable\"].apply(lambda x: int(x == \"t\"))\n",
    "    \n",
    "    curr = currDf.values.astype(np.float)\n",
    "    covariates_by_group.append(curr)"
   ]
  },
  {
   "cell_type": "code",
   "execution_count": 8,
   "metadata": {},
   "outputs": [],
   "source": [
    "for i in range(len(datas[\"y\"])):\n",
    "    if len(datas[\"y\"][i]) != len(datas[\"cov\"][i]):\n",
    "        print(\"error in \", i)\n",
    "        print(\"datas: \", len(datas[\"y\"][i]), \" covariates\", covariates_by_group[i].shape[0])"
   ]
  },
  {
   "cell_type": "code",
   "execution_count": 9,
   "metadata": {
    "scrolled": true
   },
   "outputs": [
    {
     "name": "stdout",
     "output_type": "stream",
     "text": [
      "Burn-in, iter # 200  /  5000\n",
      "Burn-in, iter # 400  /  5000\n",
      "Burn-in, iter # 600  /  5000\n",
      "Burn-in, iter # 800  /  5000\n",
      "Burn-in, iter # 1000  /  5000\n",
      "Burn-in, iter # 1200  /  5000\n",
      "Burn-in, iter # 1400  /  5000\n",
      "Burn-in, iter # 1600  /  5000\n",
      "Burn-in, iter # 1800  /  5000\n",
      "Burn-in, iter # 2000  /  5000\n",
      "Burn-in, iter # 2200  /  5000\n",
      "Burn-in, iter # 2400  /  5000\n",
      "Burn-in, iter # 2600  /  5000\n",
      "Burn-in, iter # 2800  /  5000\n",
      "Burn-in, iter # 3000  /  5000\n",
      "Burn-in, iter # 3200  /  5000\n",
      "Burn-in, iter # 3400  /  5000\n",
      "Burn-in, iter # 3600  /  5000\n",
      "Burn-in, iter # 3800  /  5000\n",
      "Burn-in, iter # 4000  /  5000\n",
      "Burn-in, iter # 4200  /  5000\n",
      "Burn-in, iter # 4400  /  5000\n",
      "Burn-in, iter # 4600  /  5000\n",
      "Burn-in, iter # 4800  /  5000\n",
      "Burn-in, iter # 5000  /  5000\n",
      "Running, iter # 200  /  10000\n",
      "Running, iter # 400  /  10000\n",
      "Running, iter # 600  /  10000\n",
      "Running, iter # 800  /  10000\n",
      "Running, iter # 1000  /  10000\n",
      "Running, iter # 1200  /  10000\n",
      "Running, iter # 1400  /  10000\n",
      "Running, iter # 1600  /  10000\n",
      "Running, iter # 1800  /  10000\n",
      "Running, iter # 2000  /  10000\n",
      "Running, iter # 2200  /  10000\n",
      "Running, iter # 2400  /  10000\n",
      "Running, iter # 2600  /  10000\n",
      "Running, iter # 2800  /  10000\n",
      "Running, iter # 3000  /  10000\n",
      "Running, iter # 3200  /  10000\n",
      "Running, iter # 3400  /  10000\n",
      "Running, iter # 3600  /  10000\n",
      "Running, iter # 3800  /  10000\n",
      "Running, iter # 4000  /  10000\n",
      "Running, iter # 4200  /  10000\n",
      "Running, iter # 4400  /  10000\n",
      "Running, iter # 4600  /  10000\n",
      "Running, iter # 4800  /  10000\n",
      "Running, iter # 5000  /  10000\n",
      "Running, iter # 5200  /  10000\n",
      "Running, iter # 5400  /  10000\n",
      "Running, iter # 5600  /  10000\n",
      "Running, iter # 5800  /  10000\n",
      "Running, iter # 6000  /  10000\n",
      "Running, iter # 6200  /  10000\n",
      "Running, iter # 6400  /  10000\n",
      "Running, iter # 6600  /  10000\n",
      "Running, iter # 6800  /  10000\n",
      "Running, iter # 7000  /  10000\n",
      "Running, iter # 7200  /  10000\n",
      "Running, iter # 7400  /  10000\n",
      "Running, iter # 7600  /  10000\n",
      "Running, iter # 7800  /  10000\n",
      "Running, iter # 8000  /  10000\n",
      "Running, iter # 8200  /  10000\n",
      "Running, iter # 8400  /  10000\n",
      "Running, iter # 8600  /  10000\n",
      "Running, iter # 8800  /  10000\n",
      "Running, iter # 9000  /  10000\n",
      "Running, iter # 9200  /  10000\n",
      "Running, iter # 9400  /  10000\n",
      "Running, iter # 9600  /  10000\n",
      "Running, iter # 9800  /  10000\n",
      "Running, iter # 10000  /  10000\n"
     ]
    }
   ],
   "source": [
    "chains, time = runSpatialMixtureSampler(\n",
    "    5000, 10000, 2, datas[\"G\"], \n",
    "    \"spatial_mix/resources/sampler_params.asciipb\",\n",
    "    datas[\"y\"], covariates_by_group)"
   ]
  },
  {
   "cell_type": "code",
   "execution_count": 10,
   "metadata": {},
   "outputs": [],
   "source": [
    "writeChains(chains, \"data/amsterdam_chains_standardized_20200605.recordio\")"
   ]
  },
  {
   "cell_type": "markdown",
   "metadata": {},
   "source": [
    "# Posterior Plots"
   ]
  },
  {
   "cell_type": "code",
   "execution_count": 11,
   "metadata": {},
   "outputs": [],
   "source": [
    "import arviz as az"
   ]
  },
  {
   "cell_type": "code",
   "execution_count": 12,
   "metadata": {},
   "outputs": [],
   "source": [
    "# chains = loadChains(\"data/amsterdam_serialized_chains_standardized_05032020.recordio\")"
   ]
  },
  {
   "cell_type": "markdown",
   "metadata": {},
   "source": [
    "## Regression Coefficients"
   ]
  },
  {
   "cell_type": "code",
   "execution_count": 13,
   "metadata": {},
   "outputs": [
    {
     "data": {
      "image/png": "[encoded data removed]",
      "text/plain": [
       "<Figure size 360x360 with 1 Axes>"
      ]
     },
     "metadata": {
      "needs_background": "light"
     },
     "output_type": "display_data"
    }
   ],
   "source": [
    "p_size = len(chains[0].regression_coefficients)\n",
    "regressor_chains = {}\n",
    "# covariates = [\"intercept\"] + covariates\n",
    "for i, name in enumerate(covariates):\n",
    "    regressor_chains[name] = np.array([c.regression_coefficients[i] for c in chains])\n",
    "\n",
    "azChains = az.convert_to_inference_data(regressor_chains)\n",
    "axes = az.plot_forest(azChains, credible_interval=0.95, figsize=(5, 5))\n",
    "axes[0].axvline(color=\"red\")\n",
    "# plt.savefig(\"images/regression_coefficients_standardized.pdf\")\n",
    "plt.show()"
   ]
  },
  {
   "cell_type": "markdown",
   "metadata": {},
   "source": [
    "## Couple of residual densities"
   ]
  },
  {
   "cell_type": "code",
   "execution_count": 14,
   "metadata": {},
   "outputs": [],
   "source": [
    "def samplePredictiveRegression(chains, covariates, group):\n",
    "    niter = len(chains)\n",
    "    out = []\n",
    "    num_comps = chains[0].num_components\n",
    "    \n",
    "    means_chain = np.vstack(\n",
    "        [list(map(lambda x: x.mean, state.atoms)) for state in chains])\n",
    "\n",
    "    stdevs_chain = np.vstack(\n",
    "        [list(map(lambda x: x.stdev, state.atoms)) for state in chains])\n",
    "\n",
    "    regressor_chains = np.vstack(\n",
    "        [state.regression_coefficients for state in chains])\n",
    "\n",
    "    weights_chains = np.vstack(\n",
    "            [state.groupParams[group].weights for state in chains])\n",
    "    \n",
    "    preds = np.zeros(niter)\n",
    "    for i in range(niter):\n",
    "        means = np.dot(covariates, regressor_chains[i, :])\n",
    "        cluster = np.apply_along_axis(\n",
    "            lambda x: np.random.choice(range(num_comps), p=x), -1, \n",
    "            weights_chains[i, :])\n",
    "        errs = norm.rvs(\n",
    "            loc=means_chain[i, cluster], scale=stdevs_chain[i, cluster])\n",
    "        preds[i] = means + errs\n",
    "    \n",
    "    return preds"
   ]
  },
  {
   "cell_type": "code",
   "execution_count": 15,
   "metadata": {},
   "outputs": [],
   "source": [
    "import pandas as pd\n",
    "\n",
    "df = pd.read_csv(\"data/amsterdam.csv\")"
   ]
  },
  {
   "cell_type": "code",
   "execution_count": 16,
   "metadata": {},
   "outputs": [
    {
     "ename": "KeyboardInterrupt",
     "evalue": "",
     "output_type": "error",
     "traceback": [
      "\u001b[0;31m---------------------------------------------------------------------------\u001b[0m",
      "\u001b[0;31mKeyboardInterrupt\u001b[0m                         Traceback (most recent call last)",
      "\u001b[0;32m<ipython-input-16-193f89d61723>\u001b[0m in \u001b[0;36m<module>\u001b[0;34m\u001b[0m\n\u001b[1;32m     26\u001b[0m     \u001b[0mg\u001b[0m \u001b[0;34m=\u001b[0m \u001b[0mtoplot\u001b[0m\u001b[0;34m[\u001b[0m\u001b[0mi\u001b[0m\u001b[0;34m]\u001b[0m\u001b[0;34m\u001b[0m\u001b[0;34m\u001b[0m\u001b[0m\n\u001b[1;32m     27\u001b[0m     \u001b[0;32mfor\u001b[0m \u001b[0mk\u001b[0m\u001b[0;34m,\u001b[0m \u001b[0mcovs\u001b[0m \u001b[0;32min\u001b[0m \u001b[0menumerate\u001b[0m\u001b[0;34m(\u001b[0m\u001b[0mcurr_covs\u001b[0m\u001b[0;34m)\u001b[0m\u001b[0;34m:\u001b[0m\u001b[0;34m\u001b[0m\u001b[0;34m\u001b[0m\u001b[0m\n\u001b[0;32m---> 28\u001b[0;31m         \u001b[0mpred_samples\u001b[0m \u001b[0;34m=\u001b[0m \u001b[0msamplePredictiveRegression\u001b[0m\u001b[0;34m(\u001b[0m\u001b[0mchains\u001b[0m\u001b[0;34m,\u001b[0m \u001b[0mcovs\u001b[0m\u001b[0;34m,\u001b[0m \u001b[0mg\u001b[0m\u001b[0;34m)\u001b[0m\u001b[0;34m\u001b[0m\u001b[0;34m\u001b[0m\u001b[0m\n\u001b[0m\u001b[1;32m     29\u001b[0m         \u001b[0msns\u001b[0m\u001b[0;34m.\u001b[0m\u001b[0mkdeplot\u001b[0m\u001b[0;34m(\u001b[0m\u001b[0mpred_samples\u001b[0m\u001b[0;34m,\u001b[0m \u001b[0max\u001b[0m\u001b[0;34m=\u001b[0m\u001b[0maxes\u001b[0m\u001b[0;34m[\u001b[0m\u001b[0mi\u001b[0m\u001b[0;34m]\u001b[0m\u001b[0;34m,\u001b[0m \u001b[0mcolor\u001b[0m\u001b[0;34m=\u001b[0m\u001b[0mplettes_by_neigh\u001b[0m\u001b[0;34m[\u001b[0m\u001b[0mi\u001b[0m\u001b[0;34m]\u001b[0m\u001b[0;34m[\u001b[0m\u001b[0mk\u001b[0m\u001b[0;34m]\u001b[0m\u001b[0;34m)\u001b[0m\u001b[0;34m\u001b[0m\u001b[0;34m\u001b[0m\u001b[0m\n\u001b[1;32m     30\u001b[0m \u001b[0;34m\u001b[0m\u001b[0m\n",
      "\u001b[0;32m<ipython-input-14-8ac6c6628171>\u001b[0m in \u001b[0;36msamplePredictiveRegression\u001b[0;34m(chains, covariates, group)\u001b[0m\n\u001b[1;32m     22\u001b[0m             \u001b[0;32mlambda\u001b[0m \u001b[0mx\u001b[0m\u001b[0;34m:\u001b[0m \u001b[0mnp\u001b[0m\u001b[0;34m.\u001b[0m\u001b[0mrandom\u001b[0m\u001b[0;34m.\u001b[0m\u001b[0mchoice\u001b[0m\u001b[0;34m(\u001b[0m\u001b[0mrange\u001b[0m\u001b[0;34m(\u001b[0m\u001b[0mnum_comps\u001b[0m\u001b[0;34m)\u001b[0m\u001b[0;34m,\u001b[0m \u001b[0mp\u001b[0m\u001b[0;34m=\u001b[0m\u001b[0mx\u001b[0m\u001b[0;34m)\u001b[0m\u001b[0;34m,\u001b[0m \u001b[0;34m-\u001b[0m\u001b[0;36m1\u001b[0m\u001b[0;34m,\u001b[0m\u001b[0;34m\u001b[0m\u001b[0;34m\u001b[0m\u001b[0m\n\u001b[1;32m     23\u001b[0m             weights_chains[i, :])\n\u001b[0;32m---> 24\u001b[0;31m         errs = norm.rvs(\n\u001b[0m\u001b[1;32m     25\u001b[0m             loc=means_chain[i, cluster], scale=stdevs_chain[i, cluster])\n\u001b[1;32m     26\u001b[0m         \u001b[0mpreds\u001b[0m\u001b[0;34m[\u001b[0m\u001b[0mi\u001b[0m\u001b[0;34m]\u001b[0m \u001b[0;34m=\u001b[0m \u001b[0mmeans\u001b[0m \u001b[0;34m+\u001b[0m \u001b[0merrs\u001b[0m\u001b[0;34m\u001b[0m\u001b[0;34m\u001b[0m\u001b[0m\n",
      "\u001b[0;32m~/.local/lib/python3.8/site-packages/scipy/stats/_distn_infrastructure.py\u001b[0m in \u001b[0;36mrvs\u001b[0;34m(self, *args, **kwds)\u001b[0m\n\u001b[1;32m    961\u001b[0m         \u001b[0mdiscrete\u001b[0m \u001b[0;34m=\u001b[0m \u001b[0mkwds\u001b[0m\u001b[0;34m.\u001b[0m\u001b[0mpop\u001b[0m\u001b[0;34m(\u001b[0m\u001b[0;34m'discrete'\u001b[0m\u001b[0;34m,\u001b[0m \u001b[0;32mNone\u001b[0m\u001b[0;34m)\u001b[0m\u001b[0;34m\u001b[0m\u001b[0;34m\u001b[0m\u001b[0m\n\u001b[1;32m    962\u001b[0m         \u001b[0mrndm\u001b[0m \u001b[0;34m=\u001b[0m \u001b[0mkwds\u001b[0m\u001b[0;34m.\u001b[0m\u001b[0mpop\u001b[0m\u001b[0;34m(\u001b[0m\u001b[0;34m'random_state'\u001b[0m\u001b[0;34m,\u001b[0m \u001b[0;32mNone\u001b[0m\u001b[0;34m)\u001b[0m\u001b[0;34m\u001b[0m\u001b[0;34m\u001b[0m\u001b[0m\n\u001b[0;32m--> 963\u001b[0;31m         \u001b[0margs\u001b[0m\u001b[0;34m,\u001b[0m \u001b[0mloc\u001b[0m\u001b[0;34m,\u001b[0m \u001b[0mscale\u001b[0m\u001b[0;34m,\u001b[0m \u001b[0msize\u001b[0m \u001b[0;34m=\u001b[0m \u001b[0mself\u001b[0m\u001b[0;34m.\u001b[0m\u001b[0m_parse_args_rvs\u001b[0m\u001b[0;34m(\u001b[0m\u001b[0;34m*\u001b[0m\u001b[0margs\u001b[0m\u001b[0;34m,\u001b[0m \u001b[0;34m**\u001b[0m\u001b[0mkwds\u001b[0m\u001b[0;34m)\u001b[0m\u001b[0;34m\u001b[0m\u001b[0;34m\u001b[0m\u001b[0m\n\u001b[0m\u001b[1;32m    964\u001b[0m         \u001b[0mcond\u001b[0m \u001b[0;34m=\u001b[0m \u001b[0mlogical_and\u001b[0m\u001b[0;34m(\u001b[0m\u001b[0mself\u001b[0m\u001b[0;34m.\u001b[0m\u001b[0m_argcheck\u001b[0m\u001b[0;34m(\u001b[0m\u001b[0;34m*\u001b[0m\u001b[0margs\u001b[0m\u001b[0;34m)\u001b[0m\u001b[0;34m,\u001b[0m \u001b[0;34m(\u001b[0m\u001b[0mscale\u001b[0m \u001b[0;34m>=\u001b[0m \u001b[0;36m0\u001b[0m\u001b[0;34m)\u001b[0m\u001b[0;34m)\u001b[0m\u001b[0;34m\u001b[0m\u001b[0;34m\u001b[0m\u001b[0m\n\u001b[1;32m    965\u001b[0m         \u001b[0;32mif\u001b[0m \u001b[0;32mnot\u001b[0m \u001b[0mnp\u001b[0m\u001b[0;34m.\u001b[0m\u001b[0mall\u001b[0m\u001b[0;34m(\u001b[0m\u001b[0mcond\u001b[0m\u001b[0;34m)\u001b[0m\u001b[0;34m:\u001b[0m\u001b[0;34m\u001b[0m\u001b[0;34m\u001b[0m\u001b[0m\n",
      "\u001b[0;32m<string>\u001b[0m in \u001b[0;36m_parse_args_rvs\u001b[0;34m(self, loc, scale, size)\u001b[0m\n",
      "\u001b[0;32m~/.local/lib/python3.8/site-packages/scipy/stats/_distn_infrastructure.py\u001b[0m in \u001b[0;36m_argcheck_rvs\u001b[0;34m(self, *args, **kwargs)\u001b[0m\n\u001b[1;32m    800\u001b[0m         \u001b[0;31m# The only keyword argument expected is 'size'.\u001b[0m\u001b[0;34m\u001b[0m\u001b[0;34m\u001b[0m\u001b[0;34m\u001b[0m\u001b[0m\n\u001b[1;32m    801\u001b[0m         \u001b[0msize\u001b[0m \u001b[0;34m=\u001b[0m \u001b[0mkwargs\u001b[0m\u001b[0;34m.\u001b[0m\u001b[0mget\u001b[0m\u001b[0;34m(\u001b[0m\u001b[0;34m'size'\u001b[0m\u001b[0;34m,\u001b[0m \u001b[0;32mNone\u001b[0m\u001b[0;34m)\u001b[0m\u001b[0;34m\u001b[0m\u001b[0;34m\u001b[0m\u001b[0m\n\u001b[0;32m--> 802\u001b[0;31m         \u001b[0mall_bcast\u001b[0m \u001b[0;34m=\u001b[0m \u001b[0mnp\u001b[0m\u001b[0;34m.\u001b[0m\u001b[0mbroadcast_arrays\u001b[0m\u001b[0;34m(\u001b[0m\u001b[0;34m*\u001b[0m\u001b[0margs\u001b[0m\u001b[0;34m)\u001b[0m\u001b[0;34m\u001b[0m\u001b[0;34m\u001b[0m\u001b[0m\n\u001b[0m\u001b[1;32m    803\u001b[0m \u001b[0;34m\u001b[0m\u001b[0m\n\u001b[1;32m    804\u001b[0m         \u001b[0;32mdef\u001b[0m \u001b[0msqueeze_left\u001b[0m\u001b[0;34m(\u001b[0m\u001b[0ma\u001b[0m\u001b[0;34m)\u001b[0m\u001b[0;34m:\u001b[0m\u001b[0;34m\u001b[0m\u001b[0;34m\u001b[0m\u001b[0m\n",
      "\u001b[0;32m<__array_function__ internals>\u001b[0m in \u001b[0;36mbroadcast_arrays\u001b[0;34m(*args, **kwargs)\u001b[0m\n",
      "\u001b[0;32m~/.local/lib/python3.8/site-packages/numpy/lib/stride_tricks.py\u001b[0m in \u001b[0;36mbroadcast_arrays\u001b[0;34m(*args, **kwargs)\u001b[0m\n\u001b[1;32m    204\u001b[0m \u001b[0;34m\u001b[0m\u001b[0m\n\u001b[1;32m    205\u001b[0m \u001b[0;34m\u001b[0m\u001b[0m\n\u001b[0;32m--> 206\u001b[0;31m \u001b[0;34m@\u001b[0m\u001b[0marray_function_dispatch\u001b[0m\u001b[0;34m(\u001b[0m\u001b[0m_broadcast_arrays_dispatcher\u001b[0m\u001b[0;34m,\u001b[0m \u001b[0mmodule\u001b[0m\u001b[0;34m=\u001b[0m\u001b[0;34m'numpy'\u001b[0m\u001b[0;34m)\u001b[0m\u001b[0;34m\u001b[0m\u001b[0;34m\u001b[0m\u001b[0m\n\u001b[0m\u001b[1;32m    207\u001b[0m \u001b[0;32mdef\u001b[0m \u001b[0mbroadcast_arrays\u001b[0m\u001b[0;34m(\u001b[0m\u001b[0;34m*\u001b[0m\u001b[0margs\u001b[0m\u001b[0;34m,\u001b[0m \u001b[0;34m**\u001b[0m\u001b[0mkwargs\u001b[0m\u001b[0;34m)\u001b[0m\u001b[0;34m:\u001b[0m\u001b[0;34m\u001b[0m\u001b[0;34m\u001b[0m\u001b[0m\n\u001b[1;32m    208\u001b[0m     \"\"\"\n",
      "\u001b[0;31mKeyboardInterrupt\u001b[0m: "
     ]
    },
    {
     "data": {
      "image/png": "[encoded data removed]",
      "text/plain": [
       "<Figure size 720x252 with 4 Axes>"
      ]
     },
     "metadata": {
      "needs_background": "light"
     },
     "output_type": "display_data"
    }
   ],
   "source": [
    "fig, axes = plt.subplots(nrows=1 , ncols=4, figsize=(10, 3.5))\n",
    "toplot = [0, 9, 14, 19]\n",
    "\n",
    "\n",
    "quantiles = [0.25, 0.5, 0.75]\n",
    "\n",
    "plettes_by_neigh = [\n",
    "    np.array(sns.color_palette(\"Blues\", 10))[np.array([3, 6, 9])],\n",
    "    np.array(sns.light_palette(\"orange\", 10))[np.array([3, 6, 9])],\n",
    "    np.array(sns.light_palette(\"green\", 10))[np.array([3, 6, 9])],\n",
    "    np.array(sns.light_palette(\"red\", 10))[np.array([3, 6, 9])]\n",
    "]\n",
    "\n",
    "\n",
    "curr_covs = []\n",
    "for q in [0.25, 0.5, 0.75]:\n",
    "    bedroom_group = [\n",
    "    np.quantile(df.cov_1.values, q), np.quantile(df.cov_2.values, q),\n",
    "    np.quantile(df.cov_3.values, q)\n",
    "    ]\n",
    "    curr_covs.append(\n",
    "        np.concatenate([[0], bedroom_group, [np.quantile(df.cov_4, 0.5)], \n",
    "                        [np.quantile(df.cov_5, 0.6)], [1]]))\n",
    "\n",
    "for i in range(4):\n",
    "    g = toplot[i]\n",
    "    for k, covs in enumerate(curr_covs):\n",
    "        pred_samples = samplePredictiveRegression(chains, covs, g)\n",
    "        sns.kdeplot(pred_samples, ax=axes[i], color=plettes_by_neigh[i][k])\n",
    "\n",
    "    axes[i].set_xlim(-50, 400)\n",
    "    \n",
    "\n",
    "plt.tight_layout()\n",
    "# plt.savefig(\"images/dens_est_bedrooms.pdf\")\n",
    "plt.show()"
   ]
  },
  {
   "cell_type": "code",
   "execution_count": null,
   "metadata": {},
   "outputs": [],
   "source": [
    "fig, axes = plt.subplots(nrows=1 , ncols=1, figsize=(2.5, 3.5))\n",
    "\n",
    "\n",
    "bedroom_group = [\n",
    "    np.quantile(df.cov_1.values, q), np.quantile(df.cov_2.values, q),\n",
    "    np.quantile(df.cov_3.values, q)\n",
    "    ]\n",
    "\n",
    "curr_covs = []\n",
    "for q in [0.25, 0.5, 0.75]:\n",
    "    curr_covs.append(\n",
    "        np.concatenate([[0], bedroom_group, [np.quantile(df.cov_4, 0.5)], \n",
    "                        [np.quantile(df.cov_5, q)], [1]]))\n",
    "\n",
    "\n",
    "g = 0\n",
    "for k, covs in enumerate(curr_covs):\n",
    "    pred_samples = samplePredictiveRegression(chains, covs, g)\n",
    "    sns.kdeplot(pred_samples, color=plettes_by_neigh[g][k])\n",
    "    \n",
    "plt.xlim(-50, 400)\n",
    "plt.tight_layout()\n",
    "# plt.savefig(\"images/dens_est_reviews.pdf\")\n",
    "plt.show()"
   ]
  },
  {
   "cell_type": "markdown",
   "metadata": {},
   "source": [
    "## Sigma"
   ]
  },
  {
   "cell_type": "code",
   "execution_count": null,
   "metadata": {},
   "outputs": [],
   "source": [
    "mat = np.triu(np.asarray(chains[i].Sigma.data).reshape(4, 4))\n",
    "mat[np.nonzero(mat)]"
   ]
  },
  {
   "cell_type": "code",
   "execution_count": null,
   "metadata": {},
   "outputs": [],
   "source": [
    "H = chains[0].num_components\n",
    "sigmaChain = np.zeros((len(chains), int((H-1)*(H) / 2)))\n",
    "for i in range(len(chains)):\n",
    "    mat = np.triu(np.asarray(chains[i].Sigma.data).reshape(H-1, H-1))\n",
    "    sigmaChain[i, :] = mat[np.nonzero(mat)]\n",
    "    \n",
    "azChain = az.convert_to_inference_data(sigmaChain[np.newaxis, :])\n",
    "axes = az.plot_trace(azChain)\n",
    "axes = axes.flat\n",
    "\n",
    "axnum = 0\n",
    "for i in range(H - 1):\n",
    "    for j in range(i+1):\n",
    "        axes[axnum].set_title(\"Sigma_[{0}, {1}]\".format(i+1, j+1))\n",
    "        axes[axnum+1].set_title(\"Sigma_[{0}, {1}]\".format(i+1, j+1))\n",
    "        axnum += 2\n",
    "        \n",
    "# plt.savefig(\"images/sigma_dens_trace_amsterdam_standardized.pdf\")\n",
    "plt.show()"
   ]
  },
  {
   "cell_type": "markdown",
   "metadata": {},
   "source": [
    "## rho"
   ]
  },
  {
   "cell_type": "code",
   "execution_count": 17,
   "metadata": {},
   "outputs": [
    {
     "data": {
      "image/png": "[encoded data removed]",
      "text/plain": [
       "<Figure size 864x144 with 2 Axes>"
      ]
     },
     "metadata": {
      "needs_background": "light"
     },
     "output_type": "display_data"
    }
   ],
   "source": [
    "rhoChain = np.array([x.rho for x in chains])\n",
    "    \n",
    "azChain = az.convert_to_inference_data(rhoChain[np.newaxis, :])\n",
    "axes = az.plot_trace(azChain)\n",
    "\n",
    "# plt.savefig(\"images/rho_dens_trace_amsterdam_standardized.pdf\")"
   ]
  },
  {
   "cell_type": "code",
   "execution_count": 18,
   "metadata": {},
   "outputs": [
    {
     "data": {
      "text/plain": [
       "0.993047279564364"
      ]
     },
     "execution_count": 18,
     "metadata": {},
     "output_type": "execute_result"
    }
   ],
   "source": [
    "np.mean(rhoChain)"
   ]
  },
  {
   "cell_type": "code",
   "execution_count": 19,
   "metadata": {},
   "outputs": [
    {
     "data": {
      "text/plain": [
       "0.0024894247931122513"
      ]
     },
     "execution_count": 19,
     "metadata": {},
     "output_type": "execute_result"
    }
   ],
   "source": [
    "np.std(rhoChain)"
   ]
  },
  {
   "cell_type": "code",
   "execution_count": null,
   "metadata": {},
   "outputs": [],
   "source": [
    "from scipy.stats import norm\n",
    "\n",
    "def mse(true_y, covs, areas, chains):\n",
    "    niter = len(chains)\n",
    "    preds = np.zeros((niter, len(true_y)))\n",
    "\n",
    "    numGroups = len(chains[0].groupParams)\n",
    "    num_components = chains[0].num_components\n",
    "\n",
    "    means_chain = np.vstack(\n",
    "        [list(map(lambda x: x.mean, state.atoms)) for state in chains])\n",
    "\n",
    "    stdevs_chain = np.vstack(\n",
    "        [list(map(lambda x: x.stdev, state.atoms)) for state in chains])\n",
    "\n",
    "    regressor_chains = np.vstack(\n",
    "        [state.regression_coefficients for state in chains])\n",
    "\n",
    "\n",
    "    weights_chains = []\n",
    "    for g in range(numGroups):\n",
    "        weights_chains.append(np.vstack(\n",
    "            [state.groupParams[g].weights for state in chains]))\n",
    "    weights_chains = np.stack(weights_chains, axis=-1)\n",
    "\n",
    "    for i in range(niter):\n",
    "        means = np.dot(covs, regressor_chains[i, :])\n",
    "        clusters = np.apply_along_axis(lambda x: np.random.choice(\n",
    "            range(10), p=x), -1, weights_chains[i, :, areas])\n",
    "        errs = norm.rvs(\n",
    "            loc=means_chain[i, clusters], scale=stdevs_chain[i, clusters])\n",
    "        preds[i, :] = means + errs\n",
    "\n",
    "    predmean = np.mean(preds, axis=0)\n",
    "    return np.sum((predmean - true_y)) ** 2"
   ]
  },
  {
   "cell_type": "code",
   "execution_count": null,
   "metadata": {},
   "outputs": [],
   "source": [
    "mse(datas[\"y\"][0], covariates_by_group[0], np.ones(len(datas[\"y\"][0]), dtype=np.int32)  * 10, chains)"
   ]
  },
  {
   "cell_type": "code",
   "execution_count": null,
   "metadata": {},
   "outputs": [],
   "source": [
    "mse(datas[\"y\"][0], covariates_by_group[0], np.zeros(len(datas[\"y\"][0]), dtype=np.int32), chains)"
   ]
  },
  {
   "cell_type": "markdown",
   "metadata": {},
   "source": [
    "## Create DataFrame for CrossValidation"
   ]
  },
  {
   "cell_type": "code",
   "execution_count": null,
   "metadata": {},
   "outputs": [],
   "source": [
    "import pandas as pd\n",
    "\n",
    "df = None\n",
    "colnames = [\"group\", \"response\"] + [\"cov_{0}\".format(i) for i in range(covariates_by_group[0].shape[1])]\n",
    "for i in range(len(datas[\"y\"])):\n",
    "    group = np.ones(len(datas[\"y\"][i])) * i\n",
    "    currDf = np.hstack([\n",
    "        group.reshape(-1, 1), \n",
    "        datas[\"y\"][i].reshape(-1, 1), \n",
    "        covariates_by_group[i]])\n",
    "    currDf = pd.DataFrame(currDf, columns=colnames)\n",
    "    if df is None:\n",
    "        df = currDf\n",
    "    else:\n",
    "        df = pd.concat([df, currDf])"
   ]
  },
  {
   "cell_type": "code",
   "execution_count": null,
   "metadata": {},
   "outputs": [],
   "source": [
    "df.to_csv(\"data/amsterdam.csv\")"
   ]
  },
  {
   "cell_type": "code",
   "execution_count": null,
   "metadata": {},
   "outputs": [],
   "source": [
    "np.savetxt(\"data/gmat.txt\", datas[\"G\"])"
   ]
  },
  {
   "cell_type": "markdown",
   "metadata": {},
   "source": [
    "# boxplots"
   ]
  },
  {
   "cell_type": "code",
   "execution_count": null,
   "metadata": {},
   "outputs": [],
   "source": [
    "import pickle\n",
    "import pandas as pd\n",
    "\n",
    "with open(\"data/cross_val.pickle\", \"rb\") as fp:\n",
    "    cross_val_scores = pickle.load(fp)"
   ]
  },
  {
   "cell_type": "code",
   "execution_count": null,
   "metadata": {},
   "outputs": [],
   "source": [
    "import matplotlib\n",
    "import matplotlib.colors as mcolors\n",
    "\n",
    "colors = [\n",
    "    matplotlib.colors.to_rgba(mcolors.CSS4_COLORS[\"steelblue\"]),\n",
    "    matplotlib.colors.to_rgba(mcolors.CSS4_COLORS[\"orange\"]), \n",
    "    matplotlib.colors.to_rgba(mcolors.CSS4_COLORS[\"green\"]),\n",
    "    matplotlib.colors.to_rgba(mcolors.CSS4_COLORS[\"red\"])]"
   ]
  },
  {
   "cell_type": "code",
   "execution_count": null,
   "metadata": {},
   "outputs": [],
   "source": [
    "import seaborn as sns\n",
    "import matplotlib.pyplot as plt\n",
    "\n",
    "cv_df = pd.DataFrame(cross_val_scores)\n",
    "cv_df = pd.melt(cv_df)\n",
    "cv_df.columns = [\"H\", \"MSE\"]\n",
    "\n",
    "sns.set(font_scale=1.2)\n",
    "sns.set_style(\"whitegrid\")\n",
    "sns.boxplot(x=\"H\", y=\"MSE\", data=cv_df, palette=colors)\n",
    "plt.tight_layout()\n",
    "plt.savefig(\"mse_boxplots.pdf\")"
   ]
  }
 ],
 "metadata": {
  "kernelspec": {
   "display_name": "Python 3",
   "language": "python",
   "name": "python3"
  },
  "language_info": {
   "codemirror_mode": {
    "name": "ipython",
    "version": 3
   },
   "file_extension": ".py",
   "mimetype": "text/x-python",
   "name": "python",
   "nbconvert_exporter": "python",
   "pygments_lexer": "ipython3",
   "version": "3.8.0"
  }
 },
 "nbformat": 4,
 "nbformat_minor": 4
}

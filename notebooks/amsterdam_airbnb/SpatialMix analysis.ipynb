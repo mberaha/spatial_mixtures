{
 "cells": [
  {
   "cell_type": "code",
   "execution_count": 1,
   "metadata": {},
   "outputs": [
    {
     "data": {
      "text/plain": [
       "'/home/mario/PhD/spatial_lda'"
      ]
     },
     "execution_count": 1,
     "metadata": {},
     "output_type": "execute_result"
    }
   ],
   "source": [
    "import os\n",
    "\n",
    "os.chdir(\"../..\")\n",
    "os.getcwd()"
   ]
  },
  {
   "cell_type": "code",
   "execution_count": 2,
   "metadata": {},
   "outputs": [],
   "source": [
    "import pickle\n",
    "import numpy as np\n",
    "import pandas as pd\n",
    "import matplotlib.pyplot as plt\n",
    "\n",
    "import subprocess\n",
    "import pymc3 as pm\n",
    "import seaborn as sns\n",
    "\n",
    "from spatial_mix.utils import *\n",
    "from spatial_mix.protos.py.univariate_mixture_state_pb2 import UnivariateState, UnivariateMixtureState, HdpState\n",
    "\n",
    "current_palette = sns.color_palette()"
   ]
  },
  {
   "cell_type": "code",
   "execution_count": 3,
   "metadata": {},
   "outputs": [],
   "source": [
    "with open(\"notebooks/amsterdam_airbnb/amsterdam.pkl\", \"rb\") as fp:\n",
    "    datas = pickle.load(fp)"
   ]
  },
  {
   "cell_type": "code",
   "execution_count": 4,
   "metadata": {},
   "outputs": [
    {
     "data": {
      "text/plain": [
       "dict_keys(['y', 'G', 'neigh_names', 'cov'])"
      ]
     },
     "execution_count": 4,
     "metadata": {},
     "output_type": "execute_result"
    }
   ],
   "source": [
    "datas.keys()"
   ]
  },
  {
   "cell_type": "code",
   "execution_count": 5,
   "metadata": {},
   "outputs": [
    {
     "data": {
      "text/plain": [
       "<matplotlib.image.AxesImage at 0x7f4200c7ec18>"
      ]
     },
     "execution_count": 5,
     "metadata": {},
     "output_type": "execute_result"
    },
    {
     "data": {
      "image/png": "[encoded data removed]",
      "text/plain": [
       "<Figure size 432x288 with 1 Axes>"
      ]
     },
     "metadata": {
      "needs_background": "light"
     },
     "output_type": "display_data"
    }
   ],
   "source": [
    "plt.imshow(datas[\"G\"])"
   ]
  },
  {
   "cell_type": "code",
   "execution_count": 8,
   "metadata": {},
   "outputs": [],
   "source": [
    "covariates = [\"host_is_superhost\", \"accommodates\", \"bathrooms\", \"bedrooms\", \"number_of_reviews\", \"review_scores_rating\", \"instant_bookable\"]"
   ]
  },
  {
   "cell_type": "code",
   "execution_count": 9,
   "metadata": {},
   "outputs": [],
   "source": [
    "covariates_by_group = []\n",
    "for i, cov in enumerate(datas[\"cov\"]):      \n",
    "    curr = cov[covariates]\n",
    "    if(curr.isna().sum().sum()):\n",
    "        print(\"Nans in group {0}\".format(i))\n",
    "        \n",
    "    curr.loc[:, \"host_is_superhost\"] = (curr[\"host_is_superhost\"]==\"t\").astype(int).values\n",
    "    curr.loc[:, \"instant_bookable\"] = (curr[\"instant_bookable\"]==\"t\").astype(int).values\n",
    "    covariates_by_group.append(curr.values)"
   ]
  },
  {
   "cell_type": "code",
   "execution_count": 17,
   "metadata": {},
   "outputs": [
    {
     "name": "stdout",
     "output_type": "stream",
     "text": [
      "error in  2\n",
      "datas:  1005  covariates 1006\n",
      "error in  4\n",
      "datas:  1478  covariates 1483\n",
      "error in  5\n",
      "datas:  1884  covariates 1900\n",
      "error in  6\n",
      "datas:  129  covariates 130\n",
      "error in  7\n",
      "datas:  2990  covariates 2994\n",
      "error in  8\n",
      "datas:  2134  covariates 2136\n",
      "error in  13\n",
      "datas:  322  covariates 323\n",
      "error in  16\n",
      "datas:  525  covariates 527\n",
      "error in  20\n",
      "datas:  1288  covariates 1290\n",
      "error in  21\n",
      "datas:  1169  covariates 1175\n"
     ]
    }
   ],
   "source": [
    "for i in range(len(covariates_by_group)):\n",
    "    if len(datas[\"y\"][i]) != covariates_by_group[i].shape[0]:\n",
    "        print(\"error in \", i)\n",
    "        print(\"datas: \", len(datas[\"y\"][i]), \" covariates\", covariates_by_group[i].shape[0])"
   ]
  },
  {
   "cell_type": "code",
   "execution_count": 13,
   "metadata": {},
   "outputs": [
    {
     "data": {
      "text/plain": [
       "91"
      ]
     },
     "execution_count": 13,
     "metadata": {},
     "output_type": "execute_result"
    }
   ],
   "source": [
    "len(datas[\"y\"][0])"
   ]
  },
  {
   "cell_type": "code",
   "execution_count": 15,
   "metadata": {},
   "outputs": [
    {
     "data": {
      "text/plain": [
       "91"
      ]
     },
     "execution_count": 15,
     "metadata": {},
     "output_type": "execute_result"
    }
   ],
   "source": [
    "covariates_by_group[0].shape[0]"
   ]
  },
  {
   "cell_type": "code",
   "execution_count": null,
   "metadata": {},
   "outputs": [],
   "source": [
    "chains = runSpatialMixtureSampler(\n",
    "    10000, 10000, 5, datas[\"G\"], \n",
    "    \"spatial_mix/resources/sampler_params.asciipb\",\n",
    "    datas[\"y\"], covariates_by_group)"
   ]
  },
  {
   "cell_type": "code",
   "execution_count": null,
   "metadata": {},
   "outputs": [],
   "source": []
  }
 ],
 "metadata": {
  "kernelspec": {
   "display_name": "Python 3",
   "language": "python",
   "name": "python3"
  },
  "language_info": {
   "codemirror_mode": {
    "name": "ipython",
    "version": 3
   },
   "file_extension": ".py",
   "mimetype": "text/x-python",
   "name": "python",
   "nbconvert_exporter": "python",
   "pygments_lexer": "ipython3",
   "version": "3.6.8"
  }
 },
 "nbformat": 4,
 "nbformat_minor": 4
}

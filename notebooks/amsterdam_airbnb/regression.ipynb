{
 "cells": [
  {
   "cell_type": "code",
   "execution_count": 6,
   "metadata": {},
   "outputs": [],
   "source": [
    "import pickle\n",
    "import numpy as np\n",
    "import pandas as pd\n",
    "import matplotlib.pyplot as plt\n",
    "\n",
    "import subprocess\n",
    "import pymc3 as pm\n",
    "import seaborn as sns"
   ]
  },
  {
   "cell_type": "code",
   "execution_count": 4,
   "metadata": {},
   "outputs": [
    {
     "data": {
      "text/plain": [
       "'/home/mario/PhD/spatial_lda'"
      ]
     },
     "execution_count": 4,
     "metadata": {},
     "output_type": "execute_result"
    }
   ],
   "source": [
    "import os\n",
    "\n",
    "os.chdir(\"../..\")\n",
    "os.getcwd()"
   ]
  },
  {
   "cell_type": "code",
   "execution_count": 2,
   "metadata": {},
   "outputs": [],
   "source": [
    "covariates = [\"host_is_superhost\", \"accommodates\", \"bathrooms\", \"bedrooms\", \n",
    "              \"number_of_reviews\", \"review_scores_rating\", \"instant_bookable\"]"
   ]
  },
  {
   "cell_type": "code",
   "execution_count": 7,
   "metadata": {},
   "outputs": [],
   "source": [
    "with open(\"data/amsterdam.pkl\", \"rb\") as fp:\n",
    "    datas = pickle.load(fp)"
   ]
  },
  {
   "cell_type": "code",
   "execution_count": 8,
   "metadata": {},
   "outputs": [],
   "source": [
    "covariates_by_group = []\n",
    "for i, cov in enumerate(datas[\"cov\"]):      \n",
    "    currDf = cov[covariates].copy()\n",
    "    if(currDf.isna().sum().sum()):\n",
    "        print(\"Nans in group {0}\".format(i))\n",
    "    \n",
    "    currDf[\"host_is_superhost\"] = currDf[\"host_is_superhost\"].apply(lambda x: int(x == \"t\"))\n",
    "    currDf[\"instant_bookable\"] = currDf[\"instant_bookable\"].apply(lambda x: int(x == \"t\"))\n",
    "    \n",
    "    curr = currDf.values.astype(np.float)\n",
    "    covariates_by_group.append(curr)"
   ]
  },
  {
   "cell_type": "code",
   "execution_count": 14,
   "metadata": {},
   "outputs": [],
   "source": [
    "X = np.vstack(covariates_by_group)\n",
    "X = np.hstack([np.ones(X.shape[0]).reshape(-1, 1), X])\n",
    "Y = np.concatenate(datas[\"y\"])"
   ]
  },
  {
   "cell_type": "code",
   "execution_count": 25,
   "metadata": {},
   "outputs": [],
   "source": [
    "mu0 = np.zeros(X.shape[1])\n",
    "lambda0 = np.ones((X.shape[1], X.shape[1])) * 0.01\n",
    "a = b = 1.0\n",
    "\n",
    "xtx = np.matmul(X.T, X)\n",
    "betahat = np.linalg.solve(xtx, np.matmul(X.T, Y))\n",
    "lambda_n = (xtx + lambda0)\n",
    "mu_n = np.linalg.solve(\n",
    "    lambda_n, np.matmul(xtx, betahat) + np.matmul(lambda0, mu0))\n",
    "an = a + len(Y) / 2\n",
    "bn = b + 0.5 * (\n",
    "    np.linalg.norm(Y) ** 2 + \n",
    "    np.matmul(mu0.T, np.matmul(lambda0, mu0)) -\n",
    "    np.matmul(mu_n.T, np.matmul(lambda_n, mu_n))\n",
    ")"
   ]
  },
  {
   "cell_type": "code",
   "execution_count": 58,
   "metadata": {},
   "outputs": [],
   "source": [
    "from scipy.stats import invgamma, norm\n",
    "from scipy.stats import multivariate_normal as mvn\n",
    "\n",
    "lambda_n_inv = np.linalg.inv(lambda_n)\n",
    "\n",
    "var_samples = invgamma.rvs(an, scale=bn, size=1000)\n",
    "beta_samples = np.vstack(\n",
    "    [mvn.rvs(mu_n, lambda_n_inv * var) for var in var_samples])"
   ]
  },
  {
   "cell_type": "code",
   "execution_count": 59,
   "metadata": {},
   "outputs": [],
   "source": [
    "mean_samples = np.einsum(\"nk,rk->nr\", X, beta_samples).T"
   ]
  },
  {
   "cell_type": "code",
   "execution_count": 67,
   "metadata": {},
   "outputs": [],
   "source": [
    "eval_dens = np.zeros_like(mean_samples)\n",
    "for r in range(mean_samples.shape[0]):\n",
    "    eval_dens[r, :] = norm.pdf(Y, loc=mean_samples[r, :], scale=np.sqrt(var_samples[r]))"
   ]
  },
  {
   "cell_type": "code",
   "execution_count": 68,
   "metadata": {},
   "outputs": [],
   "source": [
    "from spatial_mix.utils import *"
   ]
  },
  {
   "cell_type": "code",
   "execution_count": 72,
   "metadata": {},
   "outputs": [
    {
     "data": {
      "text/plain": [
       "-101729.59719768849"
      ]
     },
     "execution_count": 72,
     "metadata": {},
     "output_type": "execute_result"
    }
   ],
   "source": [
    "lpml(eval_dens) - 3000"
   ]
  },
  {
   "cell_type": "code",
   "execution_count": 77,
   "metadata": {},
   "outputs": [
    {
     "data": {
      "text/plain": [
       "-100001.0"
      ]
     },
     "execution_count": 77,
     "metadata": {},
     "output_type": "execute_result"
    }
   ],
   "source": [
    "-1e5 - 1"
   ]
  },
  {
   "cell_type": "code",
   "execution_count": 73,
   "metadata": {},
   "outputs": [
    {
     "data": {
      "text/plain": [
       "203459.26709961396"
      ]
     },
     "execution_count": 73,
     "metadata": {},
     "output_type": "execute_result"
    }
   ],
   "source": [
    "(waic(eval_dens) - 3000) * (-2)"
   ]
  }
 ],
 "metadata": {
  "kernelspec": {
   "display_name": "Python 3",
   "language": "python",
   "name": "python3"
  },
  "language_info": {
   "codemirror_mode": {
    "name": "ipython",
    "version": 3
   },
   "file_extension": ".py",
   "mimetype": "text/x-python",
   "name": "python",
   "nbconvert_exporter": "python",
   "pygments_lexer": "ipython3",
   "version": "3.8.0"
  }
 },
 "nbformat": 4,
 "nbformat_minor": 2
}

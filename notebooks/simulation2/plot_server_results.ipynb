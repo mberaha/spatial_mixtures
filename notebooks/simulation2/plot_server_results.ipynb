{
 "cells": [
  {
   "cell_type": "code",
   "execution_count": 1,
   "metadata": {},
   "outputs": [],
   "source": [
    "# TO BE RUN ONLY ONCE!\n",
    "import os\n",
    "os.chdir(\"../..\")"
   ]
  },
  {
   "cell_type": "code",
   "execution_count": 2,
   "metadata": {},
   "outputs": [],
   "source": [
    "import numpy as np\n",
    "import pandas as pd\n",
    "import pickle \n",
    "import matplotlib.pyplot as plt\n",
    "\n",
    "import subprocess\n",
    "import pymc3 as pm\n",
    "import seaborn as sns\n",
    "\n",
    "import spatial_mix.hdp_utils as hdp_utils\n",
    "from spatial_mix.utils import *\n",
    "from spatial_mix.protos.py.univariate_mixture_state_pb2 import UnivariateState, UnivariateMixtureState, HdpState\n",
    "\n",
    "current_palette = sns.color_palette()"
   ]
  },
  {
   "cell_type": "code",
   "execution_count": 3,
   "metadata": {},
   "outputs": [],
   "source": [
    "nX = [2, 4, 8, 16]\n",
    "num_areas = [n**2 for n in nX]"
   ]
  },
  {
   "cell_type": "code",
   "execution_count": 4,
   "metadata": {},
   "outputs": [],
   "source": [
    "# load data\n",
    "data_path = \"data/simulation2/simulation2_server\"\n",
    "\n",
    "# import execution times\n",
    "with open(os.path.join(data_path, 'times.pickle'), \"rb\") as fp:\n",
    "    times = pickle.load(fp)"
   ]
  },
  {
   "cell_type": "code",
   "execution_count": 5,
   "metadata": {},
   "outputs": [
    {
     "data": {
      "text/plain": [
       "{'sp_times': array([[0.00495243, 0.0016911 , 0.00161624, 0.00161505, 0.00144339,\n",
       "         0.00153589, 0.00153661, 0.00165105, 0.00166941, 0.0018909 ],\n",
       "        [0.00387287, 0.00328135, 0.00277305, 0.00295877, 0.002424  ,\n",
       "         0.00308061, 0.00252652, 0.00308084, 0.0036881 , 0.00266385],\n",
       "        [0.00426745, 0.00557017, 0.00572395, 0.00564003, 0.00538659,\n",
       "         0.00528669, 0.00549364, 0.00558162, 0.00581408, 0.00526834],\n",
       "        [0.02518702, 0.02025795, 0.02099514, 0.01458454, 0.00746608,\n",
       "         0.0220108 , 0.00627279, 0.0070219 , 0.00778413, 0.00591731],\n",
       "        [0.00611496, 0.0087707 , 0.01919079, 0.01661134, 0.00567007,\n",
       "         0.00692272, 0.01667809, 0.00713015, 0.00604534, 0.00558138]]),\n",
       " 'hdp_times': array([[0.00193548, 0.00176096, 0.00169516, 0.00165606, 0.00148225,\n",
       "         0.00153279, 0.00153947, 0.00160551, 0.00167274, 0.00218344],\n",
       "        [0.00370049, 0.00234246, 0.00239444, 0.00236416, 0.00239587,\n",
       "         0.0024066 , 0.0024488 , 0.00240827, 0.00258732, 0.00239372],\n",
       "        [0.0025959 , 0.00251603, 0.00267506, 0.00255632, 0.0046432 ,\n",
       "         0.00260735, 0.00526619, 0.00261068, 0.00272274, 0.00272608],\n",
       "        [0.00304651, 0.00310349, 0.00473976, 0.00572944, 0.00565481,\n",
       "         0.0071907 , 0.01959419, 0.00669384, 0.006181  , 0.00570273],\n",
       "        [0.00347757, 0.00323296, 0.00382972, 0.00614405, 0.01851463,\n",
       "         0.02112699, 0.00619507, 0.00711679, 0.02135587, 0.01869082]])}"
      ]
     },
     "execution_count": 5,
     "metadata": {},
     "output_type": "execute_result"
    }
   ],
   "source": [
    "times"
   ]
  },
  {
   "cell_type": "code",
   "execution_count": 6,
   "metadata": {
    "scrolled": true
   },
   "outputs": [
    {
     "data": {
      "image/png": "[encoded data removed]",
      "text/plain": [
       "<Figure size 432x288 with 1 Axes>"
      ]
     },
     "metadata": {
      "needs_background": "light"
     },
     "output_type": "display_data"
    }
   ],
   "source": [
    "sp = pd.DataFrame(times['sp_times'].T[: ,:-1],\n",
    "                  columns=num_areas)\n",
    "sp = pd.melt(sp, value_vars=sp.columns, var_name='num_areas', value_name='error')\n",
    "sp['Method'] = ['spmix']*sp.shape[0]\n",
    "\n",
    "hdp = pd.DataFrame(times['hdp_times'].T[: ,:-1],\n",
    "                   columns=num_areas)\n",
    "hdp = pd.melt(hdp, value_vars=hdp.columns, var_name='num_areas', value_name='error')\n",
    "hdp['Method'] = ['hdp']*hdp.shape[0]\n",
    "\n",
    "# join dataframe\n",
    "plt_data = pd.concat([sp, hdp], axis=0)\n",
    "\n",
    "ax = sns.boxplot(x=\"num_areas\", y=\"error\",\n",
    "            hue=\"Method\", palette=['#1f77b4', '#ff7f0e'],\n",
    "            data=plt_data)\n",
    "ax.set_xlabel('Number of areas')\n",
    "ax.set_ylabel('Average error')\n",
    "plt.savefig('times.pdf')\n",
    "plt.show()\n",
    "\n"
   ]
  },
  {
   "cell_type": "markdown",
   "metadata": {},
   "source": [
    "## Errors"
   ]
  },
  {
   "cell_type": "code",
   "execution_count": 7,
   "metadata": {},
   "outputs": [],
   "source": [
    "### KL divergence"
   ]
  },
  {
   "cell_type": "code",
   "execution_count": 8,
   "metadata": {},
   "outputs": [],
   "source": [
    "# import errors\n",
    "num_samples = 10\n",
    "errors = {}\n",
    "names = ['spmix', 'hdp']\n",
    "errors['spmix'] = np.zeros((len(num_areas), num_samples))\n",
    "errors['hdp'] = np.zeros((len(num_areas), num_samples))\n",
    "\n",
    "for n in names:\n",
    "    for i, a in enumerate(num_areas):\n",
    "        for j in range(num_samples):\n",
    "            file_name = os.path.join(data_path, n + '/dens/areas'+str(a)+'/'+str(j)+'.pickle')\n",
    "            with open(file_name, \"rb\") as fp:\n",
    "                e = pickle.load(fp)\n",
    "                errors[n][i, j] = np.mean([t[2] for t in e['kl_divs']])"
   ]
  },
  {
   "cell_type": "code",
   "execution_count": 9,
   "metadata": {
    "scrolled": true
   },
   "outputs": [
    {
     "data": {
      "image/png": "[encoded data removed]",
      "text/plain": [
       "<Figure size 432x288 with 1 Axes>"
      ]
     },
     "metadata": {
      "needs_background": "light"
     },
     "output_type": "display_data"
    }
   ],
   "source": [
    "import seaborn as sns\n",
    "\n",
    "sp = pd.DataFrame(errors['spmix'].T,\n",
    "                  columns=num_areas)\n",
    "sp = pd.melt(sp, value_vars=sp.columns, var_name='num_areas', value_name='error')\n",
    "sp['Method'] = ['spmix']*sp.shape[0]\n",
    "\n",
    "hdp = pd.DataFrame(errors['hdp'].T,\n",
    "                   columns=num_areas)\n",
    "hdp = pd.melt(hdp, value_vars=hdp.columns, var_name='num_areas', value_name='error')\n",
    "hdp['Method'] = ['hdp']*hdp.shape[0]\n",
    "\n",
    "# join dataframe\n",
    "plt_data = pd.concat([sp, hdp], axis=0)\n",
    "\n",
    "ax = sns.boxplot(x=\"num_areas\", y=\"error\",\n",
    "            hue=\"Method\", palette=['#1f77b4', '#ff7f0e'],\n",
    "            data=plt_data)\n",
    "ax.set_xlabel('Number of areas')\n",
    "ax.set_ylabel('Average error')\n",
    "plt.savefig('kl_errors_sim2.pdf')\n",
    "plt.show()"
   ]
  },
  {
   "cell_type": "markdown",
   "metadata": {},
   "source": [
    "### Hellinger distance"
   ]
  },
  {
   "cell_type": "code",
   "execution_count": 10,
   "metadata": {},
   "outputs": [],
   "source": [
    "# import errors\n",
    "num_samples = 10\n",
    "errors = {}\n",
    "names = ['spmix', 'hdp']\n",
    "errors['spmix'] = np.zeros((len(num_areas), num_samples))\n",
    "errors['hdp'] = np.zeros((len(num_areas), num_samples))\n",
    "\n",
    "for n in names:\n",
    "    for i, a in enumerate(num_areas):\n",
    "        for j in range(num_samples):\n",
    "            file_name = os.path.join(data_path, n + '/dens/areas'+str(a)+'/'+str(j)+'.pickle')\n",
    "            with open(file_name, \"rb\") as fp:\n",
    "                e = pickle.load(fp)\n",
    "                errors[n][i, j] = np.mean([t[2] for t in e['hell_dist']])"
   ]
  },
  {
   "cell_type": "code",
   "execution_count": 11,
   "metadata": {},
   "outputs": [
    {
     "data": {
      "image/png": "[encoded data removed]",
      "text/plain": [
       "<Figure size 432x288 with 1 Axes>"
      ]
     },
     "metadata": {
      "needs_background": "light"
     },
     "output_type": "display_data"
    }
   ],
   "source": [
    "import seaborn as sns\n",
    "\n",
    "sp = pd.DataFrame(errors['spmix'].T,\n",
    "                  columns=num_areas)\n",
    "sp = pd.melt(sp, value_vars=sp.columns, var_name='num_areas', value_name='error')\n",
    "sp['Method'] = ['spmix']*sp.shape[0]\n",
    "\n",
    "hdp = pd.DataFrame(errors['hdp'].T,\n",
    "                   columns=num_areas)\n",
    "hdp = pd.melt(hdp, value_vars=hdp.columns, var_name='num_areas', value_name='error')\n",
    "hdp['Method'] = ['hdp']*hdp.shape[0]\n",
    "\n",
    "# join dataframe\n",
    "plt_data = pd.concat([sp, hdp], axis=0)\n",
    "\n",
    "ax = sns.boxplot(x=\"num_areas\", y=\"error\",\n",
    "            hue=\"Method\", palette=['#1f77b4', '#ff7f0e'],\n",
    "            data=plt_data)\n",
    "ax.set_xlabel('Number of areas')\n",
    "ax.set_ylabel('Average error')\n",
    "plt.savefig('hellinger_errors_sim2.pdf')\n",
    "\n",
    "plt.show()"
   ]
  },
  {
   "cell_type": "code",
   "execution_count": null,
   "metadata": {},
   "outputs": [],
   "source": []
  },
  {
   "cell_type": "code",
   "execution_count": null,
   "metadata": {},
   "outputs": [],
   "source": []
  }
 ],
 "metadata": {
  "kernelspec": {
   "display_name": "Python 3",
   "language": "python",
   "name": "python3"
  },
  "language_info": {
   "codemirror_mode": {
    "name": "ipython",
    "version": 3
   },
   "file_extension": ".py",
   "mimetype": "text/x-python",
   "name": "python",
   "nbconvert_exporter": "python",
   "pygments_lexer": "ipython3",
   "version": "3.6.9"
  }
 },
 "nbformat": 4,
 "nbformat_minor": 2
}

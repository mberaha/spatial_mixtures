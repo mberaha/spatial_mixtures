{
 "cells": [
  {
   "cell_type": "code",
   "execution_count": 1,
   "metadata": {},
   "outputs": [],
   "source": [
    "# TO BE RUN ONLY ONCE!\n",
    "import os\n",
    "os.chdir(\"../..\")"
   ]
  },
  {
   "cell_type": "code",
   "execution_count": 2,
   "metadata": {},
   "outputs": [],
   "source": [
    "import numpy as np\n",
    "import pandas as pd\n",
    "import pickle \n",
    "import matplotlib.pyplot as plt\n",
    "\n",
    "import subprocess\n",
    "import pymc3 as pm\n",
    "import seaborn as sns\n",
    "\n",
    "import spatial_mix.hdp_utils as hdp_utils\n",
    "from spatial_mix.utils import *\n",
    "from spatial_mix.protos.py.univariate_mixture_state_pb2 import UnivariateState, UnivariateMixtureState, HdpState\n",
    "\n",
    "current_palette = sns.color_palette()"
   ]
  },
  {
   "cell_type": "code",
   "execution_count": 30,
   "metadata": {},
   "outputs": [],
   "source": [
    "nX = [2, 4, 8, 16]\n",
    "num_areas = [n**2 for n in nX]\n",
    "num_samples = 10\n",
    "valid_indices = np.array([0, 2, 3]) # per rimuovere il 16, che è il secondo"
   ]
  },
  {
   "cell_type": "code",
   "execution_count": 31,
   "metadata": {},
   "outputs": [],
   "source": [
    "# load data\n",
    "data_path = \"data/simulation2/server\"\n",
    "\n",
    "times_sp= np.zeros((len(num_areas), num_samples))\n",
    "# import execution times\n",
    "for i in valid_indices:\n",
    "    for j in range(num_samples):\n",
    "        try:\n",
    "            with open(os.path.join(data_path, 'sp_time_'+str(i)+'_'+str(j)), \"rb\") as fp:\n",
    "                times_sp[i, j] = pickle.load(fp)['time']\n",
    "        except:\n",
    "            times_sp[i, j] = np.nan\n",
    "\n",
    "times_hdp = np.zeros((len(num_areas), num_samples))\n",
    "# import execution times\n",
    "for i in valid_indices:\n",
    "    for j in range(num_samples):\n",
    "        try:\n",
    "            with open(os.path.join(data_path, 'hdp_time_'+str(i)+'_'+str(j)), \"rb\") as fp:\n",
    "                times_hdp[i, j] = pickle.load(fp)['time']\n",
    "        except:\n",
    "            times_hdp[i, j] = np.nan"
   ]
  },
  {
   "cell_type": "code",
   "execution_count": 35,
   "metadata": {
    "scrolled": false
   },
   "outputs": [
    {
     "data": {
      "image/png": "[encoded data removed]",
      "text/plain": [
       "<Figure size 432x288 with 1 Axes>"
      ]
     },
     "metadata": {
      "needs_background": "light"
     },
     "output_type": "display_data"
    }
   ],
   "source": [
    "sp = pd.DataFrame(times_sp.T[:, valid_indices],\n",
    "                  columns=[num_areas[i] for i in valid_indices])\n",
    "sp = pd.melt(sp, value_vars=sp.columns, var_name='num_areas', value_name='error')\n",
    "sp['Method'] = ['spmix']*sp.shape[0]\n",
    "\n",
    "hdp = pd.DataFrame(times_hdp.T[:, valid_indices],\n",
    "                   columns=[num_areas[i] for i in valid_indices])\n",
    "hdp = pd.melt(hdp, value_vars=hdp.columns, var_name='num_areas', value_name='error')\n",
    "hdp['Method'] = ['hdp']*hdp.shape[0]\n",
    "\n",
    "# join dataframe\n",
    "plt_data = pd.concat([sp, hdp], axis=0)\n",
    "\n",
    "ax = sns.boxplot(x=\"num_areas\", y=\"error\",\n",
    "            hue=\"Method\", palette=['#1f77b4', '#ff7f0e'],\n",
    "            data=plt_data)\n",
    "ax.set_xlabel('Number of areas')\n",
    "ax.set_ylabel('Execution time')\n",
    "plt.savefig('times_sim2.png')\n",
    "plt.show()\n",
    "\n"
   ]
  },
  {
   "cell_type": "markdown",
   "metadata": {},
   "source": [
    "### zoom"
   ]
  },
  {
   "cell_type": "code",
   "execution_count": 16,
   "metadata": {},
   "outputs": [
    {
     "data": {
      "image/png": "[encoded data removed]",
      "text/plain": [
       "<Figure size 432x288 with 1 Axes>"
      ]
     },
     "metadata": {
      "needs_background": "light"
     },
     "output_type": "display_data"
    }
   ],
   "source": [
    "\n",
    "sp = pd.DataFrame(times_sp.T[:, :-1],\n",
    "                  columns=num_areas[:-1])\n",
    "sp = pd.melt(sp, value_vars=sp.columns, var_name='num_areas', value_name='error')\n",
    "sp['Method'] = ['spmix']*sp.shape[0]\n",
    "\n",
    "hdp = pd.DataFrame(times_hdp.T[:, :-1],\n",
    "                   columns=num_areas[:-1])\n",
    "hdp = pd.melt(hdp, value_vars=hdp.columns, var_name='num_areas', value_name='error')\n",
    "hdp['Method'] = ['hdp']*hdp.shape[0]\n",
    "\n",
    "# join dataframe\n",
    "plt_data = pd.concat([sp, hdp], axis=0)\n",
    "\n",
    "ax = sns.boxplot(x=\"num_areas\", y=\"error\",\n",
    "            hue=\"Method\", palette=['#1f77b4', '#ff7f0e'],\n",
    "            data=plt_data)\n",
    "ax.set_xlabel('Number of areas')\n",
    "ax.set_ylabel('Execution time')\n",
    "plt.savefig('times_sim2_zoom.png')\n",
    "plt.show()"
   ]
  },
  {
   "cell_type": "markdown",
   "metadata": {},
   "source": [
    "## Errors"
   ]
  },
  {
   "cell_type": "code",
   "execution_count": 7,
   "metadata": {},
   "outputs": [],
   "source": [
    "### KL divergence"
   ]
  },
  {
   "cell_type": "code",
   "execution_count": 8,
   "metadata": {},
   "outputs": [],
   "source": [
    "# import errors\n",
    "\n",
    "errors = {}\n",
    "names = ['spmix', 'hdp']\n",
    "errors['spmix'] = np.zeros((len(num_areas), num_samples))\n",
    "errors['hdp'] = np.zeros((len(num_areas), num_samples))\n",
    "\n",
    "for n in names:\n",
    "    for i, a in enumerate(num_areas):\n",
    "        for j in range(num_samples):\n",
    "            file_name = os.path.join(data_path, n + '/dens/areas'+str(a)+'/'+str(j)+'.pickle')\n",
    "            try:\n",
    "                with open(file_name, \"rb\") as fp:\n",
    "                    e = pickle.load(fp)\n",
    "                    errors[n][i, j] = np.mean([t[2] for t in e['kl_divs']])\n",
    "            except:\n",
    "                errors[n][i, j] = np.nan"
   ]
  },
  {
   "cell_type": "code",
   "execution_count": 36,
   "metadata": {
    "scrolled": true
   },
   "outputs": [
    {
     "data": {
      "image/png": "[encoded data removed]",
      "text/plain": [
       "<Figure size 432x288 with 1 Axes>"
      ]
     },
     "metadata": {
      "needs_background": "light"
     },
     "output_type": "display_data"
    }
   ],
   "source": [
    "import seaborn as sns\n",
    "\n",
    "sp = pd.DataFrame(errors['spmix'].T[:, valid_indices],\n",
    "                  columns=[num_areas[i] for i in valid_indices])\n",
    "sp = pd.melt(sp, value_vars=sp.columns, var_name='num_areas', value_name='error')\n",
    "sp['Method'] = ['spmix']*sp.shape[0]\n",
    "\n",
    "hdp = pd.DataFrame(errors['hdp'].T[:, valid_indices],\n",
    "                   columns=[num_areas[i] for i in valid_indices])\n",
    "hdp = pd.melt(hdp, value_vars=hdp.columns, var_name='num_areas', value_name='error')\n",
    "hdp['Method'] = ['hdp']*hdp.shape[0]\n",
    "\n",
    "# join dataframe\n",
    "plt_data = pd.concat([sp, hdp], axis=0)\n",
    "\n",
    "ax = sns.boxplot(x=\"num_areas\", y=\"error\",\n",
    "            hue=\"Method\", palette=['#1f77b4', '#ff7f0e'],\n",
    "            data=plt_data)\n",
    "ax.set_xlabel('Number of areas')\n",
    "ax.set_ylabel('Average error')\n",
    "plt.savefig('kl_errors_sim2.png')\n",
    "plt.show()"
   ]
  },
  {
   "cell_type": "markdown",
   "metadata": {},
   "source": [
    "### Hellinger distance"
   ]
  },
  {
   "cell_type": "code",
   "execution_count": 37,
   "metadata": {},
   "outputs": [],
   "source": [
    "# import errors\n",
    "num_samples = 10\n",
    "errors = {}\n",
    "names = ['spmix', 'hdp']\n",
    "errors['spmix'] = np.zeros((len(num_areas), num_samples))\n",
    "errors['hdp'] = np.zeros((len(num_areas), num_samples))\n",
    "\n",
    "for n in names:\n",
    "    for i, a in enumerate(num_areas):\n",
    "        for j in range(num_samples):\n",
    "            file_name = os.path.join(data_path, n + '/dens/areas'+str(a)+'/'+str(j)+'.pickle')\n",
    "            try:\n",
    "                with open(file_name, \"rb\") as fp:\n",
    "                    e = pickle.load(fp)\n",
    "                    errors[n][i, j] = np.mean([t[2] for t in e['hell_dist']])\n",
    "            except:\n",
    "                errors[n][i, j] = np.nan"
   ]
  },
  {
   "cell_type": "code",
   "execution_count": 38,
   "metadata": {},
   "outputs": [
    {
     "data": {
      "image/png": "[encoded data removed]",
      "text/plain": [
       "<Figure size 432x288 with 1 Axes>"
      ]
     },
     "metadata": {
      "needs_background": "light"
     },
     "output_type": "display_data"
    }
   ],
   "source": [
    "import seaborn as sns\n",
    "\n",
    "sp = pd.DataFrame(errors['spmix'].T[:, valid_indices],\n",
    "                  columns=[num_areas[i] for i in valid_indices])\n",
    "sp = pd.melt(sp, value_vars=sp.columns, var_name='num_areas', value_name='error')\n",
    "sp['Method'] = ['spmix']*sp.shape[0]\n",
    "\n",
    "hdp = pd.DataFrame(errors['hdp'].T[:, valid_indices],\n",
    "                   columns=[num_areas[i] for i in valid_indices])\n",
    "hdp = pd.melt(hdp, value_vars=hdp.columns, var_name='num_areas', value_name='error')\n",
    "hdp['Method'] = ['hdp']*hdp.shape[0]\n",
    "\n",
    "# join dataframe\n",
    "plt_data = pd.concat([sp, hdp], axis=0)\n",
    "\n",
    "ax = sns.boxplot(x=\"num_areas\", y=\"error\",\n",
    "            hue=\"Method\", palette=['#1f77b4', '#ff7f0e'],\n",
    "            data=plt_data)\n",
    "ax.set_xlabel('Number of areas')\n",
    "ax.set_ylabel('Average error')\n",
    "plt.savefig('hellinger_errors_sim2.png')\n",
    "\n",
    "plt.show()"
   ]
  },
  {
   "cell_type": "code",
   "execution_count": null,
   "metadata": {},
   "outputs": [],
   "source": []
  },
  {
   "cell_type": "code",
   "execution_count": null,
   "metadata": {},
   "outputs": [],
   "source": []
  }
 ],
 "metadata": {
  "kernelspec": {
   "display_name": "Python 3",
   "language": "python",
   "name": "python3"
  },
  "language_info": {
   "codemirror_mode": {
    "name": "ipython",
    "version": 3
   },
   "file_extension": ".py",
   "mimetype": "text/x-python",
   "name": "python",
   "nbconvert_exporter": "python",
   "pygments_lexer": "ipython3",
   "version": "3.6.9"
  }
 },
 "nbformat": 4,
 "nbformat_minor": 2
}

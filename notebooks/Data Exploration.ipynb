{
 "cells": [
  {
   "cell_type": "code",
   "execution_count": 22,
   "metadata": {},
   "outputs": [],
   "source": [
    "import pandas as pd\n",
    "import numpy as np\n",
    "import matplotlib.pyplot as plt\n",
    "\n",
    "from collections import defaultdict"
   ]
  },
  {
   "cell_type": "markdown",
   "metadata": {},
   "source": [
    "## Closures By Sex and County \n",
    "https://data.chhs.ca.gov/dataset/vocational-rehabilitation-successful-closures-by-sex-and-county-sfy-2017/resource/7e5d84cb-809f-48f2-ba30-5c62167782b2"
   ]
  },
  {
   "cell_type": "code",
   "execution_count": 2,
   "metadata": {},
   "outputs": [
    {
     "data": {
      "text/html": [
       "<div>\n",
       "<style scoped>\n",
       "    .dataframe tbody tr th:only-of-type {\n",
       "        vertical-align: middle;\n",
       "    }\n",
       "\n",
       "    .dataframe tbody tr th {\n",
       "        vertical-align: top;\n",
       "    }\n",
       "\n",
       "    .dataframe thead th {\n",
       "        text-align: right;\n",
       "    }\n",
       "</style>\n",
       "<table border=\"1\" class=\"dataframe\">\n",
       "  <thead>\n",
       "    <tr style=\"text-align: right;\">\n",
       "      <th></th>\n",
       "      <th>Year</th>\n",
       "      <th>County</th>\n",
       "      <th>Sex</th>\n",
       "      <th>Successful Closures</th>\n",
       "      <th>Annotation Code</th>\n",
       "      <th>Count Annotation Desc</th>\n",
       "      <th>Percent</th>\n",
       "      <th>Percent Annotation Desc</th>\n",
       "    </tr>\n",
       "  </thead>\n",
       "  <tbody>\n",
       "    <tr>\n",
       "      <td>0</td>\n",
       "      <td>2014</td>\n",
       "      <td>Alameda</td>\n",
       "      <td>Female</td>\n",
       "      <td>266</td>\n",
       "      <td>NaN</td>\n",
       "      <td>NaN</td>\n",
       "      <td>NaN</td>\n",
       "      <td>NaN</td>\n",
       "    </tr>\n",
       "    <tr>\n",
       "      <td>1</td>\n",
       "      <td>2014</td>\n",
       "      <td>Alameda</td>\n",
       "      <td>Male</td>\n",
       "      <td>288</td>\n",
       "      <td>NaN</td>\n",
       "      <td>NaN</td>\n",
       "      <td>NaN</td>\n",
       "      <td>NaN</td>\n",
       "    </tr>\n",
       "    <tr>\n",
       "      <td>2</td>\n",
       "      <td>2014</td>\n",
       "      <td>Amador</td>\n",
       "      <td>Male</td>\n",
       "      <td>NaN</td>\n",
       "      <td>1.0</td>\n",
       "      <td>Cell suppressed for small number. A score over...</td>\n",
       "      <td>1.0</td>\n",
       "      <td>This value represents less than or equal to 1 ...</td>\n",
       "    </tr>\n",
       "    <tr>\n",
       "      <td>3</td>\n",
       "      <td>2014</td>\n",
       "      <td>Butte</td>\n",
       "      <td>Female</td>\n",
       "      <td>44</td>\n",
       "      <td>NaN</td>\n",
       "      <td>NaN</td>\n",
       "      <td>NaN</td>\n",
       "      <td>NaN</td>\n",
       "    </tr>\n",
       "    <tr>\n",
       "      <td>4</td>\n",
       "      <td>2014</td>\n",
       "      <td>Butte</td>\n",
       "      <td>Male</td>\n",
       "      <td>69</td>\n",
       "      <td>NaN</td>\n",
       "      <td>NaN</td>\n",
       "      <td>NaN</td>\n",
       "      <td>NaN</td>\n",
       "    </tr>\n",
       "  </tbody>\n",
       "</table>\n",
       "</div>"
      ],
      "text/plain": [
       "   Year   County     Sex Successful Closures  Annotation Code  \\\n",
       "0  2014  Alameda  Female                 266              NaN   \n",
       "1  2014  Alameda    Male                 288              NaN   \n",
       "2  2014   Amador    Male                 NaN              1.0   \n",
       "3  2014    Butte  Female                  44              NaN   \n",
       "4  2014    Butte    Male                  69              NaN   \n",
       "\n",
       "                               Count Annotation Desc  Percent  \\\n",
       "0                                                NaN      NaN   \n",
       "1                                                NaN      NaN   \n",
       "2  Cell suppressed for small number. A score over...      1.0   \n",
       "3                                                NaN      NaN   \n",
       "4                                                NaN      NaN   \n",
       "\n",
       "                             Percent Annotation Desc  \n",
       "0                                                NaN  \n",
       "1                                                NaN  \n",
       "2  This value represents less than or equal to 1 ...  \n",
       "3                                                NaN  \n",
       "4                                                NaN  "
      ]
     },
     "execution_count": 2,
     "metadata": {},
     "output_type": "execute_result"
    }
   ],
   "source": [
    "df = pd.read_csv(\"../data/closures_by_sex_and_county.csv\")\n",
    "df.head()"
   ]
  },
  {
   "cell_type": "markdown",
   "metadata": {},
   "source": [
    "## Hearth attack Payement\n",
    "https://healthdata.gov/dataset/heart-attack-payment-hospital"
   ]
  },
  {
   "cell_type": "code",
   "execution_count": 41,
   "metadata": {},
   "outputs": [
    {
     "data": {
      "text/html": [
       "<div>\n",
       "<style scoped>\n",
       "    .dataframe tbody tr th:only-of-type {\n",
       "        vertical-align: middle;\n",
       "    }\n",
       "\n",
       "    .dataframe tbody tr th {\n",
       "        vertical-align: top;\n",
       "    }\n",
       "\n",
       "    .dataframe thead th {\n",
       "        text-align: right;\n",
       "    }\n",
       "</style>\n",
       "<table border=\"1\" class=\"dataframe\">\n",
       "  <thead>\n",
       "    <tr style=\"text-align: right;\">\n",
       "      <th></th>\n",
       "      <th>Facility ID</th>\n",
       "      <th>Facility Name</th>\n",
       "      <th>Address</th>\n",
       "      <th>City</th>\n",
       "      <th>State</th>\n",
       "      <th>ZIP Code</th>\n",
       "      <th>County name</th>\n",
       "      <th>Phone number</th>\n",
       "      <th>Measure ID</th>\n",
       "      <th>Measure Name</th>\n",
       "      <th>...</th>\n",
       "      <th>Lower estimate</th>\n",
       "      <th>Higher estimate</th>\n",
       "      <th>Payment footnote</th>\n",
       "      <th>Value of care display name</th>\n",
       "      <th>Value of care display ID</th>\n",
       "      <th>Value of care category</th>\n",
       "      <th>Value of care footnote</th>\n",
       "      <th>Start Date</th>\n",
       "      <th>End Date</th>\n",
       "      <th>Location</th>\n",
       "    </tr>\n",
       "  </thead>\n",
       "  <tbody>\n",
       "    <tr>\n",
       "      <td>0</td>\n",
       "      <td>351331</td>\n",
       "      <td>TOWNER COUNTY MEDICAL CENTER</td>\n",
       "      <td>HWY 281 N</td>\n",
       "      <td>CANDO</td>\n",
       "      <td>ND</td>\n",
       "      <td>58324</td>\n",
       "      <td>TOWNER</td>\n",
       "      <td>(701) 968-4411</td>\n",
       "      <td>PAYM_90_HIP_KNEE</td>\n",
       "      <td>Payment for hip/knee replacement patients</td>\n",
       "      <td>...</td>\n",
       "      <td>Not Available</td>\n",
       "      <td>Not Available</td>\n",
       "      <td>5.0</td>\n",
       "      <td>Value of Care hip/knee replacement</td>\n",
       "      <td>COMP_PAYM_90_HIP_KNEE</td>\n",
       "      <td>Not Available</td>\n",
       "      <td>13.0</td>\n",
       "      <td>04/01/2015</td>\n",
       "      <td>03/31/2018</td>\n",
       "      <td>HWY 281 N CANDO, ND 58324</td>\n",
       "    </tr>\n",
       "    <tr>\n",
       "      <td>1</td>\n",
       "      <td>521356</td>\n",
       "      <td>BELLIN HEALTH OCONTO HOSPITAL</td>\n",
       "      <td>820 ARBUTUS AVE</td>\n",
       "      <td>OCONTO</td>\n",
       "      <td>WI</td>\n",
       "      <td>54153</td>\n",
       "      <td>OCONTO</td>\n",
       "      <td>(920) 835-1101</td>\n",
       "      <td>PAYM_30_AMI</td>\n",
       "      <td>Payment for heart attack patients</td>\n",
       "      <td>...</td>\n",
       "      <td>Not Available</td>\n",
       "      <td>Not Available</td>\n",
       "      <td>5.0</td>\n",
       "      <td>Value of Care Heart Attack measure</td>\n",
       "      <td>MORT_PAYM_30_AMI</td>\n",
       "      <td>Not Available</td>\n",
       "      <td>13.0</td>\n",
       "      <td>07/01/2015</td>\n",
       "      <td>06/30/2018</td>\n",
       "      <td>820 ARBUTUS AVE OCONTO, WI 54153 (44.896891, -...</td>\n",
       "    </tr>\n",
       "    <tr>\n",
       "      <td>2</td>\n",
       "      <td>390025</td>\n",
       "      <td>KENSINGTON HOSPITAL</td>\n",
       "      <td>136 W DIAMOND STREET</td>\n",
       "      <td>PHILADELPHIA</td>\n",
       "      <td>PA</td>\n",
       "      <td>19122</td>\n",
       "      <td>PHILADELPHIA</td>\n",
       "      <td>(215) 426-8100</td>\n",
       "      <td>PAYM_30_PN</td>\n",
       "      <td>Payment for pneumonia patients</td>\n",
       "      <td>...</td>\n",
       "      <td>Not Available</td>\n",
       "      <td>Not Available</td>\n",
       "      <td>5.0</td>\n",
       "      <td>Value of Care Pneumonia measure</td>\n",
       "      <td>MORT_PAYM_30_PN</td>\n",
       "      <td>Not Available</td>\n",
       "      <td>13.0</td>\n",
       "      <td>07/01/2015</td>\n",
       "      <td>06/30/2018</td>\n",
       "      <td>136 W DIAMOND STREET PHILADELPHIA, PA 19122</td>\n",
       "    </tr>\n",
       "    <tr>\n",
       "      <td>3</td>\n",
       "      <td>400128</td>\n",
       "      <td>HOSPITAL PAVIA HATO REY, INC</td>\n",
       "      <td>AVE PONCE DE LEON 435</td>\n",
       "      <td>HATO REY</td>\n",
       "      <td>PR</td>\n",
       "      <td>919</td>\n",
       "      <td>SAN JUAN</td>\n",
       "      <td>(787) 754-0909</td>\n",
       "      <td>PAYM_30_HF</td>\n",
       "      <td>Payment for heart failure patients</td>\n",
       "      <td>...</td>\n",
       "      <td>Not Available</td>\n",
       "      <td>Not Available</td>\n",
       "      <td>1.0</td>\n",
       "      <td>Value of Care Heart Failure measur</td>\n",
       "      <td>MORT_PAYM_30_HF</td>\n",
       "      <td>Not Available</td>\n",
       "      <td>13.0</td>\n",
       "      <td>07/01/2015</td>\n",
       "      <td>06/30/2018</td>\n",
       "      <td>AVE PONCE DE LEON 435 HATO REY, PR 00919</td>\n",
       "    </tr>\n",
       "    <tr>\n",
       "      <td>4</td>\n",
       "      <td>141338</td>\n",
       "      <td>MEMORIAL HOSPITAL</td>\n",
       "      <td>1900 STATE ST</td>\n",
       "      <td>CHESTER</td>\n",
       "      <td>IL</td>\n",
       "      <td>62233</td>\n",
       "      <td>RANDOLPH</td>\n",
       "      <td>(618) 826-4581</td>\n",
       "      <td>PAYM_30_PN</td>\n",
       "      <td>Payment for pneumonia patients</td>\n",
       "      <td>...</td>\n",
       "      <td>$12,818</td>\n",
       "      <td>$16,533</td>\n",
       "      <td>NaN</td>\n",
       "      <td>Value of Care Pneumonia measure</td>\n",
       "      <td>MORT_PAYM_30_PN</td>\n",
       "      <td>Worse Mortality and Lower Payment</td>\n",
       "      <td>NaN</td>\n",
       "      <td>07/01/2015</td>\n",
       "      <td>06/30/2018</td>\n",
       "      <td>1900 STATE ST CHESTER, IL 62233 (37.918529, -8...</td>\n",
       "    </tr>\n",
       "  </tbody>\n",
       "</table>\n",
       "<p>5 rows × 23 columns</p>\n",
       "</div>"
      ],
      "text/plain": [
       "   Facility ID                  Facility Name                Address  \\\n",
       "0       351331   TOWNER COUNTY MEDICAL CENTER              HWY 281 N   \n",
       "1       521356  BELLIN HEALTH OCONTO HOSPITAL        820 ARBUTUS AVE   \n",
       "2       390025            KENSINGTON HOSPITAL   136 W DIAMOND STREET   \n",
       "3       400128   HOSPITAL PAVIA HATO REY, INC  AVE PONCE DE LEON 435   \n",
       "4       141338              MEMORIAL HOSPITAL          1900 STATE ST   \n",
       "\n",
       "           City State  ZIP Code   County name    Phone number  \\\n",
       "0         CANDO    ND     58324        TOWNER  (701) 968-4411   \n",
       "1        OCONTO    WI     54153        OCONTO  (920) 835-1101   \n",
       "2  PHILADELPHIA    PA     19122  PHILADELPHIA  (215) 426-8100   \n",
       "3      HATO REY    PR       919      SAN JUAN  (787) 754-0909   \n",
       "4       CHESTER    IL     62233      RANDOLPH  (618) 826-4581   \n",
       "\n",
       "         Measure ID                               Measure Name  ...  \\\n",
       "0  PAYM_90_HIP_KNEE  Payment for hip/knee replacement patients  ...   \n",
       "1       PAYM_30_AMI          Payment for heart attack patients  ...   \n",
       "2        PAYM_30_PN             Payment for pneumonia patients  ...   \n",
       "3        PAYM_30_HF         Payment for heart failure patients  ...   \n",
       "4        PAYM_30_PN             Payment for pneumonia patients  ...   \n",
       "\n",
       "  Lower estimate Higher estimate Payment footnote  \\\n",
       "0  Not Available   Not Available              5.0   \n",
       "1  Not Available   Not Available              5.0   \n",
       "2  Not Available   Not Available              5.0   \n",
       "3  Not Available   Not Available              1.0   \n",
       "4        $12,818         $16,533              NaN   \n",
       "\n",
       "           Value of care display name Value of care display ID  \\\n",
       "0  Value of Care hip/knee replacement    COMP_PAYM_90_HIP_KNEE   \n",
       "1  Value of Care Heart Attack measure         MORT_PAYM_30_AMI   \n",
       "2     Value of Care Pneumonia measure          MORT_PAYM_30_PN   \n",
       "3  Value of Care Heart Failure measur          MORT_PAYM_30_HF   \n",
       "4     Value of Care Pneumonia measure          MORT_PAYM_30_PN   \n",
       "\n",
       "              Value of care category Value of care footnote  Start Date  \\\n",
       "0                      Not Available                   13.0  04/01/2015   \n",
       "1                      Not Available                   13.0  07/01/2015   \n",
       "2                      Not Available                   13.0  07/01/2015   \n",
       "3                      Not Available                   13.0  07/01/2015   \n",
       "4  Worse Mortality and Lower Payment                    NaN  07/01/2015   \n",
       "\n",
       "     End Date                                           Location  \n",
       "0  03/31/2018                          HWY 281 N CANDO, ND 58324  \n",
       "1  06/30/2018  820 ARBUTUS AVE OCONTO, WI 54153 (44.896891, -...  \n",
       "2  06/30/2018        136 W DIAMOND STREET PHILADELPHIA, PA 19122  \n",
       "3  06/30/2018           AVE PONCE DE LEON 435 HATO REY, PR 00919  \n",
       "4  06/30/2018  1900 STATE ST CHESTER, IL 62233 (37.918529, -8...  \n",
       "\n",
       "[5 rows x 23 columns]"
      ]
     },
     "execution_count": 41,
     "metadata": {},
     "output_type": "execute_result"
    }
   ],
   "source": [
    "df = pd.read_csv(\"../data/payement_hearth_attack.csv\")\n",
    "df.head()"
   ]
  },
  {
   "cell_type": "code",
   "execution_count": 59,
   "metadata": {},
   "outputs": [
    {
     "data": {
      "text/plain": [
       "Index(['Facility ID', 'Facility Name', 'Address', 'City', 'State', 'ZIP Code',\n",
       "       'County name', 'Phone number', 'Measure ID', 'Measure Name',\n",
       "       'Payment category', 'Denominator', 'Payment', 'Lower estimate',\n",
       "       'Higher estimate', 'Payment footnote', 'Value of care display name',\n",
       "       'Value of care display ID', 'Value of care category',\n",
       "       'Value of care footnote', 'Start Date', 'End Date', 'Location'],\n",
       "      dtype='object')"
      ]
     },
     "execution_count": 59,
     "metadata": {},
     "output_type": "execute_result"
    }
   ],
   "source": [
    "df.columns"
   ]
  },
  {
   "cell_type": "code",
   "execution_count": 46,
   "metadata": {},
   "outputs": [],
   "source": [
    "df2 = df[df[\"Measure Name\"] == \"Payment for heart attack patients\"]"
   ]
  },
  {
   "cell_type": "code",
   "execution_count": 47,
   "metadata": {},
   "outputs": [],
   "source": [
    "dataByState = defaultdict(list)\n",
    "\n",
    "for state, p in zip(df2[\"State\"].tolist(), df2[\"Payment\"].tolist()):\n",
    "    if p.startswith('$'):\n",
    "        p = int(p[1:].replace(\",\", \"\"))\n",
    "        dataByState[state].append(p)"
   ]
  },
  {
   "cell_type": "code",
   "execution_count": 48,
   "metadata": {},
   "outputs": [
    {
     "data": {
      "text/plain": [
       "(array([ 2.,  7., 14., 17., 22., 12., 14.,  6.,  4.,  1.]),\n",
       " array([21277. , 22114.3, 22951.6, 23788.9, 24626.2, 25463.5, 26300.8,\n",
       "        27138.1, 27975.4, 28812.7, 29650. ]),\n",
       " <a list of 10 Patch objects>)"
      ]
     },
     "execution_count": 48,
     "metadata": {},
     "output_type": "execute_result"
    },
    {
     "data": {
      "image/png": "[encoded data removed]",
      "text/plain": [
       "<Figure size 432x288 with 1 Axes>"
      ]
     },
     "metadata": {},
     "output_type": "display_data"
    }
   ],
   "source": [
    "plt.hist(dataByState[\"IL\"])"
   ]
  },
  {
   "cell_type": "code",
   "execution_count": 51,
   "metadata": {},
   "outputs": [
    {
     "data": {
      "text/plain": [
       "dict_keys(['KY', 'ME', 'TN', 'MA', 'GA', 'PA', 'TX', 'CA', 'OH', 'VA', 'NY', 'KS', 'AL', 'IA', 'WV', 'IL', 'NC', 'WA', 'LA', 'WI', 'FL', 'VT', 'MI', 'NJ', 'NV', 'CO', 'NE', 'MT', 'SC', 'AR', 'IN', 'MD', 'OR', 'DC', 'AZ', 'MS', 'MO', 'HI', 'OK', 'PR', 'UT', 'MN', 'NM', 'WY', 'ID', 'NH', 'CT', 'RI', 'ND', 'SD', 'DE', 'AK', 'VI', 'GU', 'MP'])"
      ]
     },
     "execution_count": 51,
     "metadata": {},
     "output_type": "execute_result"
    }
   ],
   "source": [
    "dataByState.keys()"
   ]
  },
  {
   "cell_type": "code",
   "execution_count": 58,
   "metadata": {},
   "outputs": [
    {
     "data": {
      "text/plain": [
       "(array([ 7.,  9., 20., 29., 15., 22.,  6.,  1.,  4.,  1.]),\n",
       " array([20914., 21845., 22776., 23707., 24638., 25569., 26500., 27431.,\n",
       "        28362., 29293., 30224.]),\n",
       " <a list of 10 Patch objects>)"
      ]
     },
     "execution_count": 58,
     "metadata": {},
     "output_type": "execute_result"
    },
    {
     "data": {
      "image/png": "[encoded data removed]",
      "text/plain": [
       "<Figure size 432x288 with 1 Axes>"
      ]
     },
     "metadata": {},
     "output_type": "display_data"
    }
   ],
   "source": [
    "plt.hist(dataByState[\"NY\"])"
   ]
  },
  {
   "cell_type": "code",
   "execution_count": null,
   "metadata": {},
   "outputs": [],
   "source": []
  }
 ],
 "metadata": {
  "kernelspec": {
   "display_name": "Python 3",
   "language": "python",
   "name": "python3"
  },
  "language_info": {
   "codemirror_mode": {
    "name": "ipython",
    "version": 3
   },
   "file_extension": ".py",
   "mimetype": "text/x-python",
   "name": "python",
   "nbconvert_exporter": "python",
   "pygments_lexer": "ipython3",
   "version": "3.6.8"
  }
 },
 "nbformat": 4,
 "nbformat_minor": 2
}
